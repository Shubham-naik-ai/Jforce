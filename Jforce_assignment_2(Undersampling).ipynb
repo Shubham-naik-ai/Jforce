{
  "nbformat": 4,
  "nbformat_minor": 0,
  "metadata": {
    "colab": {
      "provenance": [],
      "authorship_tag": "ABX9TyODFO6RsGZ5ztFAEwFRvWso",
      "include_colab_link": true
    },
    "kernelspec": {
      "name": "python3",
      "display_name": "Python 3"
    },
    "language_info": {
      "name": "python"
    }
  },
  "cells": [
    {
      "cell_type": "markdown",
      "metadata": {
        "id": "view-in-github",
        "colab_type": "text"
      },
      "source": [
        "<a href=\"https://colab.research.google.com/github/Shubham-naik-ai/Jforce/blob/main/Jforce_assignment_2(Undersampling).ipynb\" target=\"_parent\"><img src=\"https://colab.research.google.com/assets/colab-badge.svg\" alt=\"Open In Colab\"/></a>"
      ]
    },
    {
      "cell_type": "code",
      "execution_count": 142,
      "metadata": {
        "colab": {
          "base_uri": "https://localhost:8080/"
        },
        "id": "-31F_9AM8rM9",
        "outputId": "65896425-d76b-41ba-af4b-06a5c8cbe240"
      },
      "outputs": [
        {
          "output_type": "stream",
          "name": "stdout",
          "text": [
            "Drive already mounted at /content/drive; to attempt to forcibly remount, call drive.mount(\"/content/drive\", force_remount=True).\n"
          ]
        }
      ],
      "source": [
        "# Importing usefull libraries for EDA\n",
        "import numpy as np\n",
        "import pandas as pd\n",
        "import matplotlib.pyplot as plt\n",
        "import seaborn as sns\n",
        "%matplotlib inline\n",
        "\n",
        "import os\n",
        "from google.colab import drive\n",
        "drive.mount('/content/drive')\n",
        "working_dir_path = '/content/drive/MyDrive/Jforce/'"
      ]
    },
    {
      "cell_type": "code",
      "source": [
        "from sklearn.preprocessing import StandardScaler\n",
        "from sklearn.model_selection import train_test_split\n",
        "from sklearn.linear_model import LogisticRegression\n",
        "from sklearn.model_selection import GridSearchCV\n",
        "\n",
        "from sklearn.metrics import accuracy_score, recall_score, precision_score, f1_score, roc_auc_score, confusion_matrix, roc_curve, auc\n",
        "\n",
        "from sklearn.svm import SVC"
      ],
      "metadata": {
        "id": "SLcogBDS679J"
      },
      "execution_count": 143,
      "outputs": []
    },
    {
      "cell_type": "code",
      "source": [
        "#Loading the clean Dataset\n",
        "df = pd.read_csv(working_dir_path + 'finaldata.csv')"
      ],
      "metadata": {
        "id": "w2FRDoJa9GiJ"
      },
      "execution_count": 144,
      "outputs": []
    },
    {
      "cell_type": "markdown",
      "source": [
        "## **Balancing Data and Modelling**"
      ],
      "metadata": {
        "id": "9PMbup96lCy_"
      }
    },
    {
      "cell_type": "code",
      "source": [
        "from collections import Counter\n",
        "from imblearn.under_sampling import RandomUnderSampler\n",
        "\n",
        "# Extract features and target variable\n",
        "X = df.drop('loan_status', axis=1)\n",
        "y = df['loan_status']\n",
        "\n",
        "# Create a RandomUnderSampler object to undersample the majority class\n",
        "rus = RandomUnderSampler(random_state=42)\n",
        "\n",
        "# Fit and transform the data using the RandomUnderSampler object\n",
        "X_resampled, y_resampled = rus.fit_resample(X, y)\n",
        "\n",
        "# Print the new class distribution after undersampling\n",
        "print(\"Resampled class distribution: \", Counter(y_resampled))"
      ],
      "metadata": {
        "colab": {
          "base_uri": "https://localhost:8080/"
        },
        "id": "kFD0LcUN4xbA",
        "outputId": "6b5823a6-f753-4fc5-b435-40bd49b02e75"
      },
      "execution_count": 145,
      "outputs": [
        {
          "output_type": "stream",
          "name": "stdout",
          "text": [
            "Resampled class distribution:  Counter({0: 4174, 1: 4174})\n"
          ]
        }
      ]
    },
    {
      "cell_type": "code",
      "source": [
        "columns = list(df.columns)"
      ],
      "metadata": {
        "id": "HOd5dXcs9GR_"
      },
      "execution_count": 146,
      "outputs": []
    },
    {
      "cell_type": "code",
      "source": [
        "columns.pop()"
      ],
      "metadata": {
        "colab": {
          "base_uri": "https://localhost:8080/",
          "height": 35
        },
        "id": "VC6-qV0Q9GPn",
        "outputId": "cf0c2c6a-f165-4c6c-b765-1430dbbc22b9"
      },
      "execution_count": 147,
      "outputs": [
        {
          "output_type": "execute_result",
          "data": {
            "text/plain": [
              "'loan_status'"
            ],
            "application/vnd.google.colaboratory.intrinsic+json": {
              "type": "string"
            }
          },
          "metadata": {},
          "execution_count": 147
        }
      ]
    },
    {
      "cell_type": "code",
      "source": [
        "balance_df = pd.DataFrame(X_resampled, columns=columns)"
      ],
      "metadata": {
        "id": "D2xxNkTO9GND"
      },
      "execution_count": 148,
      "outputs": []
    },
    {
      "cell_type": "code",
      "source": [
        "balance_df['loan_status'] = y_resampled"
      ],
      "metadata": {
        "id": "YG2U0KwC9GK9"
      },
      "execution_count": 149,
      "outputs": []
    },
    {
      "cell_type": "code",
      "source": [
        "sns.countplot('loan_status', data = balance_df)\n"
      ],
      "metadata": {
        "colab": {
          "base_uri": "https://localhost:8080/",
          "height": 352
        },
        "id": "LDuaUu2t9GI7",
        "outputId": "76dc7140-b58c-4257-fd2f-ed12d33926ad"
      },
      "execution_count": 150,
      "outputs": [
        {
          "output_type": "stream",
          "name": "stderr",
          "text": [
            "/usr/local/lib/python3.9/dist-packages/seaborn/_decorators.py:36: FutureWarning: Pass the following variable as a keyword arg: x. From version 0.12, the only valid positional argument will be `data`, and passing other arguments without an explicit keyword will result in an error or misinterpretation.\n",
            "  warnings.warn(\n"
          ]
        },
        {
          "output_type": "execute_result",
          "data": {
            "text/plain": [
              "<AxesSubplot:xlabel='loan_status', ylabel='count'>"
            ]
          },
          "metadata": {},
          "execution_count": 150
        },
        {
          "output_type": "display_data",
          "data": {
            "text/plain": [
              "<Figure size 432x288 with 1 Axes>"
            ],
            "image/png": "[encoded data removed]"
          },
          "metadata": {
            "needs_background": "light"
          }
        }
      ]
    },
    {
      "cell_type": "code",
      "source": [
        "balance_df[balance_df['loan_status']==1]\n"
      ],
      "metadata": {
        "colab": {
          "base_uri": "https://localhost:8080/",
          "height": 488
        },
        "id": "ckD4qtmS9GF_",
        "outputId": "54751486-97a6-4262-91c1-0b2c48be58d0"
      },
      "execution_count": 151,
      "outputs": [
        {
          "output_type": "execute_result",
          "data": {
            "text/plain": [
              "      loan_amnt  funded_amnt  funded_amnt_inv  term  int_rate  installment  \\\n",
              "4174     6000.0       6000.0           6000.0     0       245       221.13   \n",
              "4175     8000.0       8000.0           8000.0     0       170       282.53   \n",
              "4176     7500.0       7500.0           7450.0     0        67       251.75   \n",
              "4177     5000.0       5000.0           4950.0     0       303       153.52   \n",
              "4178     7200.0       7200.0           7200.0     0        58       240.59   \n",
              "...         ...          ...              ...   ...       ...          ...   \n",
              "8343     1500.0       1500.0           1500.0     1       205        37.74   \n",
              "8344    15000.0      15000.0          15000.0     0       295       452.40   \n",
              "8345    10000.0      10000.0           9750.0     0        41       330.76   \n",
              "8346     5800.0       5800.0           5725.0     0       329       184.28   \n",
              "8347    15000.0      15000.0          12875.0     0       342       483.16   \n",
              "\n",
              "      grade  sub_grade  emp_length  home_ownership  ...  last_fico_range_low  \\\n",
              "4174      4         20           0               3  ...                640.0   \n",
              "4175      3         19           7               3  ...                780.0   \n",
              "4176      2         10           0               3  ...                825.0   \n",
              "4177      0          1           0               0  ...                755.0   \n",
              "4178      1          8           5               0  ...                650.0   \n",
              "...     ...        ...         ...             ...  ...                  ...   \n",
              "8343      4         23           4               2  ...                535.0   \n",
              "8344      0          0           4               2  ...                795.0   \n",
              "8345      1          7           6               0  ...                555.0   \n",
              "8346      0          4           2               3  ...                740.0   \n",
              "8347      1          5           6               3  ...                660.0   \n",
              "\n",
              "      collections_12_mths_ex_med  policy_code  application_type  \\\n",
              "4174                         0.0          1.0                 0   \n",
              "4175                         0.0          1.0                 0   \n",
              "4176                         0.0          1.0                 0   \n",
              "4177                         0.0          1.0                 0   \n",
              "4178                         0.0          1.0                 0   \n",
              "...                          ...          ...               ...   \n",
              "8343                         0.0          1.0                 0   \n",
              "8344                         0.0          1.0                 0   \n",
              "8345                         0.0          1.0                 0   \n",
              "8346                         0.0          1.0                 0   \n",
              "8347                         0.0          1.0                 0   \n",
              "\n",
              "      acc_now_delinq  chargeoff_within_12_mths  delinq_amnt  \\\n",
              "4174             0.0                       0.0          0.0   \n",
              "4175             0.0                       0.0          0.0   \n",
              "4176             0.0                       0.0          0.0   \n",
              "4177             0.0                       0.0          0.0   \n",
              "4178             0.0                       0.0          0.0   \n",
              "...              ...                       ...          ...   \n",
              "8343             0.0                       0.0          0.0   \n",
              "8344             0.0                       0.0          0.0   \n",
              "8345             0.0                       0.0          0.0   \n",
              "8346             0.0                       0.0          0.0   \n",
              "8347             0.0                       0.0          0.0   \n",
              "\n",
              "      pub_rec_bankruptcies  tax_liens  loan_status  \n",
              "4174                   0.0        0.0            1  \n",
              "4175                   0.0        0.0            1  \n",
              "4176                   0.0        0.0            1  \n",
              "4177                   0.0        0.0            1  \n",
              "4178                   0.0        0.0            1  \n",
              "...                    ...        ...          ...  \n",
              "8343                   0.0        0.0            1  \n",
              "8344                   0.0        0.0            1  \n",
              "8345                   1.0        0.0            1  \n",
              "8346                   0.0        0.0            1  \n",
              "8347                   0.0        0.0            1  \n",
              "\n",
              "[4174 rows x 51 columns]"
            ],
            "text/html": [
              "\n",
              "  <div id=\"df-3882ae9b-4801-4d00-96d0-0823a69e515a\">\n",
              "    <div class=\"colab-df-container\">\n",
              "      <div>\n",
              "<style scoped>\n",
              "    .dataframe tbody tr th:only-of-type {\n",
              "        vertical-align: middle;\n",
              "    }\n",
              "\n",
              "    .dataframe tbody tr th {\n",
              "        vertical-align: top;\n",
              "    }\n",
              "\n",
              "    .dataframe thead th {\n",
              "        text-align: right;\n",
              "    }\n",
              "</style>\n",
              "<table border=\"1\" class=\"dataframe\">\n",
              "  <thead>\n",
              "    <tr style=\"text-align: right;\">\n",
              "      <th></th>\n",
              "      <th>loan_amnt</th>\n",
              "      <th>funded_amnt</th>\n",
              "      <th>funded_amnt_inv</th>\n",
              "      <th>term</th>\n",
              "      <th>int_rate</th>\n",
              "      <th>installment</th>\n",
              "      <th>grade</th>\n",
              "      <th>sub_grade</th>\n",
              "      <th>emp_length</th>\n",
              "      <th>home_ownership</th>\n",
              "      <th>...</th>\n",
              "      <th>last_fico_range_low</th>\n",
              "      <th>collections_12_mths_ex_med</th>\n",
              "      <th>policy_code</th>\n",
              "      <th>application_type</th>\n",
              "      <th>acc_now_delinq</th>\n",
              "      <th>chargeoff_within_12_mths</th>\n",
              "      <th>delinq_amnt</th>\n",
              "      <th>pub_rec_bankruptcies</th>\n",
              "      <th>tax_liens</th>\n",
              "      <th>loan_status</th>\n",
              "    </tr>\n",
              "  </thead>\n",
              "  <tbody>\n",
              "    <tr>\n",
              "      <th>4174</th>\n",
              "      <td>6000.0</td>\n",
              "      <td>6000.0</td>\n",
              "      <td>6000.0</td>\n",
              "      <td>0</td>\n",
              "      <td>245</td>\n",
              "      <td>221.13</td>\n",
              "      <td>4</td>\n",
              "      <td>20</td>\n",
              "      <td>0</td>\n",
              "      <td>3</td>\n",
              "      <td>...</td>\n",
              "      <td>640.0</td>\n",
              "      <td>0.0</td>\n",
              "      <td>1.0</td>\n",
              "      <td>0</td>\n",
              "      <td>0.0</td>\n",
              "      <td>0.0</td>\n",
              "      <td>0.0</td>\n",
              "      <td>0.0</td>\n",
              "      <td>0.0</td>\n",
              "      <td>1</td>\n",
              "    </tr>\n",
              "    <tr>\n",
              "      <th>4175</th>\n",
              "      <td>8000.0</td>\n",
              "      <td>8000.0</td>\n",
              "      <td>8000.0</td>\n",
              "      <td>0</td>\n",
              "      <td>170</td>\n",
              "      <td>282.53</td>\n",
              "      <td>3</td>\n",
              "      <td>19</td>\n",
              "      <td>7</td>\n",
              "      <td>3</td>\n",
              "      <td>...</td>\n",
              "      <td>780.0</td>\n",
              "      <td>0.0</td>\n",
              "      <td>1.0</td>\n",
              "      <td>0</td>\n",
              "      <td>0.0</td>\n",
              "      <td>0.0</td>\n",
              "      <td>0.0</td>\n",
              "      <td>0.0</td>\n",
              "      <td>0.0</td>\n",
              "      <td>1</td>\n",
              "    </tr>\n",
              "    <tr>\n",
              "      <th>4176</th>\n",
              "      <td>7500.0</td>\n",
              "      <td>7500.0</td>\n",
              "      <td>7450.0</td>\n",
              "      <td>0</td>\n",
              "      <td>67</td>\n",
              "      <td>251.75</td>\n",
              "      <td>2</td>\n",
              "      <td>10</td>\n",
              "      <td>0</td>\n",
              "      <td>3</td>\n",
              "      <td>...</td>\n",
              "      <td>825.0</td>\n",
              "      <td>0.0</td>\n",
              "      <td>1.0</td>\n",
              "      <td>0</td>\n",
              "      <td>0.0</td>\n",
              "      <td>0.0</td>\n",
              "      <td>0.0</td>\n",
              "      <td>0.0</td>\n",
              "      <td>0.0</td>\n",
              "      <td>1</td>\n",
              "    </tr>\n",
              "    <tr>\n",
              "      <th>4177</th>\n",
              "      <td>5000.0</td>\n",
              "      <td>5000.0</td>\n",
              "      <td>4950.0</td>\n",
              "      <td>0</td>\n",
              "      <td>303</td>\n",
              "      <td>153.52</td>\n",
              "      <td>0</td>\n",
              "      <td>1</td>\n",
              "      <td>0</td>\n",
              "      <td>0</td>\n",
              "      <td>...</td>\n",
              "      <td>755.0</td>\n",
              "      <td>0.0</td>\n",
              "      <td>1.0</td>\n",
              "      <td>0</td>\n",
              "      <td>0.0</td>\n",
              "      <td>0.0</td>\n",
              "      <td>0.0</td>\n",
              "      <td>0.0</td>\n",
              "      <td>0.0</td>\n",
              "      <td>1</td>\n",
              "    </tr>\n",
              "    <tr>\n",
              "      <th>4178</th>\n",
              "      <td>7200.0</td>\n",
              "      <td>7200.0</td>\n",
              "      <td>7200.0</td>\n",
              "      <td>0</td>\n",
              "      <td>58</td>\n",
              "      <td>240.59</td>\n",
              "      <td>1</td>\n",
              "      <td>8</td>\n",
              "      <td>5</td>\n",
              "      <td>0</td>\n",
              "      <td>...</td>\n",
              "      <td>650.0</td>\n",
              "      <td>0.0</td>\n",
              "      <td>1.0</td>\n",
              "      <td>0</td>\n",
              "      <td>0.0</td>\n",
              "      <td>0.0</td>\n",
              "      <td>0.0</td>\n",
              "      <td>0.0</td>\n",
              "      <td>0.0</td>\n",
              "      <td>1</td>\n",
              "    </tr>\n",
              "    <tr>\n",
              "      <th>...</th>\n",
              "      <td>...</td>\n",
              "      <td>...</td>\n",
              "      <td>...</td>\n",
              "      <td>...</td>\n",
              "      <td>...</td>\n",
              "      <td>...</td>\n",
              "      <td>...</td>\n",
              "      <td>...</td>\n",
              "      <td>...</td>\n",
              "      <td>...</td>\n",
              "      <td>...</td>\n",
              "      <td>...</td>\n",
              "      <td>...</td>\n",
              "      <td>...</td>\n",
              "      <td>...</td>\n",
              "      <td>...</td>\n",
              "      <td>...</td>\n",
              "      <td>...</td>\n",
              "      <td>...</td>\n",
              "      <td>...</td>\n",
              "      <td>...</td>\n",
              "    </tr>\n",
              "    <tr>\n",
              "      <th>8343</th>\n",
              "      <td>1500.0</td>\n",
              "      <td>1500.0</td>\n",
              "      <td>1500.0</td>\n",
              "      <td>1</td>\n",
              "      <td>205</td>\n",
              "      <td>37.74</td>\n",
              "      <td>4</td>\n",
              "      <td>23</td>\n",
              "      <td>4</td>\n",
              "      <td>2</td>\n",
              "      <td>...</td>\n",
              "      <td>535.0</td>\n",
              "      <td>0.0</td>\n",
              "      <td>1.0</td>\n",
              "      <td>0</td>\n",
              "      <td>0.0</td>\n",
              "      <td>0.0</td>\n",
              "      <td>0.0</td>\n",
              "      <td>0.0</td>\n",
              "      <td>0.0</td>\n",
              "      <td>1</td>\n",
              "    </tr>\n",
              "    <tr>\n",
              "      <th>8344</th>\n",
              "      <td>15000.0</td>\n",
              "      <td>15000.0</td>\n",
              "      <td>15000.0</td>\n",
              "      <td>0</td>\n",
              "      <td>295</td>\n",
              "      <td>452.40</td>\n",
              "      <td>0</td>\n",
              "      <td>0</td>\n",
              "      <td>4</td>\n",
              "      <td>2</td>\n",
              "      <td>...</td>\n",
              "      <td>795.0</td>\n",
              "      <td>0.0</td>\n",
              "      <td>1.0</td>\n",
              "      <td>0</td>\n",
              "      <td>0.0</td>\n",
              "      <td>0.0</td>\n",
              "      <td>0.0</td>\n",
              "      <td>0.0</td>\n",
              "      <td>0.0</td>\n",
              "      <td>1</td>\n",
              "    </tr>\n",
              "    <tr>\n",
              "      <th>8345</th>\n",
              "      <td>10000.0</td>\n",
              "      <td>10000.0</td>\n",
              "      <td>9750.0</td>\n",
              "      <td>0</td>\n",
              "      <td>41</td>\n",
              "      <td>330.76</td>\n",
              "      <td>1</td>\n",
              "      <td>7</td>\n",
              "      <td>6</td>\n",
              "      <td>0</td>\n",
              "      <td>...</td>\n",
              "      <td>555.0</td>\n",
              "      <td>0.0</td>\n",
              "      <td>1.0</td>\n",
              "      <td>0</td>\n",
              "      <td>0.0</td>\n",
              "      <td>0.0</td>\n",
              "      <td>0.0</td>\n",
              "      <td>1.0</td>\n",
              "      <td>0.0</td>\n",
              "      <td>1</td>\n",
              "    </tr>\n",
              "    <tr>\n",
              "      <th>8346</th>\n",
              "      <td>5800.0</td>\n",
              "      <td>5800.0</td>\n",
              "      <td>5725.0</td>\n",
              "      <td>0</td>\n",
              "      <td>329</td>\n",
              "      <td>184.28</td>\n",
              "      <td>0</td>\n",
              "      <td>4</td>\n",
              "      <td>2</td>\n",
              "      <td>3</td>\n",
              "      <td>...</td>\n",
              "      <td>740.0</td>\n",
              "      <td>0.0</td>\n",
              "      <td>1.0</td>\n",
              "      <td>0</td>\n",
              "      <td>0.0</td>\n",
              "      <td>0.0</td>\n",
              "      <td>0.0</td>\n",
              "      <td>0.0</td>\n",
              "      <td>0.0</td>\n",
              "      <td>1</td>\n",
              "    </tr>\n",
              "    <tr>\n",
              "      <th>8347</th>\n",
              "      <td>15000.0</td>\n",
              "      <td>15000.0</td>\n",
              "      <td>12875.0</td>\n",
              "      <td>0</td>\n",
              "      <td>342</td>\n",
              "      <td>483.16</td>\n",
              "      <td>1</td>\n",
              "      <td>5</td>\n",
              "      <td>6</td>\n",
              "      <td>3</td>\n",
              "      <td>...</td>\n",
              "      <td>660.0</td>\n",
              "      <td>0.0</td>\n",
              "      <td>1.0</td>\n",
              "      <td>0</td>\n",
              "      <td>0.0</td>\n",
              "      <td>0.0</td>\n",
              "      <td>0.0</td>\n",
              "      <td>0.0</td>\n",
              "      <td>0.0</td>\n",
              "      <td>1</td>\n",
              "    </tr>\n",
              "  </tbody>\n",
              "</table>\n",
              "<p>4174 rows × 51 columns</p>\n",
              "</div>\n",
              "      <button class=\"colab-df-convert\" onclick=\"convertToInteractive('df-3882ae9b-4801-4d00-96d0-0823a69e515a')\"\n",
              "              title=\"Convert this dataframe to an interactive table.\"\n",
              "              style=\"display:none;\">\n",
              "        \n",
              "  <svg xmlns=\"http://www.w3.org/2000/svg\" height=\"24px\"viewBox=\"0 0 24 24\"\n",
              "       width=\"24px\">\n",
              "    <path d=\"M0 0h24v24H0V0z\" fill=\"none\"/>\n",
              "    <path d=\"M18.56 5.44l.94 2.06.94-2.06 2.06-.94-2.06-.94-.94-2.06-.94 2.06-2.06.94zm-11 1L8.5 8.5l.94-2.06 2.06-.94-2.06-.94L8.5 2.5l-.94 2.06-2.06.94zm10 10l.94 2.06.94-2.06 2.06-.94-2.06-.94-.94-2.06-.94 2.06-2.06.94z\"/><path d=\"M17.41 7.96l-1.37-1.37c-.4-.4-.92-.59-1.43-.59-.52 0-1.04.2-1.43.59L10.3 9.45l-7.72 7.72c-.78.78-.78 2.05 0 2.83L4 21.41c.39.39.9.59 1.41.59.51 0 1.02-.2 1.41-.59l7.78-7.78 2.81-2.81c.8-.78.8-2.07 0-2.86zM5.41 20L4 18.59l7.72-7.72 1.47 1.35L5.41 20z\"/>\n",
              "  </svg>\n",
              "      </button>\n",
              "      \n",
              "  <style>\n",
              "    .colab-df-container {\n",
              "      display:flex;\n",
              "      flex-wrap:wrap;\n",
              "      gap: 12px;\n",
              "    }\n",
              "\n",
              "    .colab-df-convert {\n",
              "      background-color: #E8F0FE;\n",
              "      border: none;\n",
              "      border-radius: 50%;\n",
              "      cursor: pointer;\n",
              "      display: none;\n",
              "      fill: #1967D2;\n",
              "      height: 32px;\n",
              "      padding: 0 0 0 0;\n",
              "      width: 32px;\n",
              "    }\n",
              "\n",
              "    .colab-df-convert:hover {\n",
              "      background-color: #E2EBFA;\n",
              "      box-shadow: 0px 1px 2px rgba(60, 64, 67, 0.3), 0px 1px 3px 1px rgba(60, 64, 67, 0.15);\n",
              "      fill: #174EA6;\n",
              "    }\n",
              "\n",
              "    [theme=dark] .colab-df-convert {\n",
              "      background-color: #3B4455;\n",
              "      fill: #D2E3FC;\n",
              "    }\n",
              "\n",
              "    [theme=dark] .colab-df-convert:hover {\n",
              "      background-color: #434B5C;\n",
              "      box-shadow: 0px 1px 3px 1px rgba(0, 0, 0, 0.15);\n",
              "      filter: drop-shadow(0px 1px 2px rgba(0, 0, 0, 0.3));\n",
              "      fill: #FFFFFF;\n",
              "    }\n",
              "  </style>\n",
              "\n",
              "      <script>\n",
              "        const buttonEl =\n",
              "          document.querySelector('#df-3882ae9b-4801-4d00-96d0-0823a69e515a button.colab-df-convert');\n",
              "        buttonEl.style.display =\n",
              "          google.colab.kernel.accessAllowed ? 'block' : 'none';\n",
              "\n",
              "        async function convertToInteractive(key) {\n",
              "          const element = document.querySelector('#df-3882ae9b-4801-4d00-96d0-0823a69e515a');\n",
              "          const dataTable =\n",
              "            await google.colab.kernel.invokeFunction('convertToInteractive',\n",
              "                                                     [key], {});\n",
              "          if (!dataTable) return;\n",
              "\n",
              "          const docLinkHtml = 'Like what you see? Visit the ' +\n",
              "            '<a target=\"_blank\" href=https://colab.research.google.com/notebooks/data_table.ipynb>data table notebook</a>'\n",
              "            + ' to learn more about interactive tables.';\n",
              "          element.innerHTML = '';\n",
              "          dataTable['output_type'] = 'display_data';\n",
              "          await google.colab.output.renderOutput(dataTable, element);\n",
              "          const docLink = document.createElement('div');\n",
              "          docLink.innerHTML = docLinkHtml;\n",
              "          element.appendChild(docLink);\n",
              "        }\n",
              "      </script>\n",
              "    </div>\n",
              "  </div>\n",
              "  "
            ]
          },
          "metadata": {},
          "execution_count": 151
        }
      ]
    },
    {
      "cell_type": "code",
      "source": [
        "df = balance_df.copy()\n"
      ],
      "metadata": {
        "id": "hik0Br1TghJj"
      },
      "execution_count": 152,
      "outputs": []
    },
    {
      "cell_type": "code",
      "source": [
        "df.head()"
      ],
      "metadata": {
        "colab": {
          "base_uri": "https://localhost:8080/",
          "height": 300
        },
        "id": "4251asHpghHu",
        "outputId": "a3818b04-f750-44c4-aba0-ee7879da8785"
      },
      "execution_count": 153,
      "outputs": [
        {
          "output_type": "execute_result",
          "data": {
            "text/plain": [
              "   loan_amnt  funded_amnt  funded_amnt_inv  term  int_rate  installment  \\\n",
              "0     2500.0       2500.0           2500.0     1       141        59.83   \n",
              "1     5600.0       5600.0           5600.0     1       277       152.39   \n",
              "2     5375.0       5375.0           5350.0     1        65       121.45   \n",
              "3     9000.0       9000.0           9000.0     0        88       305.38   \n",
              "4    10000.0      10000.0          10000.0     0        16       325.74   \n",
              "\n",
              "   grade  sub_grade  emp_length  home_ownership  ...  last_fico_range_low  \\\n",
              "0      2         13           0               3  ...                  0.0   \n",
              "1      5         26           4               2  ...                  0.0   \n",
              "2      1          9           0               3  ...                515.0   \n",
              "3      2         10           0               3  ...                615.0   \n",
              "4      1          6           3               3  ...                650.0   \n",
              "\n",
              "   collections_12_mths_ex_med  policy_code  application_type  acc_now_delinq  \\\n",
              "0                         0.0          1.0                 0             0.0   \n",
              "1                         0.0          1.0                 0             0.0   \n",
              "2                         0.0          1.0                 0             0.0   \n",
              "3                         0.0          1.0                 0             0.0   \n",
              "4                         0.0          1.0                 0             0.0   \n",
              "\n",
              "   chargeoff_within_12_mths  delinq_amnt  pub_rec_bankruptcies  tax_liens  \\\n",
              "0                       0.0          0.0                   0.0        0.0   \n",
              "1                       0.0          0.0                   0.0        0.0   \n",
              "2                       0.0          0.0                   0.0        0.0   \n",
              "3                       0.0          0.0                   0.0        0.0   \n",
              "4                       0.0          0.0                   0.0        0.0   \n",
              "\n",
              "   loan_status  \n",
              "0            0  \n",
              "1            0  \n",
              "2            0  \n",
              "3            0  \n",
              "4            0  \n",
              "\n",
              "[5 rows x 51 columns]"
            ],
            "text/html": [
              "\n",
              "  <div id=\"df-97b35603-6d50-4aee-845a-a202ee855acb\">\n",
              "    <div class=\"colab-df-container\">\n",
              "      <div>\n",
              "<style scoped>\n",
              "    .dataframe tbody tr th:only-of-type {\n",
              "        vertical-align: middle;\n",
              "    }\n",
              "\n",
              "    .dataframe tbody tr th {\n",
              "        vertical-align: top;\n",
              "    }\n",
              "\n",
              "    .dataframe thead th {\n",
              "        text-align: right;\n",
              "    }\n",
              "</style>\n",
              "<table border=\"1\" class=\"dataframe\">\n",
              "  <thead>\n",
              "    <tr style=\"text-align: right;\">\n",
              "      <th></th>\n",
              "      <th>loan_amnt</th>\n",
              "      <th>funded_amnt</th>\n",
              "      <th>funded_amnt_inv</th>\n",
              "      <th>term</th>\n",
              "      <th>int_rate</th>\n",
              "      <th>installment</th>\n",
              "      <th>grade</th>\n",
              "      <th>sub_grade</th>\n",
              "      <th>emp_length</th>\n",
              "      <th>home_ownership</th>\n",
              "      <th>...</th>\n",
              "      <th>last_fico_range_low</th>\n",
              "      <th>collections_12_mths_ex_med</th>\n",
              "      <th>policy_code</th>\n",
              "      <th>application_type</th>\n",
              "      <th>acc_now_delinq</th>\n",
              "      <th>chargeoff_within_12_mths</th>\n",
              "      <th>delinq_amnt</th>\n",
              "      <th>pub_rec_bankruptcies</th>\n",
              "      <th>tax_liens</th>\n",
              "      <th>loan_status</th>\n",
              "    </tr>\n",
              "  </thead>\n",
              "  <tbody>\n",
              "    <tr>\n",
              "      <th>0</th>\n",
              "      <td>2500.0</td>\n",
              "      <td>2500.0</td>\n",
              "      <td>2500.0</td>\n",
              "      <td>1</td>\n",
              "      <td>141</td>\n",
              "      <td>59.83</td>\n",
              "      <td>2</td>\n",
              "      <td>13</td>\n",
              "      <td>0</td>\n",
              "      <td>3</td>\n",
              "      <td>...</td>\n",
              "      <td>0.0</td>\n",
              "      <td>0.0</td>\n",
              "      <td>1.0</td>\n",
              "      <td>0</td>\n",
              "      <td>0.0</td>\n",
              "      <td>0.0</td>\n",
              "      <td>0.0</td>\n",
              "      <td>0.0</td>\n",
              "      <td>0.0</td>\n",
              "      <td>0</td>\n",
              "    </tr>\n",
              "    <tr>\n",
              "      <th>1</th>\n",
              "      <td>5600.0</td>\n",
              "      <td>5600.0</td>\n",
              "      <td>5600.0</td>\n",
              "      <td>1</td>\n",
              "      <td>277</td>\n",
              "      <td>152.39</td>\n",
              "      <td>5</td>\n",
              "      <td>26</td>\n",
              "      <td>4</td>\n",
              "      <td>2</td>\n",
              "      <td>...</td>\n",
              "      <td>0.0</td>\n",
              "      <td>0.0</td>\n",
              "      <td>1.0</td>\n",
              "      <td>0</td>\n",
              "      <td>0.0</td>\n",
              "      <td>0.0</td>\n",
              "      <td>0.0</td>\n",
              "      <td>0.0</td>\n",
              "      <td>0.0</td>\n",
              "      <td>0</td>\n",
              "    </tr>\n",
              "    <tr>\n",
              "      <th>2</th>\n",
              "      <td>5375.0</td>\n",
              "      <td>5375.0</td>\n",
              "      <td>5350.0</td>\n",
              "      <td>1</td>\n",
              "      <td>65</td>\n",
              "      <td>121.45</td>\n",
              "      <td>1</td>\n",
              "      <td>9</td>\n",
              "      <td>0</td>\n",
              "      <td>3</td>\n",
              "      <td>...</td>\n",
              "      <td>515.0</td>\n",
              "      <td>0.0</td>\n",
              "      <td>1.0</td>\n",
              "      <td>0</td>\n",
              "      <td>0.0</td>\n",
              "      <td>0.0</td>\n",
              "      <td>0.0</td>\n",
              "      <td>0.0</td>\n",
              "      <td>0.0</td>\n",
              "      <td>0</td>\n",
              "    </tr>\n",
              "    <tr>\n",
              "      <th>3</th>\n",
              "      <td>9000.0</td>\n",
              "      <td>9000.0</td>\n",
              "      <td>9000.0</td>\n",
              "      <td>0</td>\n",
              "      <td>88</td>\n",
              "      <td>305.38</td>\n",
              "      <td>2</td>\n",
              "      <td>10</td>\n",
              "      <td>0</td>\n",
              "      <td>3</td>\n",
              "      <td>...</td>\n",
              "      <td>615.0</td>\n",
              "      <td>0.0</td>\n",
              "      <td>1.0</td>\n",
              "      <td>0</td>\n",
              "      <td>0.0</td>\n",
              "      <td>0.0</td>\n",
              "      <td>0.0</td>\n",
              "      <td>0.0</td>\n",
              "      <td>0.0</td>\n",
              "      <td>0</td>\n",
              "    </tr>\n",
              "    <tr>\n",
              "      <th>4</th>\n",
              "      <td>10000.0</td>\n",
              "      <td>10000.0</td>\n",
              "      <td>10000.0</td>\n",
              "      <td>0</td>\n",
              "      <td>16</td>\n",
              "      <td>325.74</td>\n",
              "      <td>1</td>\n",
              "      <td>6</td>\n",
              "      <td>3</td>\n",
              "      <td>3</td>\n",
              "      <td>...</td>\n",
              "      <td>650.0</td>\n",
              "      <td>0.0</td>\n",
              "      <td>1.0</td>\n",
              "      <td>0</td>\n",
              "      <td>0.0</td>\n",
              "      <td>0.0</td>\n",
              "      <td>0.0</td>\n",
              "      <td>0.0</td>\n",
              "      <td>0.0</td>\n",
              "      <td>0</td>\n",
              "    </tr>\n",
              "  </tbody>\n",
              "</table>\n",
              "<p>5 rows × 51 columns</p>\n",
              "</div>\n",
              "      <button class=\"colab-df-convert\" onclick=\"convertToInteractive('df-97b35603-6d50-4aee-845a-a202ee855acb')\"\n",
              "              title=\"Convert this dataframe to an interactive table.\"\n",
              "              style=\"display:none;\">\n",
              "        \n",
              "  <svg xmlns=\"http://www.w3.org/2000/svg\" height=\"24px\"viewBox=\"0 0 24 24\"\n",
              "       width=\"24px\">\n",
              "    <path d=\"M0 0h24v24H0V0z\" fill=\"none\"/>\n",
              "    <path d=\"M18.56 5.44l.94 2.06.94-2.06 2.06-.94-2.06-.94-.94-2.06-.94 2.06-2.06.94zm-11 1L8.5 8.5l.94-2.06 2.06-.94-2.06-.94L8.5 2.5l-.94 2.06-2.06.94zm10 10l.94 2.06.94-2.06 2.06-.94-2.06-.94-.94-2.06-.94 2.06-2.06.94z\"/><path d=\"M17.41 7.96l-1.37-1.37c-.4-.4-.92-.59-1.43-.59-.52 0-1.04.2-1.43.59L10.3 9.45l-7.72 7.72c-.78.78-.78 2.05 0 2.83L4 21.41c.39.39.9.59 1.41.59.51 0 1.02-.2 1.41-.59l7.78-7.78 2.81-2.81c.8-.78.8-2.07 0-2.86zM5.41 20L4 18.59l7.72-7.72 1.47 1.35L5.41 20z\"/>\n",
              "  </svg>\n",
              "      </button>\n",
              "      \n",
              "  <style>\n",
              "    .colab-df-container {\n",
              "      display:flex;\n",
              "      flex-wrap:wrap;\n",
              "      gap: 12px;\n",
              "    }\n",
              "\n",
              "    .colab-df-convert {\n",
              "      background-color: #E8F0FE;\n",
              "      border: none;\n",
              "      border-radius: 50%;\n",
              "      cursor: pointer;\n",
              "      display: none;\n",
              "      fill: #1967D2;\n",
              "      height: 32px;\n",
              "      padding: 0 0 0 0;\n",
              "      width: 32px;\n",
              "    }\n",
              "\n",
              "    .colab-df-convert:hover {\n",
              "      background-color: #E2EBFA;\n",
              "      box-shadow: 0px 1px 2px rgba(60, 64, 67, 0.3), 0px 1px 3px 1px rgba(60, 64, 67, 0.15);\n",
              "      fill: #174EA6;\n",
              "    }\n",
              "\n",
              "    [theme=dark] .colab-df-convert {\n",
              "      background-color: #3B4455;\n",
              "      fill: #D2E3FC;\n",
              "    }\n",
              "\n",
              "    [theme=dark] .colab-df-convert:hover {\n",
              "      background-color: #434B5C;\n",
              "      box-shadow: 0px 1px 3px 1px rgba(0, 0, 0, 0.15);\n",
              "      filter: drop-shadow(0px 1px 2px rgba(0, 0, 0, 0.3));\n",
              "      fill: #FFFFFF;\n",
              "    }\n",
              "  </style>\n",
              "\n",
              "      <script>\n",
              "        const buttonEl =\n",
              "          document.querySelector('#df-97b35603-6d50-4aee-845a-a202ee855acb button.colab-df-convert');\n",
              "        buttonEl.style.display =\n",
              "          google.colab.kernel.accessAllowed ? 'block' : 'none';\n",
              "\n",
              "        async function convertToInteractive(key) {\n",
              "          const element = document.querySelector('#df-97b35603-6d50-4aee-845a-a202ee855acb');\n",
              "          const dataTable =\n",
              "            await google.colab.kernel.invokeFunction('convertToInteractive',\n",
              "                                                     [key], {});\n",
              "          if (!dataTable) return;\n",
              "\n",
              "          const docLinkHtml = 'Like what you see? Visit the ' +\n",
              "            '<a target=\"_blank\" href=https://colab.research.google.com/notebooks/data_table.ipynb>data table notebook</a>'\n",
              "            + ' to learn more about interactive tables.';\n",
              "          element.innerHTML = '';\n",
              "          dataTable['output_type'] = 'display_data';\n",
              "          await google.colab.output.renderOutput(dataTable, element);\n",
              "          const docLink = document.createElement('div');\n",
              "          docLink.innerHTML = docLinkHtml;\n",
              "          element.appendChild(docLink);\n",
              "        }\n",
              "      </script>\n",
              "    </div>\n",
              "  </div>\n",
              "  "
            ]
          },
          "metadata": {},
          "execution_count": 153
        }
      ]
    },
    {
      "cell_type": "code",
      "source": [
        "features = ['funded_amnt', 'funded_amnt_inv', 'term', 'int_rate',\n",
        "       'installment', 'sub_grade', 'emp_length', 'home_ownership',\n",
        "       'annual_inc', 'verification_status', 'issue_d', 'pymnt_plan', 'purpose',\n",
        "       'title', 'dti', 'delinq_2yrs', 'earliest_cr_line',\n",
        "       'fico_range_low', 'fico_range_high', 'open_acc',\n",
        "       'pub_rec', 'revol_bal', 'revol_util', 'total_acc', 'out_prncp',\n",
        "       'out_prncp_inv', 'total_pymnt', 'total_pymnt_inv', 'total_rec_prncp',\n",
        "       'total_rec_int', 'total_rec_late_fee', 'recoveries',\n",
        "       'collection_recovery_fee', 'last_pymnt_d', 'last_pymnt_amnt',\n",
        "       'last_credit_pull_d', 'last_fico_range_high', 'last_fico_range_low']"
      ],
      "metadata": {
        "id": "OR9Ojk27ghGW"
      },
      "execution_count": 154,
      "outputs": []
    },
    {
      "cell_type": "code",
      "source": [
        "features"
      ],
      "metadata": {
        "colab": {
          "base_uri": "https://localhost:8080/"
        },
        "id": "IcU0LGPfghE2",
        "outputId": "514da3d7-c46b-4090-a9e0-495baa0ff1a3"
      },
      "execution_count": 155,
      "outputs": [
        {
          "output_type": "execute_result",
          "data": {
            "text/plain": [
              "['funded_amnt',\n",
              " 'funded_amnt_inv',\n",
              " 'term',\n",
              " 'int_rate',\n",
              " 'installment',\n",
              " 'sub_grade',\n",
              " 'emp_length',\n",
              " 'home_ownership',\n",
              " 'annual_inc',\n",
              " 'verification_status',\n",
              " 'issue_d',\n",
              " 'pymnt_plan',\n",
              " 'purpose',\n",
              " 'title',\n",
              " 'dti',\n",
              " 'delinq_2yrs',\n",
              " 'earliest_cr_line',\n",
              " 'fico_range_low',\n",
              " 'fico_range_high',\n",
              " 'open_acc',\n",
              " 'pub_rec',\n",
              " 'revol_bal',\n",
              " 'revol_util',\n",
              " 'total_acc',\n",
              " 'out_prncp',\n",
              " 'out_prncp_inv',\n",
              " 'total_pymnt',\n",
              " 'total_pymnt_inv',\n",
              " 'total_rec_prncp',\n",
              " 'total_rec_int',\n",
              " 'total_rec_late_fee',\n",
              " 'recoveries',\n",
              " 'collection_recovery_fee',\n",
              " 'last_pymnt_d',\n",
              " 'last_pymnt_amnt',\n",
              " 'last_credit_pull_d',\n",
              " 'last_fico_range_high',\n",
              " 'last_fico_range_low']"
            ]
          },
          "metadata": {},
          "execution_count": 155
        }
      ]
    },
    {
      "cell_type": "code",
      "source": [
        "from sklearn import preprocessing"
      ],
      "metadata": {
        "id": "nH85cfcrghC9"
      },
      "execution_count": 156,
      "outputs": []
    },
    {
      "cell_type": "code",
      "source": [
        "dataset_pr = df.copy()\n",
        "     \n",
        "from scipy.stats import zscore\n",
        "\n",
        "X = dataset_pr[features].apply(zscore)\n",
        "     \n",
        "y = df['loan_status']\n",
        "     \n",
        "X.head()"
      ],
      "metadata": {
        "colab": {
          "base_uri": "https://localhost:8080/",
          "height": 300
        },
        "id": "B-IncxRN9GD7",
        "outputId": "466e18fb-005c-40d9-b40e-2bc5287ef933"
      },
      "execution_count": 157,
      "outputs": [
        {
          "output_type": "execute_result",
          "data": {
            "text/plain": [
              "   funded_amnt  funded_amnt_inv      term  int_rate  installment  sub_grade  \\\n",
              "0    -1.265086        -1.164858  1.755606 -0.137271    -1.357864   0.363727   \n",
              "1    -0.590043        -0.490184  1.755606  1.084515    -0.704650   2.306873   \n",
              "2    -0.639038        -0.544593  1.755606 -0.820033    -0.923000  -0.234165   \n",
              "3     0.150326         0.249781 -0.569604 -0.613408     0.375030  -0.084692   \n",
              "4     0.368081         0.467418 -0.569604 -1.260235     0.518715  -0.682583   \n",
              "\n",
              "   emp_length  home_ownership  annual_inc  verification_status  ...  \\\n",
              "0   -1.345453        0.843859   -0.990737             0.295244  ...   \n",
              "1   -0.198849        0.135510   -0.555097             0.295244  ...   \n",
              "2   -1.345453        0.843859   -1.644197             1.519024  ...   \n",
              "3   -1.345453        0.843859   -0.990737             0.295244  ...   \n",
              "4   -0.485500        0.843859    2.058745             0.295244  ...   \n",
              "\n",
              "   total_rec_prncp  total_rec_int  total_rec_late_fee  recoveries  \\\n",
              "0        -1.146276      -0.848550           -0.280041   -0.127397   \n",
              "1        -1.214741      -0.974578           -0.280041   -0.047140   \n",
              "2        -1.095813      -0.760250           -0.280041    0.042315   \n",
              "3        -0.960328      -0.727140           -0.280041    0.237448   \n",
              "4         0.011015       0.012656           -0.280041    0.461336   \n",
              "\n",
              "   collection_recovery_fee  last_pymnt_d  last_pymnt_amnt  last_credit_pull_d  \\\n",
              "0                -0.138103     -1.566286        -0.516931            0.642206   \n",
              "1                -0.133916     -1.599845        -0.492449            0.642206   \n",
              "2                -0.132079      1.017816        -0.515592            0.642206   \n",
              "3                -0.125073     -0.190335        -0.378008            0.642206   \n",
              "4                -0.115868      1.319854        -0.362779            0.642206   \n",
              "\n",
              "   last_fico_range_high  last_fico_range_low  \n",
              "0             -1.694107            -3.856665  \n",
              "1             -1.694107            -3.856665  \n",
              "2             -1.467576            -0.658474  \n",
              "3             -0.334924            -0.037467  \n",
              "4              0.061505             0.179886  \n",
              "\n",
              "[5 rows x 38 columns]"
            ],
            "text/html": [
              "\n",
              "  <div id=\"df-aa1a9add-9b4e-4969-b65a-ca820aad87c4\">\n",
              "    <div class=\"colab-df-container\">\n",
              "      <div>\n",
              "<style scoped>\n",
              "    .dataframe tbody tr th:only-of-type {\n",
              "        vertical-align: middle;\n",
              "    }\n",
              "\n",
              "    .dataframe tbody tr th {\n",
              "        vertical-align: top;\n",
              "    }\n",
              "\n",
              "    .dataframe thead th {\n",
              "        text-align: right;\n",
              "    }\n",
              "</style>\n",
              "<table border=\"1\" class=\"dataframe\">\n",
              "  <thead>\n",
              "    <tr style=\"text-align: right;\">\n",
              "      <th></th>\n",
              "      <th>funded_amnt</th>\n",
              "      <th>funded_amnt_inv</th>\n",
              "      <th>term</th>\n",
              "      <th>int_rate</th>\n",
              "      <th>installment</th>\n",
              "      <th>sub_grade</th>\n",
              "      <th>emp_length</th>\n",
              "      <th>home_ownership</th>\n",
              "      <th>annual_inc</th>\n",
              "      <th>verification_status</th>\n",
              "      <th>...</th>\n",
              "      <th>total_rec_prncp</th>\n",
              "      <th>total_rec_int</th>\n",
              "      <th>total_rec_late_fee</th>\n",
              "      <th>recoveries</th>\n",
              "      <th>collection_recovery_fee</th>\n",
              "      <th>last_pymnt_d</th>\n",
              "      <th>last_pymnt_amnt</th>\n",
              "      <th>last_credit_pull_d</th>\n",
              "      <th>last_fico_range_high</th>\n",
              "      <th>last_fico_range_low</th>\n",
              "    </tr>\n",
              "  </thead>\n",
              "  <tbody>\n",
              "    <tr>\n",
              "      <th>0</th>\n",
              "      <td>-1.265086</td>\n",
              "      <td>-1.164858</td>\n",
              "      <td>1.755606</td>\n",
              "      <td>-0.137271</td>\n",
              "      <td>-1.357864</td>\n",
              "      <td>0.363727</td>\n",
              "      <td>-1.345453</td>\n",
              "      <td>0.843859</td>\n",
              "      <td>-0.990737</td>\n",
              "      <td>0.295244</td>\n",
              "      <td>...</td>\n",
              "      <td>-1.146276</td>\n",
              "      <td>-0.848550</td>\n",
              "      <td>-0.280041</td>\n",
              "      <td>-0.127397</td>\n",
              "      <td>-0.138103</td>\n",
              "      <td>-1.566286</td>\n",
              "      <td>-0.516931</td>\n",
              "      <td>0.642206</td>\n",
              "      <td>-1.694107</td>\n",
              "      <td>-3.856665</td>\n",
              "    </tr>\n",
              "    <tr>\n",
              "      <th>1</th>\n",
              "      <td>-0.590043</td>\n",
              "      <td>-0.490184</td>\n",
              "      <td>1.755606</td>\n",
              "      <td>1.084515</td>\n",
              "      <td>-0.704650</td>\n",
              "      <td>2.306873</td>\n",
              "      <td>-0.198849</td>\n",
              "      <td>0.135510</td>\n",
              "      <td>-0.555097</td>\n",
              "      <td>0.295244</td>\n",
              "      <td>...</td>\n",
              "      <td>-1.214741</td>\n",
              "      <td>-0.974578</td>\n",
              "      <td>-0.280041</td>\n",
              "      <td>-0.047140</td>\n",
              "      <td>-0.133916</td>\n",
              "      <td>-1.599845</td>\n",
              "      <td>-0.492449</td>\n",
              "      <td>0.642206</td>\n",
              "      <td>-1.694107</td>\n",
              "      <td>-3.856665</td>\n",
              "    </tr>\n",
              "    <tr>\n",
              "      <th>2</th>\n",
              "      <td>-0.639038</td>\n",
              "      <td>-0.544593</td>\n",
              "      <td>1.755606</td>\n",
              "      <td>-0.820033</td>\n",
              "      <td>-0.923000</td>\n",
              "      <td>-0.234165</td>\n",
              "      <td>-1.345453</td>\n",
              "      <td>0.843859</td>\n",
              "      <td>-1.644197</td>\n",
              "      <td>1.519024</td>\n",
              "      <td>...</td>\n",
              "      <td>-1.095813</td>\n",
              "      <td>-0.760250</td>\n",
              "      <td>-0.280041</td>\n",
              "      <td>0.042315</td>\n",
              "      <td>-0.132079</td>\n",
              "      <td>1.017816</td>\n",
              "      <td>-0.515592</td>\n",
              "      <td>0.642206</td>\n",
              "      <td>-1.467576</td>\n",
              "      <td>-0.658474</td>\n",
              "    </tr>\n",
              "    <tr>\n",
              "      <th>3</th>\n",
              "      <td>0.150326</td>\n",
              "      <td>0.249781</td>\n",
              "      <td>-0.569604</td>\n",
              "      <td>-0.613408</td>\n",
              "      <td>0.375030</td>\n",
              "      <td>-0.084692</td>\n",
              "      <td>-1.345453</td>\n",
              "      <td>0.843859</td>\n",
              "      <td>-0.990737</td>\n",
              "      <td>0.295244</td>\n",
              "      <td>...</td>\n",
              "      <td>-0.960328</td>\n",
              "      <td>-0.727140</td>\n",
              "      <td>-0.280041</td>\n",
              "      <td>0.237448</td>\n",
              "      <td>-0.125073</td>\n",
              "      <td>-0.190335</td>\n",
              "      <td>-0.378008</td>\n",
              "      <td>0.642206</td>\n",
              "      <td>-0.334924</td>\n",
              "      <td>-0.037467</td>\n",
              "    </tr>\n",
              "    <tr>\n",
              "      <th>4</th>\n",
              "      <td>0.368081</td>\n",
              "      <td>0.467418</td>\n",
              "      <td>-0.569604</td>\n",
              "      <td>-1.260235</td>\n",
              "      <td>0.518715</td>\n",
              "      <td>-0.682583</td>\n",
              "      <td>-0.485500</td>\n",
              "      <td>0.843859</td>\n",
              "      <td>2.058745</td>\n",
              "      <td>0.295244</td>\n",
              "      <td>...</td>\n",
              "      <td>0.011015</td>\n",
              "      <td>0.012656</td>\n",
              "      <td>-0.280041</td>\n",
              "      <td>0.461336</td>\n",
              "      <td>-0.115868</td>\n",
              "      <td>1.319854</td>\n",
              "      <td>-0.362779</td>\n",
              "      <td>0.642206</td>\n",
              "      <td>0.061505</td>\n",
              "      <td>0.179886</td>\n",
              "    </tr>\n",
              "  </tbody>\n",
              "</table>\n",
              "<p>5 rows × 38 columns</p>\n",
              "</div>\n",
              "      <button class=\"colab-df-convert\" onclick=\"convertToInteractive('df-aa1a9add-9b4e-4969-b65a-ca820aad87c4')\"\n",
              "              title=\"Convert this dataframe to an interactive table.\"\n",
              "              style=\"display:none;\">\n",
              "        \n",
              "  <svg xmlns=\"http://www.w3.org/2000/svg\" height=\"24px\"viewBox=\"0 0 24 24\"\n",
              "       width=\"24px\">\n",
              "    <path d=\"M0 0h24v24H0V0z\" fill=\"none\"/>\n",
              "    <path d=\"M18.56 5.44l.94 2.06.94-2.06 2.06-.94-2.06-.94-.94-2.06-.94 2.06-2.06.94zm-11 1L8.5 8.5l.94-2.06 2.06-.94-2.06-.94L8.5 2.5l-.94 2.06-2.06.94zm10 10l.94 2.06.94-2.06 2.06-.94-2.06-.94-.94-2.06-.94 2.06-2.06.94z\"/><path d=\"M17.41 7.96l-1.37-1.37c-.4-.4-.92-.59-1.43-.59-.52 0-1.04.2-1.43.59L10.3 9.45l-7.72 7.72c-.78.78-.78 2.05 0 2.83L4 21.41c.39.39.9.59 1.41.59.51 0 1.02-.2 1.41-.59l7.78-7.78 2.81-2.81c.8-.78.8-2.07 0-2.86zM5.41 20L4 18.59l7.72-7.72 1.47 1.35L5.41 20z\"/>\n",
              "  </svg>\n",
              "      </button>\n",
              "      \n",
              "  <style>\n",
              "    .colab-df-container {\n",
              "      display:flex;\n",
              "      flex-wrap:wrap;\n",
              "      gap: 12px;\n",
              "    }\n",
              "\n",
              "    .colab-df-convert {\n",
              "      background-color: #E8F0FE;\n",
              "      border: none;\n",
              "      border-radius: 50%;\n",
              "      cursor: pointer;\n",
              "      display: none;\n",
              "      fill: #1967D2;\n",
              "      height: 32px;\n",
              "      padding: 0 0 0 0;\n",
              "      width: 32px;\n",
              "    }\n",
              "\n",
              "    .colab-df-convert:hover {\n",
              "      background-color: #E2EBFA;\n",
              "      box-shadow: 0px 1px 2px rgba(60, 64, 67, 0.3), 0px 1px 3px 1px rgba(60, 64, 67, 0.15);\n",
              "      fill: #174EA6;\n",
              "    }\n",
              "\n",
              "    [theme=dark] .colab-df-convert {\n",
              "      background-color: #3B4455;\n",
              "      fill: #D2E3FC;\n",
              "    }\n",
              "\n",
              "    [theme=dark] .colab-df-convert:hover {\n",
              "      background-color: #434B5C;\n",
              "      box-shadow: 0px 1px 3px 1px rgba(0, 0, 0, 0.15);\n",
              "      filter: drop-shadow(0px 1px 2px rgba(0, 0, 0, 0.3));\n",
              "      fill: #FFFFFF;\n",
              "    }\n",
              "  </style>\n",
              "\n",
              "      <script>\n",
              "        const buttonEl =\n",
              "          document.querySelector('#df-aa1a9add-9b4e-4969-b65a-ca820aad87c4 button.colab-df-convert');\n",
              "        buttonEl.style.display =\n",
              "          google.colab.kernel.accessAllowed ? 'block' : 'none';\n",
              "\n",
              "        async function convertToInteractive(key) {\n",
              "          const element = document.querySelector('#df-aa1a9add-9b4e-4969-b65a-ca820aad87c4');\n",
              "          const dataTable =\n",
              "            await google.colab.kernel.invokeFunction('convertToInteractive',\n",
              "                                                     [key], {});\n",
              "          if (!dataTable) return;\n",
              "\n",
              "          const docLinkHtml = 'Like what you see? Visit the ' +\n",
              "            '<a target=\"_blank\" href=https://colab.research.google.com/notebooks/data_table.ipynb>data table notebook</a>'\n",
              "            + ' to learn more about interactive tables.';\n",
              "          element.innerHTML = '';\n",
              "          dataTable['output_type'] = 'display_data';\n",
              "          await google.colab.output.renderOutput(dataTable, element);\n",
              "          const docLink = document.createElement('div');\n",
              "          docLink.innerHTML = docLinkHtml;\n",
              "          element.appendChild(docLink);\n",
              "        }\n",
              "      </script>\n",
              "    </div>\n",
              "  </div>\n",
              "  "
            ]
          },
          "metadata": {},
          "execution_count": 157
        }
      ]
    },
    {
      "cell_type": "markdown",
      "source": [
        "## Implementing Logistic Regression"
      ],
      "metadata": {
        "id": "LFPAqvUc5245"
      }
    },
    {
      "cell_type": "code",
      "source": [
        "df_log_reg = df.copy()\n"
      ],
      "metadata": {
        "id": "auil6DDCt63b"
      },
      "execution_count": 158,
      "outputs": []
    },
    {
      "cell_type": "code",
      "source": [
        "df_log_reg.head()\n"
      ],
      "metadata": {
        "colab": {
          "base_uri": "https://localhost:8080/",
          "height": 300
        },
        "id": "yBC1wsbVt61X",
        "outputId": "41ee1dbf-ca2b-41e7-a6e8-29e7714bd929"
      },
      "execution_count": 159,
      "outputs": [
        {
          "output_type": "execute_result",
          "data": {
            "text/plain": [
              "   loan_amnt  funded_amnt  funded_amnt_inv  term  int_rate  installment  \\\n",
              "0     2500.0       2500.0           2500.0     1       141        59.83   \n",
              "1     5600.0       5600.0           5600.0     1       277       152.39   \n",
              "2     5375.0       5375.0           5350.0     1        65       121.45   \n",
              "3     9000.0       9000.0           9000.0     0        88       305.38   \n",
              "4    10000.0      10000.0          10000.0     0        16       325.74   \n",
              "\n",
              "   grade  sub_grade  emp_length  home_ownership  ...  last_fico_range_low  \\\n",
              "0      2         13           0               3  ...                  0.0   \n",
              "1      5         26           4               2  ...                  0.0   \n",
              "2      1          9           0               3  ...                515.0   \n",
              "3      2         10           0               3  ...                615.0   \n",
              "4      1          6           3               3  ...                650.0   \n",
              "\n",
              "   collections_12_mths_ex_med  policy_code  application_type  acc_now_delinq  \\\n",
              "0                         0.0          1.0                 0             0.0   \n",
              "1                         0.0          1.0                 0             0.0   \n",
              "2                         0.0          1.0                 0             0.0   \n",
              "3                         0.0          1.0                 0             0.0   \n",
              "4                         0.0          1.0                 0             0.0   \n",
              "\n",
              "   chargeoff_within_12_mths  delinq_amnt  pub_rec_bankruptcies  tax_liens  \\\n",
              "0                       0.0          0.0                   0.0        0.0   \n",
              "1                       0.0          0.0                   0.0        0.0   \n",
              "2                       0.0          0.0                   0.0        0.0   \n",
              "3                       0.0          0.0                   0.0        0.0   \n",
              "4                       0.0          0.0                   0.0        0.0   \n",
              "\n",
              "   loan_status  \n",
              "0            0  \n",
              "1            0  \n",
              "2            0  \n",
              "3            0  \n",
              "4            0  \n",
              "\n",
              "[5 rows x 51 columns]"
            ],
            "text/html": [
              "\n",
              "  <div id=\"df-7335a0fe-344b-47db-aac1-a7506843594f\">\n",
              "    <div class=\"colab-df-container\">\n",
              "      <div>\n",
              "<style scoped>\n",
              "    .dataframe tbody tr th:only-of-type {\n",
              "        vertical-align: middle;\n",
              "    }\n",
              "\n",
              "    .dataframe tbody tr th {\n",
              "        vertical-align: top;\n",
              "    }\n",
              "\n",
              "    .dataframe thead th {\n",
              "        text-align: right;\n",
              "    }\n",
              "</style>\n",
              "<table border=\"1\" class=\"dataframe\">\n",
              "  <thead>\n",
              "    <tr style=\"text-align: right;\">\n",
              "      <th></th>\n",
              "      <th>loan_amnt</th>\n",
              "      <th>funded_amnt</th>\n",
              "      <th>funded_amnt_inv</th>\n",
              "      <th>term</th>\n",
              "      <th>int_rate</th>\n",
              "      <th>installment</th>\n",
              "      <th>grade</th>\n",
              "      <th>sub_grade</th>\n",
              "      <th>emp_length</th>\n",
              "      <th>home_ownership</th>\n",
              "      <th>...</th>\n",
              "      <th>last_fico_range_low</th>\n",
              "      <th>collections_12_mths_ex_med</th>\n",
              "      <th>policy_code</th>\n",
              "      <th>application_type</th>\n",
              "      <th>acc_now_delinq</th>\n",
              "      <th>chargeoff_within_12_mths</th>\n",
              "      <th>delinq_amnt</th>\n",
              "      <th>pub_rec_bankruptcies</th>\n",
              "      <th>tax_liens</th>\n",
              "      <th>loan_status</th>\n",
              "    </tr>\n",
              "  </thead>\n",
              "  <tbody>\n",
              "    <tr>\n",
              "      <th>0</th>\n",
              "      <td>2500.0</td>\n",
              "      <td>2500.0</td>\n",
              "      <td>2500.0</td>\n",
              "      <td>1</td>\n",
              "      <td>141</td>\n",
              "      <td>59.83</td>\n",
              "      <td>2</td>\n",
              "      <td>13</td>\n",
              "      <td>0</td>\n",
              "      <td>3</td>\n",
              "      <td>...</td>\n",
              "      <td>0.0</td>\n",
              "      <td>0.0</td>\n",
              "      <td>1.0</td>\n",
              "      <td>0</td>\n",
              "      <td>0.0</td>\n",
              "      <td>0.0</td>\n",
              "      <td>0.0</td>\n",
              "      <td>0.0</td>\n",
              "      <td>0.0</td>\n",
              "      <td>0</td>\n",
              "    </tr>\n",
              "    <tr>\n",
              "      <th>1</th>\n",
              "      <td>5600.0</td>\n",
              "      <td>5600.0</td>\n",
              "      <td>5600.0</td>\n",
              "      <td>1</td>\n",
              "      <td>277</td>\n",
              "      <td>152.39</td>\n",
              "      <td>5</td>\n",
              "      <td>26</td>\n",
              "      <td>4</td>\n",
              "      <td>2</td>\n",
              "      <td>...</td>\n",
              "      <td>0.0</td>\n",
              "      <td>0.0</td>\n",
              "      <td>1.0</td>\n",
              "      <td>0</td>\n",
              "      <td>0.0</td>\n",
              "      <td>0.0</td>\n",
              "      <td>0.0</td>\n",
              "      <td>0.0</td>\n",
              "      <td>0.0</td>\n",
              "      <td>0</td>\n",
              "    </tr>\n",
              "    <tr>\n",
              "      <th>2</th>\n",
              "      <td>5375.0</td>\n",
              "      <td>5375.0</td>\n",
              "      <td>5350.0</td>\n",
              "      <td>1</td>\n",
              "      <td>65</td>\n",
              "      <td>121.45</td>\n",
              "      <td>1</td>\n",
              "      <td>9</td>\n",
              "      <td>0</td>\n",
              "      <td>3</td>\n",
              "      <td>...</td>\n",
              "      <td>515.0</td>\n",
              "      <td>0.0</td>\n",
              "      <td>1.0</td>\n",
              "      <td>0</td>\n",
              "      <td>0.0</td>\n",
              "      <td>0.0</td>\n",
              "      <td>0.0</td>\n",
              "      <td>0.0</td>\n",
              "      <td>0.0</td>\n",
              "      <td>0</td>\n",
              "    </tr>\n",
              "    <tr>\n",
              "      <th>3</th>\n",
              "      <td>9000.0</td>\n",
              "      <td>9000.0</td>\n",
              "      <td>9000.0</td>\n",
              "      <td>0</td>\n",
              "      <td>88</td>\n",
              "      <td>305.38</td>\n",
              "      <td>2</td>\n",
              "      <td>10</td>\n",
              "      <td>0</td>\n",
              "      <td>3</td>\n",
              "      <td>...</td>\n",
              "      <td>615.0</td>\n",
              "      <td>0.0</td>\n",
              "      <td>1.0</td>\n",
              "      <td>0</td>\n",
              "      <td>0.0</td>\n",
              "      <td>0.0</td>\n",
              "      <td>0.0</td>\n",
              "      <td>0.0</td>\n",
              "      <td>0.0</td>\n",
              "      <td>0</td>\n",
              "    </tr>\n",
              "    <tr>\n",
              "      <th>4</th>\n",
              "      <td>10000.0</td>\n",
              "      <td>10000.0</td>\n",
              "      <td>10000.0</td>\n",
              "      <td>0</td>\n",
              "      <td>16</td>\n",
              "      <td>325.74</td>\n",
              "      <td>1</td>\n",
              "      <td>6</td>\n",
              "      <td>3</td>\n",
              "      <td>3</td>\n",
              "      <td>...</td>\n",
              "      <td>650.0</td>\n",
              "      <td>0.0</td>\n",
              "      <td>1.0</td>\n",
              "      <td>0</td>\n",
              "      <td>0.0</td>\n",
              "      <td>0.0</td>\n",
              "      <td>0.0</td>\n",
              "      <td>0.0</td>\n",
              "      <td>0.0</td>\n",
              "      <td>0</td>\n",
              "    </tr>\n",
              "  </tbody>\n",
              "</table>\n",
              "<p>5 rows × 51 columns</p>\n",
              "</div>\n",
              "      <button class=\"colab-df-convert\" onclick=\"convertToInteractive('df-7335a0fe-344b-47db-aac1-a7506843594f')\"\n",
              "              title=\"Convert this dataframe to an interactive table.\"\n",
              "              style=\"display:none;\">\n",
              "        \n",
              "  <svg xmlns=\"http://www.w3.org/2000/svg\" height=\"24px\"viewBox=\"0 0 24 24\"\n",
              "       width=\"24px\">\n",
              "    <path d=\"M0 0h24v24H0V0z\" fill=\"none\"/>\n",
              "    <path d=\"M18.56 5.44l.94 2.06.94-2.06 2.06-.94-2.06-.94-.94-2.06-.94 2.06-2.06.94zm-11 1L8.5 8.5l.94-2.06 2.06-.94-2.06-.94L8.5 2.5l-.94 2.06-2.06.94zm10 10l.94 2.06.94-2.06 2.06-.94-2.06-.94-.94-2.06-.94 2.06-2.06.94z\"/><path d=\"M17.41 7.96l-1.37-1.37c-.4-.4-.92-.59-1.43-.59-.52 0-1.04.2-1.43.59L10.3 9.45l-7.72 7.72c-.78.78-.78 2.05 0 2.83L4 21.41c.39.39.9.59 1.41.59.51 0 1.02-.2 1.41-.59l7.78-7.78 2.81-2.81c.8-.78.8-2.07 0-2.86zM5.41 20L4 18.59l7.72-7.72 1.47 1.35L5.41 20z\"/>\n",
              "  </svg>\n",
              "      </button>\n",
              "      \n",
              "  <style>\n",
              "    .colab-df-container {\n",
              "      display:flex;\n",
              "      flex-wrap:wrap;\n",
              "      gap: 12px;\n",
              "    }\n",
              "\n",
              "    .colab-df-convert {\n",
              "      background-color: #E8F0FE;\n",
              "      border: none;\n",
              "      border-radius: 50%;\n",
              "      cursor: pointer;\n",
              "      display: none;\n",
              "      fill: #1967D2;\n",
              "      height: 32px;\n",
              "      padding: 0 0 0 0;\n",
              "      width: 32px;\n",
              "    }\n",
              "\n",
              "    .colab-df-convert:hover {\n",
              "      background-color: #E2EBFA;\n",
              "      box-shadow: 0px 1px 2px rgba(60, 64, 67, 0.3), 0px 1px 3px 1px rgba(60, 64, 67, 0.15);\n",
              "      fill: #174EA6;\n",
              "    }\n",
              "\n",
              "    [theme=dark] .colab-df-convert {\n",
              "      background-color: #3B4455;\n",
              "      fill: #D2E3FC;\n",
              "    }\n",
              "\n",
              "    [theme=dark] .colab-df-convert:hover {\n",
              "      background-color: #434B5C;\n",
              "      box-shadow: 0px 1px 3px 1px rgba(0, 0, 0, 0.15);\n",
              "      filter: drop-shadow(0px 1px 2px rgba(0, 0, 0, 0.3));\n",
              "      fill: #FFFFFF;\n",
              "    }\n",
              "  </style>\n",
              "\n",
              "      <script>\n",
              "        const buttonEl =\n",
              "          document.querySelector('#df-7335a0fe-344b-47db-aac1-a7506843594f button.colab-df-convert');\n",
              "        buttonEl.style.display =\n",
              "          google.colab.kernel.accessAllowed ? 'block' : 'none';\n",
              "\n",
              "        async function convertToInteractive(key) {\n",
              "          const element = document.querySelector('#df-7335a0fe-344b-47db-aac1-a7506843594f');\n",
              "          const dataTable =\n",
              "            await google.colab.kernel.invokeFunction('convertToInteractive',\n",
              "                                                     [key], {});\n",
              "          if (!dataTable) return;\n",
              "\n",
              "          const docLinkHtml = 'Like what you see? Visit the ' +\n",
              "            '<a target=\"_blank\" href=https://colab.research.google.com/notebooks/data_table.ipynb>data table notebook</a>'\n",
              "            + ' to learn more about interactive tables.';\n",
              "          element.innerHTML = '';\n",
              "          dataTable['output_type'] = 'display_data';\n",
              "          await google.colab.output.renderOutput(dataTable, element);\n",
              "          const docLink = document.createElement('div');\n",
              "          docLink.innerHTML = docLinkHtml;\n",
              "          element.appendChild(docLink);\n",
              "        }\n",
              "      </script>\n",
              "    </div>\n",
              "  </div>\n",
              "  "
            ]
          },
          "metadata": {},
          "execution_count": 159
        }
      ]
    },
    {
      "cell_type": "code",
      "source": [
        "X = df_log_reg.drop(['loan_status'],axis=1)\n",
        "y = df_log_reg['loan_status']"
      ],
      "metadata": {
        "id": "7gfl9s1Ft6y4"
      },
      "execution_count": 160,
      "outputs": []
    },
    {
      "cell_type": "code",
      "source": [
        "columns = X.columns\n"
      ],
      "metadata": {
        "id": "2N06rfgkt6v9"
      },
      "execution_count": 161,
      "outputs": []
    },
    {
      "cell_type": "code",
      "source": [
        "scaler = StandardScaler()\n",
        "X = scaler.fit_transform(X)"
      ],
      "metadata": {
        "id": "9tUnD7pxnt0O"
      },
      "execution_count": 162,
      "outputs": []
    },
    {
      "cell_type": "code",
      "source": [
        "X_train, X_test, y_train, y_test = train_test_split(X, y, test_size=0.30, random_state=42, stratify = y)\n"
      ],
      "metadata": {
        "id": "lXfXszM_ntwE"
      },
      "execution_count": 163,
      "outputs": []
    },
    {
      "cell_type": "code",
      "source": [
        "param_grid = {'penalty':['l1','l2'], 'C' : [0.001, 0.01, 0.1, 1, 10, 100, 1000]}\n"
      ],
      "metadata": {
        "id": "m7VxRfeFnttk"
      },
      "execution_count": 164,
      "outputs": []
    },
    {
      "cell_type": "code",
      "source": [
        "grid_lr_clf = GridSearchCV(LogisticRegression(), param_grid, scoring = 'accuracy', n_jobs = -1, verbose = 3, cv = 3)\n",
        "grid_lr_clf.fit(X_train, y_train)"
      ],
      "metadata": {
        "id": "EVWLuYZliKEU",
        "colab": {
          "base_uri": "https://localhost:8080/",
          "height": 676
        },
        "outputId": "0429b183-e0ba-4509-d901-13ed6a9dc2cc"
      },
      "execution_count": 165,
      "outputs": [
        {
          "output_type": "stream",
          "name": "stdout",
          "text": [
            "Fitting 3 folds for each of 14 candidates, totalling 42 fits\n"
          ]
        },
        {
          "output_type": "stream",
          "name": "stderr",
          "text": [
            "/usr/local/lib/python3.9/dist-packages/sklearn/model_selection/_validation.py:378: FitFailedWarning: \n",
            "21 fits failed out of a total of 42.\n",
            "The score on these train-test partitions for these parameters will be set to nan.\n",
            "If these failures are not expected, you can try to debug them by setting error_score='raise'.\n",
            "\n",
            "Below are more details about the failures:\n",
            "--------------------------------------------------------------------------------\n",
            "21 fits failed with the following error:\n",
            "Traceback (most recent call last):\n",
            "  File \"/usr/local/lib/python3.9/dist-packages/sklearn/model_selection/_validation.py\", line 686, in _fit_and_score\n",
            "    estimator.fit(X_train, y_train, **fit_params)\n",
            "  File \"/usr/local/lib/python3.9/dist-packages/sklearn/linear_model/_logistic.py\", line 1162, in fit\n",
            "    solver = _check_solver(self.solver, self.penalty, self.dual)\n",
            "  File \"/usr/local/lib/python3.9/dist-packages/sklearn/linear_model/_logistic.py\", line 54, in _check_solver\n",
            "    raise ValueError(\n",
            "ValueError: Solver lbfgs supports only 'l2' or 'none' penalties, got l1 penalty.\n",
            "\n",
            "  warnings.warn(some_fits_failed_message, FitFailedWarning)\n",
            "/usr/local/lib/python3.9/dist-packages/sklearn/model_selection/_search.py:952: UserWarning: One or more of the test scores are non-finite: [       nan 0.946604          nan 0.96594306        nan 0.97723828\n",
            "        nan 0.98750671        nan 0.99349664        nan 0.99606364\n",
            "        nan 0.99726171]\n",
            "  warnings.warn(\n",
            "/usr/local/lib/python3.9/dist-packages/sklearn/linear_model/_logistic.py:458: ConvergenceWarning: lbfgs failed to converge (status=1):\n",
            "STOP: TOTAL NO. of ITERATIONS REACHED LIMIT.\n",
            "\n",
            "Increase the number of iterations (max_iter) or scale the data as shown in:\n",
            "    https://scikit-learn.org/stable/modules/preprocessing.html\n",
            "Please also refer to the documentation for alternative solver options:\n",
            "    https://scikit-learn.org/stable/modules/linear_model.html#logistic-regression\n",
            "  n_iter_i = _check_optimize_result(\n"
          ]
        },
        {
          "output_type": "execute_result",
          "data": {
            "text/plain": [
              "GridSearchCV(cv=3, estimator=LogisticRegression(), n_jobs=-1,\n",
              "             param_grid={'C': [0.001, 0.01, 0.1, 1, 10, 100, 1000],\n",
              "                         'penalty': ['l1', 'l2']},\n",
              "             scoring='accuracy', verbose=3)"
            ],
            "text/html": [
              "<style>#sk-container-id-5 {color: black;background-color: white;}#sk-container-id-5 pre{padding: 0;}#sk-container-id-5 div.sk-toggleable {background-color: white;}#sk-container-id-5 label.sk-toggleable__label {cursor: pointer;display: block;width: 100%;margin-bottom: 0;padding: 0.3em;box-sizing: border-box;text-align: center;}#sk-container-id-5 label.sk-toggleable__label-arrow:before {content: \"▸\";float: left;margin-right: 0.25em;color: #696969;}#sk-container-id-5 label.sk-toggleable__label-arrow:hover:before {color: black;}#sk-container-id-5 div.sk-estimator:hover label.sk-toggleable__label-arrow:before {color: black;}#sk-container-id-5 div.sk-toggleable__content {max-height: 0;max-width: 0;overflow: hidden;text-align: left;background-color: #f0f8ff;}#sk-container-id-5 div.sk-toggleable__content pre {margin: 0.2em;color: black;border-radius: 0.25em;background-color: #f0f8ff;}#sk-container-id-5 input.sk-toggleable__control:checked~div.sk-toggleable__content {max-height: 200px;max-width: 100%;overflow: auto;}#sk-container-id-5 input.sk-toggleable__control:checked~label.sk-toggleable__label-arrow:before {content: \"▾\";}#sk-container-id-5 div.sk-estimator input.sk-toggleable__control:checked~label.sk-toggleable__label {background-color: #d4ebff;}#sk-container-id-5 div.sk-label input.sk-toggleable__control:checked~label.sk-toggleable__label {background-color: #d4ebff;}#sk-container-id-5 input.sk-hidden--visually {border: 0;clip: rect(1px 1px 1px 1px);clip: rect(1px, 1px, 1px, 1px);height: 1px;margin: -1px;overflow: hidden;padding: 0;position: absolute;width: 1px;}#sk-container-id-5 div.sk-estimator {font-family: monospace;background-color: #f0f8ff;border: 1px dotted black;border-radius: 0.25em;box-sizing: border-box;margin-bottom: 0.5em;}#sk-container-id-5 div.sk-estimator:hover {background-color: #d4ebff;}#sk-container-id-5 div.sk-parallel-item::after {content: \"\";width: 100%;border-bottom: 1px solid gray;flex-grow: 1;}#sk-container-id-5 div.sk-label:hover label.sk-toggleable__label {background-color: #d4ebff;}#sk-container-id-5 div.sk-serial::before {content: \"\";position: absolute;border-left: 1px solid gray;box-sizing: border-box;top: 0;bottom: 0;left: 50%;z-index: 0;}#sk-container-id-5 div.sk-serial {display: flex;flex-direction: column;align-items: center;background-color: white;padding-right: 0.2em;padding-left: 0.2em;position: relative;}#sk-container-id-5 div.sk-item {position: relative;z-index: 1;}#sk-container-id-5 div.sk-parallel {display: flex;align-items: stretch;justify-content: center;background-color: white;position: relative;}#sk-container-id-5 div.sk-item::before, #sk-container-id-5 div.sk-parallel-item::before {content: \"\";position: absolute;border-left: 1px solid gray;box-sizing: border-box;top: 0;bottom: 0;left: 50%;z-index: -1;}#sk-container-id-5 div.sk-parallel-item {display: flex;flex-direction: column;z-index: 1;position: relative;background-color: white;}#sk-container-id-5 div.sk-parallel-item:first-child::after {align-self: flex-end;width: 50%;}#sk-container-id-5 div.sk-parallel-item:last-child::after {align-self: flex-start;width: 50%;}#sk-container-id-5 div.sk-parallel-item:only-child::after {width: 0;}#sk-container-id-5 div.sk-dashed-wrapped {border: 1px dashed gray;margin: 0 0.4em 0.5em 0.4em;box-sizing: border-box;padding-bottom: 0.4em;background-color: white;}#sk-container-id-5 div.sk-label label {font-family: monospace;font-weight: bold;display: inline-block;line-height: 1.2em;}#sk-container-id-5 div.sk-label-container {text-align: center;}#sk-container-id-5 div.sk-container {/* jupyter's `normalize.less` sets `[hidden] { display: none; }` but bootstrap.min.css set `[hidden] { display: none !important; }` so we also need the `!important` here to be able to override the default hidden behavior on the sphinx rendered scikit-learn.org. See: https://github.com/scikit-learn/scikit-learn/issues/21755 */display: inline-block !important;position: relative;}#sk-container-id-5 div.sk-text-repr-fallback {display: none;}</style><div id=\"sk-container-id-5\" class=\"sk-top-container\"><div class=\"sk-text-repr-fallback\"><pre>GridSearchCV(cv=3, estimator=LogisticRegression(), n_jobs=-1,\n",
              "             param_grid={&#x27;C&#x27;: [0.001, 0.01, 0.1, 1, 10, 100, 1000],\n",
              "                         &#x27;penalty&#x27;: [&#x27;l1&#x27;, &#x27;l2&#x27;]},\n",
              "             scoring=&#x27;accuracy&#x27;, verbose=3)</pre><b>In a Jupyter environment, please rerun this cell to show the HTML representation or trust the notebook. <br />On GitHub, the HTML representation is unable to render, please try loading this page with nbviewer.org.</b></div><div class=\"sk-container\" hidden><div class=\"sk-item sk-dashed-wrapped\"><div class=\"sk-label-container\"><div class=\"sk-label sk-toggleable\"><input class=\"sk-toggleable__control sk-hidden--visually\" id=\"sk-estimator-id-13\" type=\"checkbox\" ><label for=\"sk-estimator-id-13\" class=\"sk-toggleable__label sk-toggleable__label-arrow\">GridSearchCV</label><div class=\"sk-toggleable__content\"><pre>GridSearchCV(cv=3, estimator=LogisticRegression(), n_jobs=-1,\n",
              "             param_grid={&#x27;C&#x27;: [0.001, 0.01, 0.1, 1, 10, 100, 1000],\n",
              "                         &#x27;penalty&#x27;: [&#x27;l1&#x27;, &#x27;l2&#x27;]},\n",
              "             scoring=&#x27;accuracy&#x27;, verbose=3)</pre></div></div></div><div class=\"sk-parallel\"><div class=\"sk-parallel-item\"><div class=\"sk-item\"><div class=\"sk-label-container\"><div class=\"sk-label sk-toggleable\"><input class=\"sk-toggleable__control sk-hidden--visually\" id=\"sk-estimator-id-14\" type=\"checkbox\" ><label for=\"sk-estimator-id-14\" class=\"sk-toggleable__label sk-toggleable__label-arrow\">estimator: LogisticRegression</label><div class=\"sk-toggleable__content\"><pre>LogisticRegression()</pre></div></div></div><div class=\"sk-serial\"><div class=\"sk-item\"><div class=\"sk-estimator sk-toggleable\"><input class=\"sk-toggleable__control sk-hidden--visually\" id=\"sk-estimator-id-15\" type=\"checkbox\" ><label for=\"sk-estimator-id-15\" class=\"sk-toggleable__label sk-toggleable__label-arrow\">LogisticRegression</label><div class=\"sk-toggleable__content\"><pre>LogisticRegression()</pre></div></div></div></div></div></div></div></div></div></div>"
            ]
          },
          "metadata": {},
          "execution_count": 165
        }
      ]
    },
    {
      "cell_type": "code",
      "source": [
        "optimized_clf = grid_lr_clf.best_estimator_\n"
      ],
      "metadata": {
        "id": "PhEUwQf86bJR"
      },
      "execution_count": 166,
      "outputs": []
    },
    {
      "cell_type": "code",
      "source": [
        "grid_lr_clf.best_params_\n"
      ],
      "metadata": {
        "colab": {
          "base_uri": "https://localhost:8080/"
        },
        "id": "6vi7M0486bGw",
        "outputId": "7d14a56e-d27f-4690-de70-898426a8f3b4"
      },
      "execution_count": 167,
      "outputs": [
        {
          "output_type": "execute_result",
          "data": {
            "text/plain": [
              "{'C': 1000, 'penalty': 'l2'}"
            ]
          },
          "metadata": {},
          "execution_count": 167
        }
      ]
    },
    {
      "cell_type": "code",
      "source": [
        "grid_lr_clf.best_score_\n"
      ],
      "metadata": {
        "colab": {
          "base_uri": "https://localhost:8080/"
        },
        "id": "kdGX63re6hkQ",
        "outputId": "70a1e6a5-f2fd-40a2-b791-1badcc0879d4"
      },
      "execution_count": 168,
      "outputs": [
        {
          "output_type": "execute_result",
          "data": {
            "text/plain": [
              "0.9972617097786763"
            ]
          },
          "metadata": {},
          "execution_count": 168
        }
      ]
    },
    {
      "cell_type": "code",
      "source": [
        "# Predicted Probability\n",
        "train_preds = optimized_clf.predict_proba(X_train)[:,1]\n",
        "test_preds = optimized_clf.predict_proba(X_test)[:,1]"
      ],
      "metadata": {
        "id": "TkGxSuVe6hhZ"
      },
      "execution_count": 169,
      "outputs": []
    },
    {
      "cell_type": "code",
      "source": [
        "# Get the predicted classes\n",
        "train_class_preds = optimized_clf.predict(X_train)\n",
        "test_class_preds = optimized_clf.predict(X_test)"
      ],
      "metadata": {
        "id": "XoQHAMTo6hcy"
      },
      "execution_count": 170,
      "outputs": []
    },
    {
      "cell_type": "code",
      "source": [
        "# Get the accuracy scores\n",
        "train_accuracy_lr = accuracy_score(train_class_preds,y_train)\n",
        "test_accuracy_lr = accuracy_score(test_class_preds,y_test)\n",
        "\n",
        "print(\"The accuracy on train data is \", train_accuracy_lr)\n",
        "print(\"The accuracy on test data is \", test_accuracy_lr)"
      ],
      "metadata": {
        "colab": {
          "base_uri": "https://localhost:8080/"
        },
        "id": "wDkKLvjX6hYj",
        "outputId": "dada82b4-25fa-410c-de8b-0b1495dd7a94"
      },
      "execution_count": 171,
      "outputs": [
        {
          "output_type": "stream",
          "name": "stdout",
          "text": [
            "The accuracy on train data is  0.9996577100804381\n",
            "The accuracy on test data is  0.9984031936127744\n"
          ]
        }
      ]
    },
    {
      "cell_type": "code",
      "source": [
        "test_accuracy_lr = accuracy_score(test_class_preds,y_test)\n",
        "test_precision_score_lr = precision_score(test_class_preds,y_test)\n",
        "test_recall_score_lr = recall_score(test_class_preds,y_test)\n",
        "test_f1_score_lr = f1_score(test_class_preds,y_test)\n",
        "test_roc_score_lr = roc_auc_score(test_class_preds,y_test)\n",
        "\n",
        "print(\"The accuracy on test data is \", test_accuracy_lr)\n",
        "print(\"The precision on test data is \", test_precision_score_lr)\n",
        "print(\"The recall on test data is \", test_recall_score_lr)\n",
        "print(\"The f1 on test data is \", test_f1_score_lr)\n",
        "print(\"The roc_score on test data is \", test_roc_score_lr)"
      ],
      "metadata": {
        "colab": {
          "base_uri": "https://localhost:8080/"
        },
        "id": "mEWAlDJ16hWB",
        "outputId": "390ad203-bde7-4525-9a06-588a4072e63d"
      },
      "execution_count": 172,
      "outputs": [
        {
          "output_type": "stream",
          "name": "stdout",
          "text": [
            "The accuracy on test data is  0.9984031936127744\n",
            "The precision on test data is  1.0\n",
            "The recall on test data is  0.9968152866242038\n",
            "The f1 on test data is  0.9984051036682616\n",
            "The roc_score on test data is  0.9984076433121019\n"
          ]
        }
      ]
    },
    {
      "cell_type": "code",
      "source": [
        "# Get the confusion matrix for both train and test\n",
        "\n",
        "labels = ['Not Defaulter', 'Defaulter']\n",
        "cm = confusion_matrix(y_train, train_class_preds)\n",
        "print(cm)\n",
        "\n",
        "ax= plt.subplot()\n",
        "sns.heatmap(cm, annot=True, ax = ax) #annot=True to annotate cells\n",
        "\n",
        "# labels, title and ticks\n",
        "ax.set_xlabel('Predicted labels')\n",
        "ax.set_ylabel('True labels')\n",
        "ax.set_title('Confusion Matrix')\n",
        "ax.xaxis.set_ticklabels(labels)\n",
        "ax.yaxis.set_ticklabels(labels)"
      ],
      "metadata": {
        "colab": {
          "base_uri": "https://localhost:8080/",
          "height": 347
        },
        "id": "nKGTxEg06hTv",
        "outputId": "cc84c53a-769b-4bea-8c2a-22f9ae05f382"
      },
      "execution_count": 173,
      "outputs": [
        {
          "output_type": "stream",
          "name": "stdout",
          "text": [
            "[[2919    2]\n",
            " [   0 2922]]\n"
          ]
        },
        {
          "output_type": "execute_result",
          "data": {
            "text/plain": [
              "[Text(0, 0.5, 'Not Defaulter'), Text(0, 1.5, 'Defaulter')]"
            ]
          },
          "metadata": {},
          "execution_count": 173
        },
        {
          "output_type": "display_data",
          "data": {
            "text/plain": [
              "<Figure size 432x288 with 2 Axes>"
            ],
            "image/png": "[encoded data removed]"
          },
          "metadata": {
            "needs_background": "light"
          }
        }
      ]
    },
    {
      "cell_type": "code",
      "source": [
        "feature_importance = pd.DataFrame({'Features':columns, 'Importance':np.abs(optimized_clf.coef_).ravel() })\n"
      ],
      "metadata": {
        "id": "fvDhp6Bq6hOo"
      },
      "execution_count": 174,
      "outputs": []
    },
    {
      "cell_type": "code",
      "source": [
        "feature_importance = feature_importance.sort_values(by = 'Importance', ascending=False)[:10]\n"
      ],
      "metadata": {
        "id": "1CnjuLfH6hM6"
      },
      "execution_count": 175,
      "outputs": []
    },
    {
      "cell_type": "code",
      "source": [
        "plt.bar(height=feature_importance['Importance'], x= feature_importance['Features'])\n",
        "plt.xticks(rotation=80)\n",
        "plt.title(\"Feature importances via coefficients\")\n",
        "plt.show()"
      ],
      "metadata": {
        "colab": {
          "base_uri": "https://localhost:8080/",
          "height": 389
        },
        "id": "Edr9r_0W6hJe",
        "outputId": "98b81e86-1ef0-439f-a49a-89db0b777e65"
      },
      "execution_count": 176,
      "outputs": [
        {
          "output_type": "display_data",
          "data": {
            "text/plain": [
              "<Figure size 432x288 with 1 Axes>"
            ],
            "image/png": "[encoded data removed]"
          },
          "metadata": {
            "needs_background": "light"
          }
        }
      ]
    },
    {
      "cell_type": "code",
      "source": [
        "y_preds_proba_lr = optimized_clf.predict_proba(X_test)[::,1]\n"
      ],
      "metadata": {
        "id": "vtZcLG_36hHF"
      },
      "execution_count": 177,
      "outputs": []
    },
    {
      "cell_type": "code",
      "source": [
        "y_pred_proba = y_preds_proba_lr\n",
        "fpr, tpr, _ = roc_curve(y_test,  y_pred_proba)\n",
        "auc = roc_auc_score(y_test, y_pred_proba)\n",
        "plt.plot(fpr,tpr,label=\"data 1, auc=\"+str(auc))\n",
        "plt.legend(loc=4)\n",
        "plt.show()"
      ],
      "metadata": {
        "colab": {
          "base_uri": "https://localhost:8080/",
          "height": 265
        },
        "id": "7U9hjGeh6hEg",
        "outputId": "74c5c213-60ae-4ca9-b7de-c1af7c84bac6"
      },
      "execution_count": 178,
      "outputs": [
        {
          "output_type": "display_data",
          "data": {
            "text/plain": [
              "<Figure size 432x288 with 1 Axes>"
            ],
            "image/png": "[encoded data removed]"
          },
          "metadata": {
            "needs_background": "light"
          }
        }
      ]
    },
    {
      "cell_type": "markdown",
      "source": [
        "## **Implementing XGBoost**"
      ],
      "metadata": {
        "id": "AZL0tRvY7Y5R"
      }
    },
    {
      "cell_type": "code",
      "source": [
        "#import lightgbm and xgboost \n",
        "import lightgbm as lgb \n",
        "import xgboost as xgb"
      ],
      "metadata": {
        "id": "K4GsSbs76hCI"
      },
      "execution_count": 179,
      "outputs": []
    },
    {
      "cell_type": "code",
      "source": [
        "#The data is stored in a DMatrix object \n",
        "#label is used to define our outcome variable\n",
        "\n",
        "dtrain=xgb.DMatrix(X_train,label=y_train)\n",
        "dtest=xgb.DMatrix(X_test)"
      ],
      "metadata": {
        "id": "DJezMaeW6g_i"
      },
      "execution_count": 180,
      "outputs": []
    },
    {
      "cell_type": "code",
      "source": [
        "#setting parameters for xgboost\n",
        "parameters={'max_depth':7, 'eta':1, 'silent':1,'objective':'binary:logistic','eval_metric':'auc','learning_rate':.05}"
      ],
      "metadata": {
        "id": "UxVQqjKN6g9A"
      },
      "execution_count": 181,
      "outputs": []
    },
    {
      "cell_type": "code",
      "source": [
        "#training our model \n",
        "num_round=50\n",
        "from datetime import datetime \n",
        "start = datetime.now() \n",
        "xg=xgb.train(parameters,dtrain,num_round) \n",
        "stop = datetime.now()"
      ],
      "metadata": {
        "colab": {
          "base_uri": "https://localhost:8080/"
        },
        "id": "jZtfIgWs6g6n",
        "outputId": "420d3a74-f13a-402f-fc8d-83e63d0ab40f"
      },
      "execution_count": 182,
      "outputs": [
        {
          "output_type": "stream",
          "name": "stdout",
          "text": [
            "[18:27:28] WARNING: ../src/learner.cc:767: \n",
            "Parameters: { \"silent\" } are not used.\n",
            "\n"
          ]
        }
      ]
    },
    {
      "cell_type": "code",
      "source": [
        "#Execution time of the model \n",
        "execution_time_xgb = stop-start \n",
        "execution_time_xgb"
      ],
      "metadata": {
        "colab": {
          "base_uri": "https://localhost:8080/"
        },
        "id": "ghlUxi386g4U",
        "outputId": "a5371298-657e-4c98-9b22-79f6645a3a09"
      },
      "execution_count": 183,
      "outputs": [
        {
          "output_type": "execute_result",
          "data": {
            "text/plain": [
              "datetime.timedelta(seconds=4, microseconds=273242)"
            ]
          },
          "metadata": {},
          "execution_count": 183
        }
      ]
    },
    {
      "cell_type": "code",
      "source": [
        "#now predicting our model on train set \n",
        "train_class_preds_probs=xg.predict(dtrain) \n",
        "\n",
        "#now predicting our model on test set \n",
        "test_class_preds_probs =xg.predict(dtest) "
      ],
      "metadata": {
        "id": "NSQFpiR56g1-"
      },
      "execution_count": 184,
      "outputs": []
    },
    {
      "cell_type": "code",
      "source": [
        "len(train_class_preds_probs)\n"
      ],
      "metadata": {
        "colab": {
          "base_uri": "https://localhost:8080/"
        },
        "id": "1sulycF26gzp",
        "outputId": "256519c0-1bd0-432b-ce84-18847283ec52"
      },
      "execution_count": 185,
      "outputs": [
        {
          "output_type": "execute_result",
          "data": {
            "text/plain": [
              "5843"
            ]
          },
          "metadata": {},
          "execution_count": 185
        }
      ]
    },
    {
      "cell_type": "code",
      "source": [
        "train_class_preds = []\n",
        "test_class_preds = []\n",
        "for i in range(0,len(train_class_preds_probs)):\n",
        "  if train_class_preds_probs[i] >= 0.5:\n",
        "    train_class_preds.append(1)\n",
        "  else:\n",
        "    train_class_preds.append(0)\n",
        "\n",
        "for i in range(0,len(test_class_preds_probs)):\n",
        "  if test_class_preds_probs[i] >= 0.5:\n",
        "    test_class_preds.append(1)\n",
        "  else:\n",
        "    test_class_preds.append(0)"
      ],
      "metadata": {
        "id": "_RpOSJbh6gxm"
      },
      "execution_count": 186,
      "outputs": []
    },
    {
      "cell_type": "code",
      "source": [
        "test_class_preds_probs[:20]\n"
      ],
      "metadata": {
        "colab": {
          "base_uri": "https://localhost:8080/"
        },
        "id": "RrLxS3Rz6gvJ",
        "outputId": "fe9f86c3-1032-44cc-c517-d85e1ee5a4b5"
      },
      "execution_count": 187,
      "outputs": [
        {
          "output_type": "execute_result",
          "data": {
            "text/plain": [
              "array([0.04083339, 0.04083339, 0.04083339, 0.9577767 , 0.04083339,\n",
              "       0.7680366 , 0.94155574, 0.9583941 , 0.7646182 , 0.04083339,\n",
              "       0.9583941 , 0.04083339, 0.04083339, 0.9583941 , 0.9583941 ,\n",
              "       0.04083339, 0.04083339, 0.03980976, 0.9583941 , 0.04083339],\n",
              "      dtype=float32)"
            ]
          },
          "metadata": {},
          "execution_count": 187
        }
      ]
    },
    {
      "cell_type": "code",
      "source": [
        "test_class_preds[:20]\n"
      ],
      "metadata": {
        "colab": {
          "base_uri": "https://localhost:8080/"
        },
        "id": "RzZjMS7D6gsp",
        "outputId": "7371970c-335c-4ce9-a984-36d1283ef058"
      },
      "execution_count": 188,
      "outputs": [
        {
          "output_type": "execute_result",
          "data": {
            "text/plain": [
              "[0, 0, 0, 1, 0, 1, 1, 1, 1, 0, 1, 0, 0, 1, 1, 0, 0, 0, 1, 0]"
            ]
          },
          "metadata": {},
          "execution_count": 188
        }
      ]
    },
    {
      "cell_type": "code",
      "source": [
        "len(y_train)\n"
      ],
      "metadata": {
        "colab": {
          "base_uri": "https://localhost:8080/"
        },
        "id": "jnhEHIt46gqV",
        "outputId": "971fd8e6-ccfc-43dd-c76d-c430c7b3a5a1"
      },
      "execution_count": 189,
      "outputs": [
        {
          "output_type": "execute_result",
          "data": {
            "text/plain": [
              "5843"
            ]
          },
          "metadata": {},
          "execution_count": 189
        }
      ]
    },
    {
      "cell_type": "code",
      "source": [
        "len(train_class_preds)\n"
      ],
      "metadata": {
        "colab": {
          "base_uri": "https://localhost:8080/"
        },
        "id": "h4FSkNko6goJ",
        "outputId": "b62121f3-a812-458c-bbb5-fa139c667c28"
      },
      "execution_count": 190,
      "outputs": [
        {
          "output_type": "execute_result",
          "data": {
            "text/plain": [
              "5843"
            ]
          },
          "metadata": {},
          "execution_count": 190
        }
      ]
    },
    {
      "cell_type": "code",
      "source": [
        "# Get the accuracy scores\n",
        "train_accuracy_xgb = accuracy_score(train_class_preds,y_train)\n",
        "test_accuracy_xgb = accuracy_score(test_class_preds,y_test)\n",
        "\n",
        "print(\"The accuracy on train data is \", train_accuracy_xgb)\n",
        "print(\"The accuracy on test data is \", test_accuracy_xgb)"
      ],
      "metadata": {
        "colab": {
          "base_uri": "https://localhost:8080/"
        },
        "id": "zYPLHoX27yGL",
        "outputId": "4b8825cc-fcb6-4e50-e42f-6183b677f5c4"
      },
      "execution_count": 191,
      "outputs": [
        {
          "output_type": "stream",
          "name": "stdout",
          "text": [
            "The accuracy on train data is  0.9976039705630669\n",
            "The accuracy on test data is  0.987624750499002\n"
          ]
        }
      ]
    },
    {
      "cell_type": "code",
      "source": [
        "test_accuracy_xgb = accuracy_score(test_class_preds,y_test)\n",
        "test_precision_xgb = precision_score(test_class_preds,y_test)\n",
        "test_recall_score_xgb = recall_score(test_class_preds,y_test)\n",
        "test_f1_score_xgb = f1_score(test_class_preds,y_test)\n",
        "test_roc_score_xgb = roc_auc_score(test_class_preds,y_test)\n",
        "\n",
        "print(\"The accuracy on test data is \", test_accuracy_xgb)\n",
        "print(\"The precision on test data is \", test_precision_xgb)\n",
        "print(\"The recall on test data is \", test_recall_score_xgb)\n",
        "print(\"The f1 on test data is \", test_f1_score_xgb)\n",
        "print(\"The roc_score on train data is \", test_roc_score_xgb)"
      ],
      "metadata": {
        "colab": {
          "base_uri": "https://localhost:8080/"
        },
        "id": "i8pJm7__7yDz",
        "outputId": "4d62f5bb-71c1-41cf-9e3d-91f537138687"
      },
      "execution_count": 192,
      "outputs": [
        {
          "output_type": "stream",
          "name": "stdout",
          "text": [
            "The accuracy on test data is  0.987624750499002\n",
            "The precision on test data is  0.9976038338658147\n",
            "The recall on test data is  0.9780736100234926\n",
            "The f1 on test data is  0.9877421905891658\n",
            "The roc_score on train data is  0.9878153066404107\n"
          ]
        }
      ]
    },
    {
      "cell_type": "markdown",
      "source": [
        "## **Hyperparameter Tuning**"
      ],
      "metadata": {
        "id": "EDbtMlkl74Dx"
      }
    },
    {
      "cell_type": "code",
      "source": [
        "from xgboost import  XGBClassifier\n"
      ],
      "metadata": {
        "id": "fO9cMNCp7yAF"
      },
      "execution_count": 193,
      "outputs": []
    },
    {
      "cell_type": "code",
      "source": [
        "X = df_log_reg.drop(['loan_status'],axis=1)\n",
        "y = df_log_reg['loan_status']"
      ],
      "metadata": {
        "id": "InKPCVzb7x9s"
      },
      "execution_count": 194,
      "outputs": []
    },
    {
      "cell_type": "code",
      "source": [
        "X_train, X_test, y_train, y_test = train_test_split(X, y, test_size=0.20, random_state=42, stratify = y)"
      ],
      "metadata": {
        "id": "FY8pJ9YH7x7h"
      },
      "execution_count": 195,
      "outputs": []
    },
    {
      "cell_type": "code",
      "source": [
        "param_test1 = {\n",
        " 'max_depth':range(3,10,2),\n",
        " 'min_child_weight':range(1,6,2)\n",
        "}\n",
        "gsearch1 = GridSearchCV(estimator = XGBClassifier( learning_rate =0.1, n_estimators=140, max_depth=5,\n",
        " min_child_weight=1, gamma=0, subsample=0.8, colsample_bytree=0.8,\n",
        " objective= 'binary:logistic', nthread=4, scale_pos_weight=1, seed=27), \n",
        " param_grid = param_test1, scoring='accuracy',n_jobs=-1, cv=3, verbose = 2)\n",
        "gsearch1.fit(X_train, y_train)"
      ],
      "metadata": {
        "colab": {
          "base_uri": "https://localhost:8080/",
          "height": 135
        },
        "id": "q4gQI3r37x5B",
        "outputId": "69d45698-2515-4d04-ece1-d765bb5d6ca4"
      },
      "execution_count": 134,
      "outputs": [
        {
          "output_type": "stream",
          "name": "stdout",
          "text": [
            "Fitting 3 folds for each of 12 candidates, totalling 36 fits\n"
          ]
        },
        {
          "output_type": "execute_result",
          "data": {
            "text/plain": [
              "GridSearchCV(cv=3,\n",
              "             estimator=XGBClassifier(base_score=None, booster=None,\n",
              "                                     callbacks=None, colsample_bylevel=None,\n",
              "                                     colsample_bynode=None,\n",
              "                                     colsample_bytree=0.8,\n",
              "                                     early_stopping_rounds=None,\n",
              "                                     enable_categorical=False, eval_metric=None,\n",
              "                                     feature_types=None, gamma=0, gpu_id=None,\n",
              "                                     grow_policy=None, importance_type=None,\n",
              "                                     interaction_constraints=None,\n",
              "                                     learning_rate=0.1, max_bin=None,\n",
              "                                     max_cat_threshold=None,\n",
              "                                     max_cat_to_onehot=None,\n",
              "                                     max_delta_step=None, max_depth=5,\n",
              "                                     max_leaves=None, min_child_weight=1,\n",
              "                                     missing=nan, monotone_constraints=None,\n",
              "                                     n_estimators=140, n_jobs=None, nthread=4,\n",
              "                                     num_parallel_tree=None, predictor=None, ...),\n",
              "             n_jobs=-1,\n",
              "             param_grid={'max_depth': range(3, 10, 2),\n",
              "                         'min_child_weight': range(1, 6, 2)},\n",
              "             scoring='accuracy', verbose=2)"
            ],
            "text/html": [
              "<style>#sk-container-id-4 {color: black;background-color: white;}#sk-container-id-4 pre{padding: 0;}#sk-container-id-4 div.sk-toggleable {background-color: white;}#sk-container-id-4 label.sk-toggleable__label {cursor: pointer;display: block;width: 100%;margin-bottom: 0;padding: 0.3em;box-sizing: border-box;text-align: center;}#sk-container-id-4 label.sk-toggleable__label-arrow:before {content: \"▸\";float: left;margin-right: 0.25em;color: #696969;}#sk-container-id-4 label.sk-toggleable__label-arrow:hover:before {color: black;}#sk-container-id-4 div.sk-estimator:hover label.sk-toggleable__label-arrow:before {color: black;}#sk-container-id-4 div.sk-toggleable__content {max-height: 0;max-width: 0;overflow: hidden;text-align: left;background-color: #f0f8ff;}#sk-container-id-4 div.sk-toggleable__content pre {margin: 0.2em;color: black;border-radius: 0.25em;background-color: #f0f8ff;}#sk-container-id-4 input.sk-toggleable__control:checked~div.sk-toggleable__content {max-height: 200px;max-width: 100%;overflow: auto;}#sk-container-id-4 input.sk-toggleable__control:checked~label.sk-toggleable__label-arrow:before {content: \"▾\";}#sk-container-id-4 div.sk-estimator input.sk-toggleable__control:checked~label.sk-toggleable__label {background-color: #d4ebff;}#sk-container-id-4 div.sk-label input.sk-toggleable__control:checked~label.sk-toggleable__label {background-color: #d4ebff;}#sk-container-id-4 input.sk-hidden--visually {border: 0;clip: rect(1px 1px 1px 1px);clip: rect(1px, 1px, 1px, 1px);height: 1px;margin: -1px;overflow: hidden;padding: 0;position: absolute;width: 1px;}#sk-container-id-4 div.sk-estimator {font-family: monospace;background-color: #f0f8ff;border: 1px dotted black;border-radius: 0.25em;box-sizing: border-box;margin-bottom: 0.5em;}#sk-container-id-4 div.sk-estimator:hover {background-color: #d4ebff;}#sk-container-id-4 div.sk-parallel-item::after {content: \"\";width: 100%;border-bottom: 1px solid gray;flex-grow: 1;}#sk-container-id-4 div.sk-label:hover label.sk-toggleable__label {background-color: #d4ebff;}#sk-container-id-4 div.sk-serial::before {content: \"\";position: absolute;border-left: 1px solid gray;box-sizing: border-box;top: 0;bottom: 0;left: 50%;z-index: 0;}#sk-container-id-4 div.sk-serial {display: flex;flex-direction: column;align-items: center;background-color: white;padding-right: 0.2em;padding-left: 0.2em;position: relative;}#sk-container-id-4 div.sk-item {position: relative;z-index: 1;}#sk-container-id-4 div.sk-parallel {display: flex;align-items: stretch;justify-content: center;background-color: white;position: relative;}#sk-container-id-4 div.sk-item::before, #sk-container-id-4 div.sk-parallel-item::before {content: \"\";position: absolute;border-left: 1px solid gray;box-sizing: border-box;top: 0;bottom: 0;left: 50%;z-index: -1;}#sk-container-id-4 div.sk-parallel-item {display: flex;flex-direction: column;z-index: 1;position: relative;background-color: white;}#sk-container-id-4 div.sk-parallel-item:first-child::after {align-self: flex-end;width: 50%;}#sk-container-id-4 div.sk-parallel-item:last-child::after {align-self: flex-start;width: 50%;}#sk-container-id-4 div.sk-parallel-item:only-child::after {width: 0;}#sk-container-id-4 div.sk-dashed-wrapped {border: 1px dashed gray;margin: 0 0.4em 0.5em 0.4em;box-sizing: border-box;padding-bottom: 0.4em;background-color: white;}#sk-container-id-4 div.sk-label label {font-family: monospace;font-weight: bold;display: inline-block;line-height: 1.2em;}#sk-container-id-4 div.sk-label-container {text-align: center;}#sk-container-id-4 div.sk-container {/* jupyter's `normalize.less` sets `[hidden] { display: none; }` but bootstrap.min.css set `[hidden] { display: none !important; }` so we also need the `!important` here to be able to override the default hidden behavior on the sphinx rendered scikit-learn.org. See: https://github.com/scikit-learn/scikit-learn/issues/21755 */display: inline-block !important;position: relative;}#sk-container-id-4 div.sk-text-repr-fallback {display: none;}</style><div id=\"sk-container-id-4\" class=\"sk-top-container\"><div class=\"sk-text-repr-fallback\"><pre>GridSearchCV(cv=3,\n",
              "             estimator=XGBClassifier(base_score=None, booster=None,\n",
              "                                     callbacks=None, colsample_bylevel=None,\n",
              "                                     colsample_bynode=None,\n",
              "                                     colsample_bytree=0.8,\n",
              "                                     early_stopping_rounds=None,\n",
              "                                     enable_categorical=False, eval_metric=None,\n",
              "                                     feature_types=None, gamma=0, gpu_id=None,\n",
              "                                     grow_policy=None, importance_type=None,\n",
              "                                     interaction_constraints=None,\n",
              "                                     learning_rate=0.1, max_bin=None,\n",
              "                                     max_cat_threshold=None,\n",
              "                                     max_cat_to_onehot=None,\n",
              "                                     max_delta_step=None, max_depth=5,\n",
              "                                     max_leaves=None, min_child_weight=1,\n",
              "                                     missing=nan, monotone_constraints=None,\n",
              "                                     n_estimators=140, n_jobs=None, nthread=4,\n",
              "                                     num_parallel_tree=None, predictor=None, ...),\n",
              "             n_jobs=-1,\n",
              "             param_grid={&#x27;max_depth&#x27;: range(3, 10, 2),\n",
              "                         &#x27;min_child_weight&#x27;: range(1, 6, 2)},\n",
              "             scoring=&#x27;accuracy&#x27;, verbose=2)</pre><b>In a Jupyter environment, please rerun this cell to show the HTML representation or trust the notebook. <br />On GitHub, the HTML representation is unable to render, please try loading this page with nbviewer.org.</b></div><div class=\"sk-container\" hidden><div class=\"sk-item sk-dashed-wrapped\"><div class=\"sk-label-container\"><div class=\"sk-label sk-toggleable\"><input class=\"sk-toggleable__control sk-hidden--visually\" id=\"sk-estimator-id-10\" type=\"checkbox\" ><label for=\"sk-estimator-id-10\" class=\"sk-toggleable__label sk-toggleable__label-arrow\">GridSearchCV</label><div class=\"sk-toggleable__content\"><pre>GridSearchCV(cv=3,\n",
              "             estimator=XGBClassifier(base_score=None, booster=None,\n",
              "                                     callbacks=None, colsample_bylevel=None,\n",
              "                                     colsample_bynode=None,\n",
              "                                     colsample_bytree=0.8,\n",
              "                                     early_stopping_rounds=None,\n",
              "                                     enable_categorical=False, eval_metric=None,\n",
              "                                     feature_types=None, gamma=0, gpu_id=None,\n",
              "                                     grow_policy=None, importance_type=None,\n",
              "                                     interaction_constraints=None,\n",
              "                                     learning_rate=0.1, max_bin=None,\n",
              "                                     max_cat_threshold=None,\n",
              "                                     max_cat_to_onehot=None,\n",
              "                                     max_delta_step=None, max_depth=5,\n",
              "                                     max_leaves=None, min_child_weight=1,\n",
              "                                     missing=nan, monotone_constraints=None,\n",
              "                                     n_estimators=140, n_jobs=None, nthread=4,\n",
              "                                     num_parallel_tree=None, predictor=None, ...),\n",
              "             n_jobs=-1,\n",
              "             param_grid={&#x27;max_depth&#x27;: range(3, 10, 2),\n",
              "                         &#x27;min_child_weight&#x27;: range(1, 6, 2)},\n",
              "             scoring=&#x27;accuracy&#x27;, verbose=2)</pre></div></div></div><div class=\"sk-parallel\"><div class=\"sk-parallel-item\"><div class=\"sk-item\"><div class=\"sk-label-container\"><div class=\"sk-label sk-toggleable\"><input class=\"sk-toggleable__control sk-hidden--visually\" id=\"sk-estimator-id-11\" type=\"checkbox\" ><label for=\"sk-estimator-id-11\" class=\"sk-toggleable__label sk-toggleable__label-arrow\">estimator: XGBClassifier</label><div class=\"sk-toggleable__content\"><pre>XGBClassifier(base_score=None, booster=None, callbacks=None,\n",
              "              colsample_bylevel=None, colsample_bynode=None,\n",
              "              colsample_bytree=0.8, early_stopping_rounds=None,\n",
              "              enable_categorical=False, eval_metric=None, feature_types=None,\n",
              "              gamma=0, gpu_id=None, grow_policy=None, importance_type=None,\n",
              "              interaction_constraints=None, learning_rate=0.1, max_bin=None,\n",
              "              max_cat_threshold=None, max_cat_to_onehot=None,\n",
              "              max_delta_step=None, max_depth=5, max_leaves=None,\n",
              "              min_child_weight=1, missing=nan, monotone_constraints=None,\n",
              "              n_estimators=140, n_jobs=None, nthread=4, num_parallel_tree=None,\n",
              "              predictor=None, ...)</pre></div></div></div><div class=\"sk-serial\"><div class=\"sk-item\"><div class=\"sk-estimator sk-toggleable\"><input class=\"sk-toggleable__control sk-hidden--visually\" id=\"sk-estimator-id-12\" type=\"checkbox\" ><label for=\"sk-estimator-id-12\" class=\"sk-toggleable__label sk-toggleable__label-arrow\">XGBClassifier</label><div class=\"sk-toggleable__content\"><pre>XGBClassifier(base_score=None, booster=None, callbacks=None,\n",
              "              colsample_bylevel=None, colsample_bynode=None,\n",
              "              colsample_bytree=0.8, early_stopping_rounds=None,\n",
              "              enable_categorical=False, eval_metric=None, feature_types=None,\n",
              "              gamma=0, gpu_id=None, grow_policy=None, importance_type=None,\n",
              "              interaction_constraints=None, learning_rate=0.1, max_bin=None,\n",
              "              max_cat_threshold=None, max_cat_to_onehot=None,\n",
              "              max_delta_step=None, max_depth=5, max_leaves=None,\n",
              "              min_child_weight=1, missing=nan, monotone_constraints=None,\n",
              "              n_estimators=140, n_jobs=None, nthread=4, num_parallel_tree=None,\n",
              "              predictor=None, ...)</pre></div></div></div></div></div></div></div></div></div></div>"
            ]
          },
          "metadata": {},
          "execution_count": 134
        }
      ]
    },
    {
      "cell_type": "code",
      "source": [
        " gsearch1.best_score_"
      ],
      "metadata": {
        "colab": {
          "base_uri": "https://localhost:8080/"
        },
        "id": "yKes76VO7x2p",
        "outputId": "16dc3a91-95bc-4d16-e523-b4d05a0a7b06"
      },
      "execution_count": 135,
      "outputs": [
        {
          "output_type": "execute_result",
          "data": {
            "text/plain": [
              "0.9929619646600779"
            ]
          },
          "metadata": {},
          "execution_count": 135
        }
      ]
    },
    {
      "cell_type": "code",
      "source": [
        "optimal_xgb = gsearch1.best_estimator_"
      ],
      "metadata": {
        "id": "cT4NtVRl7x0o"
      },
      "execution_count": 136,
      "outputs": []
    },
    {
      "cell_type": "code",
      "source": [
        "# Get the predicted classes\n",
        "train_class_preds = optimal_xgb.predict(X_train)\n",
        "test_class_preds = optimal_xgb.predict(X_test)"
      ],
      "metadata": {
        "id": "jXYevhwE7xyB"
      },
      "execution_count": 137,
      "outputs": []
    },
    {
      "cell_type": "code",
      "source": [
        "# Get the accuracy scores\n",
        "train_accuracy_xgb_tuned = accuracy_score(train_class_preds,y_train)\n",
        "test_accuracy_xgb_tuned = accuracy_score(test_class_preds,y_test)\n",
        "\n",
        "print(\"The accuracy on train data is \", train_accuracy_xgb_tuned)\n",
        "print(\"The accuracy on test data is \", test_accuracy_xgb_tuned)"
      ],
      "metadata": {
        "colab": {
          "base_uri": "https://localhost:8080/"
        },
        "id": "8m3kwHS87xva",
        "outputId": "5201de8f-b7c2-4608-dc76-1cd4126eb9a8"
      },
      "execution_count": 138,
      "outputs": [
        {
          "output_type": "stream",
          "name": "stdout",
          "text": [
            "The accuracy on train data is  1.0\n",
            "The accuracy on test data is  0.9934131736526947\n"
          ]
        }
      ]
    },
    {
      "cell_type": "code",
      "source": [
        "test_accuracy_xgb_tuned = accuracy_score(test_class_preds,y_test)\n",
        "test_precision_xgb_tuned = precision_score(test_class_preds,y_test)\n",
        "test_recall_score_xgb_tuned = recall_score(test_class_preds,y_test)\n",
        "test_f1_score_xgb_tuned = f1_score(test_class_preds,y_test)\n",
        "test_roc_score_xgb_tuned = roc_auc_score(test_class_preds,y_test)\n",
        "\n",
        "print(\"The accuracy on test data is \", test_accuracy_xgb_tuned)\n",
        "print(\"The precision on test data is \", test_precision_xgb_tuned)\n",
        "print(\"The recall on test data is \", test_recall_score_xgb_tuned)\n",
        "print(\"The f1 on test data is \", test_f1_score_xgb_tuned)\n",
        "print(\"The roc_score on train data is \", test_roc_score_xgb_tuned)"
      ],
      "metadata": {
        "colab": {
          "base_uri": "https://localhost:8080/"
        },
        "id": "i_3TX1tu7xsq",
        "outputId": "4019d76f-62a6-4c09-aa27-ae1841e10d8d"
      },
      "execution_count": 139,
      "outputs": [
        {
          "output_type": "stream",
          "name": "stdout",
          "text": [
            "The accuracy on test data is  0.9934131736526947\n",
            "The precision on test data is  0.9976047904191617\n",
            "The recall on test data is  0.9893111638954869\n",
            "The f1 on test data is  0.9934406678592725\n",
            "The roc_score on train data is  0.9934478524791444\n"
          ]
        }
      ]
    },
    {
      "cell_type": "code",
      "source": [
        "y_preds_proba_xgb = optimal_xgb.predict_proba(X_test)[::,1]"
      ],
      "metadata": {
        "id": "y6JJJkvD7xqJ"
      },
      "execution_count": 140,
      "outputs": []
    },
    {
      "cell_type": "code",
      "source": [
        "y_pred_proba = y_preds_proba_xgb\n",
        "fpr, tpr, _ = roc_curve(y_test,  y_pred_proba)\n",
        "auc = roc_auc_score(y_test, y_pred_proba)\n",
        "plt.plot(fpr,tpr,label=\"data 1, auc=\"+str(auc))\n",
        "plt.legend(loc=4)\n",
        "plt.show()\n"
      ],
      "metadata": {
        "colab": {
          "base_uri": "https://localhost:8080/",
          "height": 265
        },
        "id": "k91m6tLF6gl4",
        "outputId": "dadceea9-07a4-4759-fc17-79665ab0182d"
      },
      "execution_count": 141,
      "outputs": [
        {
          "output_type": "display_data",
          "data": {
            "text/plain": [
              "<Figure size 432x288 with 1 Axes>"
            ],
            "image/png": "[encoded data removed]"
          },
          "metadata": {
            "needs_background": "light"
          }
        }
      ]
    },
    {
      "cell_type": "code",
      "source": [],
      "metadata": {
        "id": "lUPW1pQPhAhY"
      },
      "execution_count": 141,
      "outputs": []
    },
    {
      "cell_type": "code",
      "source": [],
      "metadata": {
        "id": "L1nmdShfhAeV"
      },
      "execution_count": 141,
      "outputs": []
    },
    {
      "cell_type": "code",
      "source": [],
      "metadata": {
        "id": "-CgDawTQhAbW"
      },
      "execution_count": 141,
      "outputs": []
    },
    {
      "cell_type": "code",
      "source": [],
      "metadata": {
        "id": "8qhPzeXg6bEg"
      },
      "execution_count": 141,
      "outputs": []
    },
    {
      "cell_type": "code",
      "source": [],
      "metadata": {
        "id": "8LwKxiFO9F4o"
      },
      "execution_count": 141,
      "outputs": []
    }
  ]
}