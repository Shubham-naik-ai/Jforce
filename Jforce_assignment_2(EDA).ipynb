{
  "nbformat": 4,
  "nbformat_minor": 0,
  "metadata": {
    "colab": {
      "provenance": [],
      "include_colab_link": true
    },
    "kernelspec": {
      "name": "python3",
      "display_name": "Python 3"
    },
    "language_info": {
      "name": "python"
    }
  },
  "cells": [
    {
      "cell_type": "markdown",
      "metadata": {
        "id": "view-in-github",
        "colab_type": "text"
      },
      "source": [
        "<a href=\"https://colab.research.google.com/github/Shubham-naik-ai/Jforce/blob/main/Jforce_assignment_2(EDA).ipynb\" target=\"_parent\"><img src=\"https://colab.research.google.com/assets/colab-badge.svg\" alt=\"Open In Colab\"/></a>"
      ]
    },
    {
      "cell_type": "code",
      "execution_count": 70,
      "metadata": {
        "colab": {
          "base_uri": "https://localhost:8080/"
        },
        "id": "-31F_9AM8rM9",
        "outputId": "75053402-cbd0-45ff-cb56-270820302933"
      },
      "outputs": [
        {
          "output_type": "stream",
          "name": "stdout",
          "text": [
            "Drive already mounted at /content/drive; to attempt to forcibly remount, call drive.mount(\"/content/drive\", force_remount=True).\n"
          ]
        }
      ],
      "source": [
        "# Importing usefull libraries for EDA\n",
        "import numpy as np\n",
        "import pandas as pd\n",
        "import matplotlib.pyplot as plt\n",
        "import seaborn as sns\n",
        "%matplotlib inline\n",
        "\n",
        "import os\n",
        "from google.colab import drive\n",
        "drive.mount('/content/drive')\n",
        "working_dir_path = '/content/drive/MyDrive/Jforce/'"
      ]
    },
    {
      "cell_type": "code",
      "source": [
        "from sklearn.preprocessing import StandardScaler\n",
        "from sklearn.model_selection import train_test_split\n",
        "from sklearn.linear_model import LogisticRegression\n",
        "from sklearn.model_selection import GridSearchCV\n",
        "\n",
        "from sklearn.metrics import accuracy_score, recall_score, precision_score, f1_score, roc_auc_score, confusion_matrix, roc_curve, auc\n",
        "\n",
        "from sklearn.svm import SVC"
      ],
      "metadata": {
        "id": "SLcogBDS679J"
      },
      "execution_count": 71,
      "outputs": []
    },
    {
      "cell_type": "code",
      "source": [
        "#Loading the Dataset\n",
        "df = pd.read_csv(working_dir_path + 'lending_club_loans - lending_club_loans.csv',skiprows=1)"
      ],
      "metadata": {
        "colab": {
          "base_uri": "https://localhost:8080/"
        },
        "id": "w2FRDoJa9GiJ",
        "outputId": "552c4cb6-4f85-4e6e-c3e2-7d933f456875"
      },
      "execution_count": 72,
      "outputs": [
        {
          "output_type": "stream",
          "name": "stderr",
          "text": [
            "/usr/local/lib/python3.9/dist-packages/IPython/core/interactiveshell.py:3326: DtypeWarning: Columns (0,49) have mixed types.Specify dtype option on import or set low_memory=False.\n",
            "  exec(code_obj, self.user_global_ns, self.user_ns)\n"
          ]
        }
      ]
    },
    {
      "cell_type": "code",
      "source": [
        "df.head()"
      ],
      "metadata": {
        "colab": {
          "base_uri": "https://localhost:8080/",
          "height": 386
        },
        "id": "lneR1C-59GgC",
        "outputId": "1ea92aa4-8abf-4f43-fdb5-af7540cfe2e3"
      },
      "execution_count": 73,
      "outputs": [
        {
          "output_type": "execute_result",
          "data": {
            "text/plain": [
              "        id  member_id  loan_amnt  funded_amnt  funded_amnt_inv        term  \\\n",
              "0  1077501  1296599.0     5000.0       5000.0           4975.0   36 months   \n",
              "1  1077430  1314167.0     2500.0       2500.0           2500.0   60 months   \n",
              "2  1077175  1313524.0     2400.0       2400.0           2400.0   36 months   \n",
              "3  1076863  1277178.0    10000.0      10000.0          10000.0   36 months   \n",
              "4  1075358  1311748.0     3000.0       3000.0           3000.0   60 months   \n",
              "\n",
              "  int_rate  installment grade sub_grade  ... num_tl_90g_dpd_24m  \\\n",
              "0   10.65%       162.87     B        B2  ...                NaN   \n",
              "1   15.27%        59.83     C        C4  ...                NaN   \n",
              "2   15.96%        84.33     C        C5  ...                NaN   \n",
              "3   13.49%       339.31     C        C1  ...                NaN   \n",
              "4   12.69%        67.79     B        B5  ...                NaN   \n",
              "\n",
              "  num_tl_op_past_12m pct_tl_nvr_dlq  percent_bc_gt_75 pub_rec_bankruptcies  \\\n",
              "0                NaN            NaN               NaN                  0.0   \n",
              "1                NaN            NaN               NaN                  0.0   \n",
              "2                NaN            NaN               NaN                  0.0   \n",
              "3                NaN            NaN               NaN                  0.0   \n",
              "4                NaN            NaN               NaN                  0.0   \n",
              "\n",
              "  tax_liens tot_hi_cred_lim total_bal_ex_mort total_bc_limit  \\\n",
              "0       0.0             NaN               NaN            NaN   \n",
              "1       0.0             NaN               NaN            NaN   \n",
              "2       0.0             NaN               NaN            NaN   \n",
              "3       0.0             NaN               NaN            NaN   \n",
              "4       0.0             NaN               NaN            NaN   \n",
              "\n",
              "  total_il_high_credit_limit  \n",
              "0                        NaN  \n",
              "1                        NaN  \n",
              "2                        NaN  \n",
              "3                        NaN  \n",
              "4                        NaN  \n",
              "\n",
              "[5 rows x 115 columns]"
            ],
            "text/html": [
              "\n",
              "  <div id=\"df-bf21039e-cfbf-4861-89c6-8edc4a6e6f0e\">\n",
              "    <div class=\"colab-df-container\">\n",
              "      <div>\n",
              "<style scoped>\n",
              "    .dataframe tbody tr th:only-of-type {\n",
              "        vertical-align: middle;\n",
              "    }\n",
              "\n",
              "    .dataframe tbody tr th {\n",
              "        vertical-align: top;\n",
              "    }\n",
              "\n",
              "    .dataframe thead th {\n",
              "        text-align: right;\n",
              "    }\n",
              "</style>\n",
              "<table border=\"1\" class=\"dataframe\">\n",
              "  <thead>\n",
              "    <tr style=\"text-align: right;\">\n",
              "      <th></th>\n",
              "      <th>id</th>\n",
              "      <th>member_id</th>\n",
              "      <th>loan_amnt</th>\n",
              "      <th>funded_amnt</th>\n",
              "      <th>funded_amnt_inv</th>\n",
              "      <th>term</th>\n",
              "      <th>int_rate</th>\n",
              "      <th>installment</th>\n",
              "      <th>grade</th>\n",
              "      <th>sub_grade</th>\n",
              "      <th>...</th>\n",
              "      <th>num_tl_90g_dpd_24m</th>\n",
              "      <th>num_tl_op_past_12m</th>\n",
              "      <th>pct_tl_nvr_dlq</th>\n",
              "      <th>percent_bc_gt_75</th>\n",
              "      <th>pub_rec_bankruptcies</th>\n",
              "      <th>tax_liens</th>\n",
              "      <th>tot_hi_cred_lim</th>\n",
              "      <th>total_bal_ex_mort</th>\n",
              "      <th>total_bc_limit</th>\n",
              "      <th>total_il_high_credit_limit</th>\n",
              "    </tr>\n",
              "  </thead>\n",
              "  <tbody>\n",
              "    <tr>\n",
              "      <th>0</th>\n",
              "      <td>1077501</td>\n",
              "      <td>1296599.0</td>\n",
              "      <td>5000.0</td>\n",
              "      <td>5000.0</td>\n",
              "      <td>4975.0</td>\n",
              "      <td>36 months</td>\n",
              "      <td>10.65%</td>\n",
              "      <td>162.87</td>\n",
              "      <td>B</td>\n",
              "      <td>B2</td>\n",
              "      <td>...</td>\n",
              "      <td>NaN</td>\n",
              "      <td>NaN</td>\n",
              "      <td>NaN</td>\n",
              "      <td>NaN</td>\n",
              "      <td>0.0</td>\n",
              "      <td>0.0</td>\n",
              "      <td>NaN</td>\n",
              "      <td>NaN</td>\n",
              "      <td>NaN</td>\n",
              "      <td>NaN</td>\n",
              "    </tr>\n",
              "    <tr>\n",
              "      <th>1</th>\n",
              "      <td>1077430</td>\n",
              "      <td>1314167.0</td>\n",
              "      <td>2500.0</td>\n",
              "      <td>2500.0</td>\n",
              "      <td>2500.0</td>\n",
              "      <td>60 months</td>\n",
              "      <td>15.27%</td>\n",
              "      <td>59.83</td>\n",
              "      <td>C</td>\n",
              "      <td>C4</td>\n",
              "      <td>...</td>\n",
              "      <td>NaN</td>\n",
              "      <td>NaN</td>\n",
              "      <td>NaN</td>\n",
              "      <td>NaN</td>\n",
              "      <td>0.0</td>\n",
              "      <td>0.0</td>\n",
              "      <td>NaN</td>\n",
              "      <td>NaN</td>\n",
              "      <td>NaN</td>\n",
              "      <td>NaN</td>\n",
              "    </tr>\n",
              "    <tr>\n",
              "      <th>2</th>\n",
              "      <td>1077175</td>\n",
              "      <td>1313524.0</td>\n",
              "      <td>2400.0</td>\n",
              "      <td>2400.0</td>\n",
              "      <td>2400.0</td>\n",
              "      <td>36 months</td>\n",
              "      <td>15.96%</td>\n",
              "      <td>84.33</td>\n",
              "      <td>C</td>\n",
              "      <td>C5</td>\n",
              "      <td>...</td>\n",
              "      <td>NaN</td>\n",
              "      <td>NaN</td>\n",
              "      <td>NaN</td>\n",
              "      <td>NaN</td>\n",
              "      <td>0.0</td>\n",
              "      <td>0.0</td>\n",
              "      <td>NaN</td>\n",
              "      <td>NaN</td>\n",
              "      <td>NaN</td>\n",
              "      <td>NaN</td>\n",
              "    </tr>\n",
              "    <tr>\n",
              "      <th>3</th>\n",
              "      <td>1076863</td>\n",
              "      <td>1277178.0</td>\n",
              "      <td>10000.0</td>\n",
              "      <td>10000.0</td>\n",
              "      <td>10000.0</td>\n",
              "      <td>36 months</td>\n",
              "      <td>13.49%</td>\n",
              "      <td>339.31</td>\n",
              "      <td>C</td>\n",
              "      <td>C1</td>\n",
              "      <td>...</td>\n",
              "      <td>NaN</td>\n",
              "      <td>NaN</td>\n",
              "      <td>NaN</td>\n",
              "      <td>NaN</td>\n",
              "      <td>0.0</td>\n",
              "      <td>0.0</td>\n",
              "      <td>NaN</td>\n",
              "      <td>NaN</td>\n",
              "      <td>NaN</td>\n",
              "      <td>NaN</td>\n",
              "    </tr>\n",
              "    <tr>\n",
              "      <th>4</th>\n",
              "      <td>1075358</td>\n",
              "      <td>1311748.0</td>\n",
              "      <td>3000.0</td>\n",
              "      <td>3000.0</td>\n",
              "      <td>3000.0</td>\n",
              "      <td>60 months</td>\n",
              "      <td>12.69%</td>\n",
              "      <td>67.79</td>\n",
              "      <td>B</td>\n",
              "      <td>B5</td>\n",
              "      <td>...</td>\n",
              "      <td>NaN</td>\n",
              "      <td>NaN</td>\n",
              "      <td>NaN</td>\n",
              "      <td>NaN</td>\n",
              "      <td>0.0</td>\n",
              "      <td>0.0</td>\n",
              "      <td>NaN</td>\n",
              "      <td>NaN</td>\n",
              "      <td>NaN</td>\n",
              "      <td>NaN</td>\n",
              "    </tr>\n",
              "  </tbody>\n",
              "</table>\n",
              "<p>5 rows × 115 columns</p>\n",
              "</div>\n",
              "      <button class=\"colab-df-convert\" onclick=\"convertToInteractive('df-bf21039e-cfbf-4861-89c6-8edc4a6e6f0e')\"\n",
              "              title=\"Convert this dataframe to an interactive table.\"\n",
              "              style=\"display:none;\">\n",
              "        \n",
              "  <svg xmlns=\"http://www.w3.org/2000/svg\" height=\"24px\"viewBox=\"0 0 24 24\"\n",
              "       width=\"24px\">\n",
              "    <path d=\"M0 0h24v24H0V0z\" fill=\"none\"/>\n",
              "    <path d=\"M18.56 5.44l.94 2.06.94-2.06 2.06-.94-2.06-.94-.94-2.06-.94 2.06-2.06.94zm-11 1L8.5 8.5l.94-2.06 2.06-.94-2.06-.94L8.5 2.5l-.94 2.06-2.06.94zm10 10l.94 2.06.94-2.06 2.06-.94-2.06-.94-.94-2.06-.94 2.06-2.06.94z\"/><path d=\"M17.41 7.96l-1.37-1.37c-.4-.4-.92-.59-1.43-.59-.52 0-1.04.2-1.43.59L10.3 9.45l-7.72 7.72c-.78.78-.78 2.05 0 2.83L4 21.41c.39.39.9.59 1.41.59.51 0 1.02-.2 1.41-.59l7.78-7.78 2.81-2.81c.8-.78.8-2.07 0-2.86zM5.41 20L4 18.59l7.72-7.72 1.47 1.35L5.41 20z\"/>\n",
              "  </svg>\n",
              "      </button>\n",
              "      \n",
              "  <style>\n",
              "    .colab-df-container {\n",
              "      display:flex;\n",
              "      flex-wrap:wrap;\n",
              "      gap: 12px;\n",
              "    }\n",
              "\n",
              "    .colab-df-convert {\n",
              "      background-color: #E8F0FE;\n",
              "      border: none;\n",
              "      border-radius: 50%;\n",
              "      cursor: pointer;\n",
              "      display: none;\n",
              "      fill: #1967D2;\n",
              "      height: 32px;\n",
              "      padding: 0 0 0 0;\n",
              "      width: 32px;\n",
              "    }\n",
              "\n",
              "    .colab-df-convert:hover {\n",
              "      background-color: #E2EBFA;\n",
              "      box-shadow: 0px 1px 2px rgba(60, 64, 67, 0.3), 0px 1px 3px 1px rgba(60, 64, 67, 0.15);\n",
              "      fill: #174EA6;\n",
              "    }\n",
              "\n",
              "    [theme=dark] .colab-df-convert {\n",
              "      background-color: #3B4455;\n",
              "      fill: #D2E3FC;\n",
              "    }\n",
              "\n",
              "    [theme=dark] .colab-df-convert:hover {\n",
              "      background-color: #434B5C;\n",
              "      box-shadow: 0px 1px 3px 1px rgba(0, 0, 0, 0.15);\n",
              "      filter: drop-shadow(0px 1px 2px rgba(0, 0, 0, 0.3));\n",
              "      fill: #FFFFFF;\n",
              "    }\n",
              "  </style>\n",
              "\n",
              "      <script>\n",
              "        const buttonEl =\n",
              "          document.querySelector('#df-bf21039e-cfbf-4861-89c6-8edc4a6e6f0e button.colab-df-convert');\n",
              "        buttonEl.style.display =\n",
              "          google.colab.kernel.accessAllowed ? 'block' : 'none';\n",
              "\n",
              "        async function convertToInteractive(key) {\n",
              "          const element = document.querySelector('#df-bf21039e-cfbf-4861-89c6-8edc4a6e6f0e');\n",
              "          const dataTable =\n",
              "            await google.colab.kernel.invokeFunction('convertToInteractive',\n",
              "                                                     [key], {});\n",
              "          if (!dataTable) return;\n",
              "\n",
              "          const docLinkHtml = 'Like what you see? Visit the ' +\n",
              "            '<a target=\"_blank\" href=https://colab.research.google.com/notebooks/data_table.ipynb>data table notebook</a>'\n",
              "            + ' to learn more about interactive tables.';\n",
              "          element.innerHTML = '';\n",
              "          dataTable['output_type'] = 'display_data';\n",
              "          await google.colab.output.renderOutput(dataTable, element);\n",
              "          const docLink = document.createElement('div');\n",
              "          docLink.innerHTML = docLinkHtml;\n",
              "          element.appendChild(docLink);\n",
              "        }\n",
              "      </script>\n",
              "    </div>\n",
              "  </div>\n",
              "  "
            ]
          },
          "metadata": {},
          "execution_count": 73
        }
      ]
    },
    {
      "cell_type": "code",
      "source": [
        "# Checking the dimensions\n",
        "df.shape"
      ],
      "metadata": {
        "colab": {
          "base_uri": "https://localhost:8080/"
        },
        "id": "BN4c1Qc09Gdv",
        "outputId": "7688a8ad-f91e-4ab2-adcc-66d3ce5fc773"
      },
      "execution_count": 74,
      "outputs": [
        {
          "output_type": "execute_result",
          "data": {
            "text/plain": [
              "(42542, 115)"
            ]
          },
          "metadata": {},
          "execution_count": 74
        }
      ]
    },
    {
      "cell_type": "code",
      "source": [
        "df.info()"
      ],
      "metadata": {
        "colab": {
          "base_uri": "https://localhost:8080/"
        },
        "id": "8xU39Ju39Gbn",
        "outputId": "b2e9fb2e-a9b4-4f1e-efd8-2e3a2e7fcd36"
      },
      "execution_count": 75,
      "outputs": [
        {
          "output_type": "stream",
          "name": "stdout",
          "text": [
            "<class 'pandas.core.frame.DataFrame'>\n",
            "RangeIndex: 42542 entries, 0 to 42541\n",
            "Columns: 115 entries, id to total_il_high_credit_limit\n",
            "dtypes: float64(90), object(25)\n",
            "memory usage: 37.3+ MB\n"
          ]
        }
      ]
    },
    {
      "cell_type": "code",
      "source": [
        "df.describe()"
      ],
      "metadata": {
        "colab": {
          "base_uri": "https://localhost:8080/",
          "height": 394
        },
        "id": "KWoung189GZR",
        "outputId": "e8984138-78c5-48dc-d986-c5830eae5ca1"
      },
      "execution_count": 76,
      "outputs": [
        {
          "output_type": "execute_result",
          "data": {
            "text/plain": [
              "          member_id     loan_amnt   funded_amnt  funded_amnt_inv  \\\n",
              "count  4.253500e+04  42535.000000  42535.000000     42535.000000   \n",
              "mean   8.257026e+05  11089.722581  10821.585753     10139.830603   \n",
              "std    2.795409e+05   7410.938391   7146.914675      7131.686447   \n",
              "min    7.047300e+04    500.000000    500.000000         0.000000   \n",
              "25%    6.384795e+05   5200.000000   5000.000000      4950.000000   \n",
              "50%    8.241780e+05   9700.000000   9600.000000      8500.000000   \n",
              "75%    1.033946e+06  15000.000000  15000.000000     14000.000000   \n",
              "max    1.314167e+06  35000.000000  35000.000000     35000.000000   \n",
              "\n",
              "        installment    annual_inc           dti   delinq_2yrs  fico_range_low  \\\n",
              "count  42535.000000  4.253100e+04  42535.000000  42506.000000    42535.000000   \n",
              "mean     322.623063  6.913656e+04     13.373043      0.152449      713.052545   \n",
              "std      208.927216  6.409635e+04      6.726315      0.512406       36.188439   \n",
              "min       15.670000  1.896000e+03      0.000000      0.000000      610.000000   \n",
              "25%      165.520000  4.000000e+04      8.200000      0.000000      685.000000   \n",
              "50%      277.690000  5.900000e+04     13.470000      0.000000      710.000000   \n",
              "75%      428.180000  8.250000e+04     18.680000      0.000000      740.000000   \n",
              "max     1305.190000  6.000000e+06     29.990000     13.000000      825.000000   \n",
              "\n",
              "       fico_range_high  ...  num_tl_90g_dpd_24m  num_tl_op_past_12m  \\\n",
              "count     42535.000000  ...                 0.0                 0.0   \n",
              "mean        717.052545  ...                 NaN                 NaN   \n",
              "std          36.188439  ...                 NaN                 NaN   \n",
              "min         614.000000  ...                 NaN                 NaN   \n",
              "25%         689.000000  ...                 NaN                 NaN   \n",
              "50%         714.000000  ...                 NaN                 NaN   \n",
              "75%         744.000000  ...                 NaN                 NaN   \n",
              "max         829.000000  ...                 NaN                 NaN   \n",
              "\n",
              "       pct_tl_nvr_dlq  percent_bc_gt_75  pub_rec_bankruptcies     tax_liens  \\\n",
              "count             0.0               0.0          41170.000000  42430.000000   \n",
              "mean              NaN               NaN              0.045227      0.000024   \n",
              "std               NaN               NaN              0.208737      0.004855   \n",
              "min               NaN               NaN              0.000000      0.000000   \n",
              "25%               NaN               NaN              0.000000      0.000000   \n",
              "50%               NaN               NaN              0.000000      0.000000   \n",
              "75%               NaN               NaN              0.000000      0.000000   \n",
              "max               NaN               NaN              2.000000      1.000000   \n",
              "\n",
              "       tot_hi_cred_lim  total_bal_ex_mort  total_bc_limit  \\\n",
              "count              0.0                0.0             0.0   \n",
              "mean               NaN                NaN             NaN   \n",
              "std                NaN                NaN             NaN   \n",
              "min                NaN                NaN             NaN   \n",
              "25%                NaN                NaN             NaN   \n",
              "50%                NaN                NaN             NaN   \n",
              "75%                NaN                NaN             NaN   \n",
              "max                NaN                NaN             NaN   \n",
              "\n",
              "       total_il_high_credit_limit  \n",
              "count                         0.0  \n",
              "mean                          NaN  \n",
              "std                           NaN  \n",
              "min                           NaN  \n",
              "25%                           NaN  \n",
              "50%                           NaN  \n",
              "75%                           NaN  \n",
              "max                           NaN  \n",
              "\n",
              "[8 rows x 90 columns]"
            ],
            "text/html": [
              "\n",
              "  <div id=\"df-2e2b0229-db09-4089-b331-9c7cac5e075c\">\n",
              "    <div class=\"colab-df-container\">\n",
              "      <div>\n",
              "<style scoped>\n",
              "    .dataframe tbody tr th:only-of-type {\n",
              "        vertical-align: middle;\n",
              "    }\n",
              "\n",
              "    .dataframe tbody tr th {\n",
              "        vertical-align: top;\n",
              "    }\n",
              "\n",
              "    .dataframe thead th {\n",
              "        text-align: right;\n",
              "    }\n",
              "</style>\n",
              "<table border=\"1\" class=\"dataframe\">\n",
              "  <thead>\n",
              "    <tr style=\"text-align: right;\">\n",
              "      <th></th>\n",
              "      <th>member_id</th>\n",
              "      <th>loan_amnt</th>\n",
              "      <th>funded_amnt</th>\n",
              "      <th>funded_amnt_inv</th>\n",
              "      <th>installment</th>\n",
              "      <th>annual_inc</th>\n",
              "      <th>dti</th>\n",
              "      <th>delinq_2yrs</th>\n",
              "      <th>fico_range_low</th>\n",
              "      <th>fico_range_high</th>\n",
              "      <th>...</th>\n",
              "      <th>num_tl_90g_dpd_24m</th>\n",
              "      <th>num_tl_op_past_12m</th>\n",
              "      <th>pct_tl_nvr_dlq</th>\n",
              "      <th>percent_bc_gt_75</th>\n",
              "      <th>pub_rec_bankruptcies</th>\n",
              "      <th>tax_liens</th>\n",
              "      <th>tot_hi_cred_lim</th>\n",
              "      <th>total_bal_ex_mort</th>\n",
              "      <th>total_bc_limit</th>\n",
              "      <th>total_il_high_credit_limit</th>\n",
              "    </tr>\n",
              "  </thead>\n",
              "  <tbody>\n",
              "    <tr>\n",
              "      <th>count</th>\n",
              "      <td>4.253500e+04</td>\n",
              "      <td>42535.000000</td>\n",
              "      <td>42535.000000</td>\n",
              "      <td>42535.000000</td>\n",
              "      <td>42535.000000</td>\n",
              "      <td>4.253100e+04</td>\n",
              "      <td>42535.000000</td>\n",
              "      <td>42506.000000</td>\n",
              "      <td>42535.000000</td>\n",
              "      <td>42535.000000</td>\n",
              "      <td>...</td>\n",
              "      <td>0.0</td>\n",
              "      <td>0.0</td>\n",
              "      <td>0.0</td>\n",
              "      <td>0.0</td>\n",
              "      <td>41170.000000</td>\n",
              "      <td>42430.000000</td>\n",
              "      <td>0.0</td>\n",
              "      <td>0.0</td>\n",
              "      <td>0.0</td>\n",
              "      <td>0.0</td>\n",
              "    </tr>\n",
              "    <tr>\n",
              "      <th>mean</th>\n",
              "      <td>8.257026e+05</td>\n",
              "      <td>11089.722581</td>\n",
              "      <td>10821.585753</td>\n",
              "      <td>10139.830603</td>\n",
              "      <td>322.623063</td>\n",
              "      <td>6.913656e+04</td>\n",
              "      <td>13.373043</td>\n",
              "      <td>0.152449</td>\n",
              "      <td>713.052545</td>\n",
              "      <td>717.052545</td>\n",
              "      <td>...</td>\n",
              "      <td>NaN</td>\n",
              "      <td>NaN</td>\n",
              "      <td>NaN</td>\n",
              "      <td>NaN</td>\n",
              "      <td>0.045227</td>\n",
              "      <td>0.000024</td>\n",
              "      <td>NaN</td>\n",
              "      <td>NaN</td>\n",
              "      <td>NaN</td>\n",
              "      <td>NaN</td>\n",
              "    </tr>\n",
              "    <tr>\n",
              "      <th>std</th>\n",
              "      <td>2.795409e+05</td>\n",
              "      <td>7410.938391</td>\n",
              "      <td>7146.914675</td>\n",
              "      <td>7131.686447</td>\n",
              "      <td>208.927216</td>\n",
              "      <td>6.409635e+04</td>\n",
              "      <td>6.726315</td>\n",
              "      <td>0.512406</td>\n",
              "      <td>36.188439</td>\n",
              "      <td>36.188439</td>\n",
              "      <td>...</td>\n",
              "      <td>NaN</td>\n",
              "      <td>NaN</td>\n",
              "      <td>NaN</td>\n",
              "      <td>NaN</td>\n",
              "      <td>0.208737</td>\n",
              "      <td>0.004855</td>\n",
              "      <td>NaN</td>\n",
              "      <td>NaN</td>\n",
              "      <td>NaN</td>\n",
              "      <td>NaN</td>\n",
              "    </tr>\n",
              "    <tr>\n",
              "      <th>min</th>\n",
              "      <td>7.047300e+04</td>\n",
              "      <td>500.000000</td>\n",
              "      <td>500.000000</td>\n",
              "      <td>0.000000</td>\n",
              "      <td>15.670000</td>\n",
              "      <td>1.896000e+03</td>\n",
              "      <td>0.000000</td>\n",
              "      <td>0.000000</td>\n",
              "      <td>610.000000</td>\n",
              "      <td>614.000000</td>\n",
              "      <td>...</td>\n",
              "      <td>NaN</td>\n",
              "      <td>NaN</td>\n",
              "      <td>NaN</td>\n",
              "      <td>NaN</td>\n",
              "      <td>0.000000</td>\n",
              "      <td>0.000000</td>\n",
              "      <td>NaN</td>\n",
              "      <td>NaN</td>\n",
              "      <td>NaN</td>\n",
              "      <td>NaN</td>\n",
              "    </tr>\n",
              "    <tr>\n",
              "      <th>25%</th>\n",
              "      <td>6.384795e+05</td>\n",
              "      <td>5200.000000</td>\n",
              "      <td>5000.000000</td>\n",
              "      <td>4950.000000</td>\n",
              "      <td>165.520000</td>\n",
              "      <td>4.000000e+04</td>\n",
              "      <td>8.200000</td>\n",
              "      <td>0.000000</td>\n",
              "      <td>685.000000</td>\n",
              "      <td>689.000000</td>\n",
              "      <td>...</td>\n",
              "      <td>NaN</td>\n",
              "      <td>NaN</td>\n",
              "      <td>NaN</td>\n",
              "      <td>NaN</td>\n",
              "      <td>0.000000</td>\n",
              "      <td>0.000000</td>\n",
              "      <td>NaN</td>\n",
              "      <td>NaN</td>\n",
              "      <td>NaN</td>\n",
              "      <td>NaN</td>\n",
              "    </tr>\n",
              "    <tr>\n",
              "      <th>50%</th>\n",
              "      <td>8.241780e+05</td>\n",
              "      <td>9700.000000</td>\n",
              "      <td>9600.000000</td>\n",
              "      <td>8500.000000</td>\n",
              "      <td>277.690000</td>\n",
              "      <td>5.900000e+04</td>\n",
              "      <td>13.470000</td>\n",
              "      <td>0.000000</td>\n",
              "      <td>710.000000</td>\n",
              "      <td>714.000000</td>\n",
              "      <td>...</td>\n",
              "      <td>NaN</td>\n",
              "      <td>NaN</td>\n",
              "      <td>NaN</td>\n",
              "      <td>NaN</td>\n",
              "      <td>0.000000</td>\n",
              "      <td>0.000000</td>\n",
              "      <td>NaN</td>\n",
              "      <td>NaN</td>\n",
              "      <td>NaN</td>\n",
              "      <td>NaN</td>\n",
              "    </tr>\n",
              "    <tr>\n",
              "      <th>75%</th>\n",
              "      <td>1.033946e+06</td>\n",
              "      <td>15000.000000</td>\n",
              "      <td>15000.000000</td>\n",
              "      <td>14000.000000</td>\n",
              "      <td>428.180000</td>\n",
              "      <td>8.250000e+04</td>\n",
              "      <td>18.680000</td>\n",
              "      <td>0.000000</td>\n",
              "      <td>740.000000</td>\n",
              "      <td>744.000000</td>\n",
              "      <td>...</td>\n",
              "      <td>NaN</td>\n",
              "      <td>NaN</td>\n",
              "      <td>NaN</td>\n",
              "      <td>NaN</td>\n",
              "      <td>0.000000</td>\n",
              "      <td>0.000000</td>\n",
              "      <td>NaN</td>\n",
              "      <td>NaN</td>\n",
              "      <td>NaN</td>\n",
              "      <td>NaN</td>\n",
              "    </tr>\n",
              "    <tr>\n",
              "      <th>max</th>\n",
              "      <td>1.314167e+06</td>\n",
              "      <td>35000.000000</td>\n",
              "      <td>35000.000000</td>\n",
              "      <td>35000.000000</td>\n",
              "      <td>1305.190000</td>\n",
              "      <td>6.000000e+06</td>\n",
              "      <td>29.990000</td>\n",
              "      <td>13.000000</td>\n",
              "      <td>825.000000</td>\n",
              "      <td>829.000000</td>\n",
              "      <td>...</td>\n",
              "      <td>NaN</td>\n",
              "      <td>NaN</td>\n",
              "      <td>NaN</td>\n",
              "      <td>NaN</td>\n",
              "      <td>2.000000</td>\n",
              "      <td>1.000000</td>\n",
              "      <td>NaN</td>\n",
              "      <td>NaN</td>\n",
              "      <td>NaN</td>\n",
              "      <td>NaN</td>\n",
              "    </tr>\n",
              "  </tbody>\n",
              "</table>\n",
              "<p>8 rows × 90 columns</p>\n",
              "</div>\n",
              "      <button class=\"colab-df-convert\" onclick=\"convertToInteractive('df-2e2b0229-db09-4089-b331-9c7cac5e075c')\"\n",
              "              title=\"Convert this dataframe to an interactive table.\"\n",
              "              style=\"display:none;\">\n",
              "        \n",
              "  <svg xmlns=\"http://www.w3.org/2000/svg\" height=\"24px\"viewBox=\"0 0 24 24\"\n",
              "       width=\"24px\">\n",
              "    <path d=\"M0 0h24v24H0V0z\" fill=\"none\"/>\n",
              "    <path d=\"M18.56 5.44l.94 2.06.94-2.06 2.06-.94-2.06-.94-.94-2.06-.94 2.06-2.06.94zm-11 1L8.5 8.5l.94-2.06 2.06-.94-2.06-.94L8.5 2.5l-.94 2.06-2.06.94zm10 10l.94 2.06.94-2.06 2.06-.94-2.06-.94-.94-2.06-.94 2.06-2.06.94z\"/><path d=\"M17.41 7.96l-1.37-1.37c-.4-.4-.92-.59-1.43-.59-.52 0-1.04.2-1.43.59L10.3 9.45l-7.72 7.72c-.78.78-.78 2.05 0 2.83L4 21.41c.39.39.9.59 1.41.59.51 0 1.02-.2 1.41-.59l7.78-7.78 2.81-2.81c.8-.78.8-2.07 0-2.86zM5.41 20L4 18.59l7.72-7.72 1.47 1.35L5.41 20z\"/>\n",
              "  </svg>\n",
              "      </button>\n",
              "      \n",
              "  <style>\n",
              "    .colab-df-container {\n",
              "      display:flex;\n",
              "      flex-wrap:wrap;\n",
              "      gap: 12px;\n",
              "    }\n",
              "\n",
              "    .colab-df-convert {\n",
              "      background-color: #E8F0FE;\n",
              "      border: none;\n",
              "      border-radius: 50%;\n",
              "      cursor: pointer;\n",
              "      display: none;\n",
              "      fill: #1967D2;\n",
              "      height: 32px;\n",
              "      padding: 0 0 0 0;\n",
              "      width: 32px;\n",
              "    }\n",
              "\n",
              "    .colab-df-convert:hover {\n",
              "      background-color: #E2EBFA;\n",
              "      box-shadow: 0px 1px 2px rgba(60, 64, 67, 0.3), 0px 1px 3px 1px rgba(60, 64, 67, 0.15);\n",
              "      fill: #174EA6;\n",
              "    }\n",
              "\n",
              "    [theme=dark] .colab-df-convert {\n",
              "      background-color: #3B4455;\n",
              "      fill: #D2E3FC;\n",
              "    }\n",
              "\n",
              "    [theme=dark] .colab-df-convert:hover {\n",
              "      background-color: #434B5C;\n",
              "      box-shadow: 0px 1px 3px 1px rgba(0, 0, 0, 0.15);\n",
              "      filter: drop-shadow(0px 1px 2px rgba(0, 0, 0, 0.3));\n",
              "      fill: #FFFFFF;\n",
              "    }\n",
              "  </style>\n",
              "\n",
              "      <script>\n",
              "        const buttonEl =\n",
              "          document.querySelector('#df-2e2b0229-db09-4089-b331-9c7cac5e075c button.colab-df-convert');\n",
              "        buttonEl.style.display =\n",
              "          google.colab.kernel.accessAllowed ? 'block' : 'none';\n",
              "\n",
              "        async function convertToInteractive(key) {\n",
              "          const element = document.querySelector('#df-2e2b0229-db09-4089-b331-9c7cac5e075c');\n",
              "          const dataTable =\n",
              "            await google.colab.kernel.invokeFunction('convertToInteractive',\n",
              "                                                     [key], {});\n",
              "          if (!dataTable) return;\n",
              "\n",
              "          const docLinkHtml = 'Like what you see? Visit the ' +\n",
              "            '<a target=\"_blank\" href=https://colab.research.google.com/notebooks/data_table.ipynb>data table notebook</a>'\n",
              "            + ' to learn more about interactive tables.';\n",
              "          element.innerHTML = '';\n",
              "          dataTable['output_type'] = 'display_data';\n",
              "          await google.colab.output.renderOutput(dataTable, element);\n",
              "          const docLink = document.createElement('div');\n",
              "          docLink.innerHTML = docLinkHtml;\n",
              "          element.appendChild(docLink);\n",
              "        }\n",
              "      </script>\n",
              "    </div>\n",
              "  </div>\n",
              "  "
            ]
          },
          "metadata": {},
          "execution_count": 76
        }
      ]
    },
    {
      "cell_type": "markdown",
      "source": [
        "## **Treating Null Values**"
      ],
      "metadata": {
        "id": "wa_rEEZKg50W"
      }
    },
    {
      "cell_type": "code",
      "source": [
        "df.isnull().sum()"
      ],
      "metadata": {
        "colab": {
          "base_uri": "https://localhost:8080/"
        },
        "id": "qDXP47ov9GWs",
        "outputId": "987d67b0-bf9e-4896-d592-b237b7af4f3c"
      },
      "execution_count": 77,
      "outputs": [
        {
          "output_type": "execute_result",
          "data": {
            "text/plain": [
              "id                                4\n",
              "member_id                         7\n",
              "loan_amnt                         7\n",
              "funded_amnt                       7\n",
              "funded_amnt_inv                   7\n",
              "                              ...  \n",
              "tax_liens                       112\n",
              "tot_hi_cred_lim               42542\n",
              "total_bal_ex_mort             42542\n",
              "total_bc_limit                42542\n",
              "total_il_high_credit_limit    42542\n",
              "Length: 115, dtype: int64"
            ]
          },
          "metadata": {},
          "execution_count": 77
        }
      ]
    },
    {
      "cell_type": "code",
      "source": [
        "# Set the threshold for the percentage of null values\n",
        "threshold = 0.7\n",
        "\n",
        "# Calculate the percentage of null values in each column\n",
        "null_percentage = df.isnull().sum() / len(df)\n",
        "\n",
        "# Create a list of columns to drop\n",
        "cols_to_drop = null_percentage[null_percentage > threshold].index.tolist()\n",
        "\n",
        "# Drop the columns from the DataFrame\n",
        "df = df.drop(cols_to_drop, axis=1)\n",
        "\n",
        "# Print the updated DataFrame\n",
        "df.head()"
      ],
      "metadata": {
        "colab": {
          "base_uri": "https://localhost:8080/",
          "height": 386
        },
        "id": "UOuQrrhnA5Th",
        "outputId": "6bac2f76-b9f1-45ae-eca1-cfb4e76fbb85"
      },
      "execution_count": 78,
      "outputs": [
        {
          "output_type": "execute_result",
          "data": {
            "text/plain": [
              "        id  member_id  loan_amnt  funded_amnt  funded_amnt_inv        term  \\\n",
              "0  1077501  1296599.0     5000.0       5000.0           4975.0   36 months   \n",
              "1  1077430  1314167.0     2500.0       2500.0           2500.0   60 months   \n",
              "2  1077175  1313524.0     2400.0       2400.0           2400.0   36 months   \n",
              "3  1076863  1277178.0    10000.0      10000.0          10000.0   36 months   \n",
              "4  1075358  1311748.0     3000.0       3000.0           3000.0   60 months   \n",
              "\n",
              "  int_rate  installment grade sub_grade  ... last_fico_range_high  \\\n",
              "0   10.65%       162.87     B        B2  ...                744.0   \n",
              "1   15.27%        59.83     C        C4  ...                499.0   \n",
              "2   15.96%        84.33     C        C5  ...                719.0   \n",
              "3   13.49%       339.31     C        C1  ...                604.0   \n",
              "4   12.69%        67.79     B        B5  ...                694.0   \n",
              "\n",
              "  last_fico_range_low collections_12_mths_ex_med  policy_code  \\\n",
              "0               740.0                        0.0          1.0   \n",
              "1                 0.0                        0.0          1.0   \n",
              "2               715.0                        0.0          1.0   \n",
              "3               600.0                        0.0          1.0   \n",
              "4               690.0                        0.0          1.0   \n",
              "\n",
              "  application_type acc_now_delinq chargeoff_within_12_mths delinq_amnt  \\\n",
              "0       INDIVIDUAL            0.0                      0.0         0.0   \n",
              "1       INDIVIDUAL            0.0                      0.0         0.0   \n",
              "2       INDIVIDUAL            0.0                      0.0         0.0   \n",
              "3       INDIVIDUAL            0.0                      0.0         0.0   \n",
              "4       INDIVIDUAL            0.0                      0.0         0.0   \n",
              "\n",
              "  pub_rec_bankruptcies tax_liens  \n",
              "0                  0.0       0.0  \n",
              "1                  0.0       0.0  \n",
              "2                  0.0       0.0  \n",
              "3                  0.0       0.0  \n",
              "4                  0.0       0.0  \n",
              "\n",
              "[5 rows x 59 columns]"
            ],
            "text/html": [
              "\n",
              "  <div id=\"df-60e05d65-29c2-4f0c-8405-11fe2d61312c\">\n",
              "    <div class=\"colab-df-container\">\n",
              "      <div>\n",
              "<style scoped>\n",
              "    .dataframe tbody tr th:only-of-type {\n",
              "        vertical-align: middle;\n",
              "    }\n",
              "\n",
              "    .dataframe tbody tr th {\n",
              "        vertical-align: top;\n",
              "    }\n",
              "\n",
              "    .dataframe thead th {\n",
              "        text-align: right;\n",
              "    }\n",
              "</style>\n",
              "<table border=\"1\" class=\"dataframe\">\n",
              "  <thead>\n",
              "    <tr style=\"text-align: right;\">\n",
              "      <th></th>\n",
              "      <th>id</th>\n",
              "      <th>member_id</th>\n",
              "      <th>loan_amnt</th>\n",
              "      <th>funded_amnt</th>\n",
              "      <th>funded_amnt_inv</th>\n",
              "      <th>term</th>\n",
              "      <th>int_rate</th>\n",
              "      <th>installment</th>\n",
              "      <th>grade</th>\n",
              "      <th>sub_grade</th>\n",
              "      <th>...</th>\n",
              "      <th>last_fico_range_high</th>\n",
              "      <th>last_fico_range_low</th>\n",
              "      <th>collections_12_mths_ex_med</th>\n",
              "      <th>policy_code</th>\n",
              "      <th>application_type</th>\n",
              "      <th>acc_now_delinq</th>\n",
              "      <th>chargeoff_within_12_mths</th>\n",
              "      <th>delinq_amnt</th>\n",
              "      <th>pub_rec_bankruptcies</th>\n",
              "      <th>tax_liens</th>\n",
              "    </tr>\n",
              "  </thead>\n",
              "  <tbody>\n",
              "    <tr>\n",
              "      <th>0</th>\n",
              "      <td>1077501</td>\n",
              "      <td>1296599.0</td>\n",
              "      <td>5000.0</td>\n",
              "      <td>5000.0</td>\n",
              "      <td>4975.0</td>\n",
              "      <td>36 months</td>\n",
              "      <td>10.65%</td>\n",
              "      <td>162.87</td>\n",
              "      <td>B</td>\n",
              "      <td>B2</td>\n",
              "      <td>...</td>\n",
              "      <td>744.0</td>\n",
              "      <td>740.0</td>\n",
              "      <td>0.0</td>\n",
              "      <td>1.0</td>\n",
              "      <td>INDIVIDUAL</td>\n",
              "      <td>0.0</td>\n",
              "      <td>0.0</td>\n",
              "      <td>0.0</td>\n",
              "      <td>0.0</td>\n",
              "      <td>0.0</td>\n",
              "    </tr>\n",
              "    <tr>\n",
              "      <th>1</th>\n",
              "      <td>1077430</td>\n",
              "      <td>1314167.0</td>\n",
              "      <td>2500.0</td>\n",
              "      <td>2500.0</td>\n",
              "      <td>2500.0</td>\n",
              "      <td>60 months</td>\n",
              "      <td>15.27%</td>\n",
              "      <td>59.83</td>\n",
              "      <td>C</td>\n",
              "      <td>C4</td>\n",
              "      <td>...</td>\n",
              "      <td>499.0</td>\n",
              "      <td>0.0</td>\n",
              "      <td>0.0</td>\n",
              "      <td>1.0</td>\n",
              "      <td>INDIVIDUAL</td>\n",
              "      <td>0.0</td>\n",
              "      <td>0.0</td>\n",
              "      <td>0.0</td>\n",
              "      <td>0.0</td>\n",
              "      <td>0.0</td>\n",
              "    </tr>\n",
              "    <tr>\n",
              "      <th>2</th>\n",
              "      <td>1077175</td>\n",
              "      <td>1313524.0</td>\n",
              "      <td>2400.0</td>\n",
              "      <td>2400.0</td>\n",
              "      <td>2400.0</td>\n",
              "      <td>36 months</td>\n",
              "      <td>15.96%</td>\n",
              "      <td>84.33</td>\n",
              "      <td>C</td>\n",
              "      <td>C5</td>\n",
              "      <td>...</td>\n",
              "      <td>719.0</td>\n",
              "      <td>715.0</td>\n",
              "      <td>0.0</td>\n",
              "      <td>1.0</td>\n",
              "      <td>INDIVIDUAL</td>\n",
              "      <td>0.0</td>\n",
              "      <td>0.0</td>\n",
              "      <td>0.0</td>\n",
              "      <td>0.0</td>\n",
              "      <td>0.0</td>\n",
              "    </tr>\n",
              "    <tr>\n",
              "      <th>3</th>\n",
              "      <td>1076863</td>\n",
              "      <td>1277178.0</td>\n",
              "      <td>10000.0</td>\n",
              "      <td>10000.0</td>\n",
              "      <td>10000.0</td>\n",
              "      <td>36 months</td>\n",
              "      <td>13.49%</td>\n",
              "      <td>339.31</td>\n",
              "      <td>C</td>\n",
              "      <td>C1</td>\n",
              "      <td>...</td>\n",
              "      <td>604.0</td>\n",
              "      <td>600.0</td>\n",
              "      <td>0.0</td>\n",
              "      <td>1.0</td>\n",
              "      <td>INDIVIDUAL</td>\n",
              "      <td>0.0</td>\n",
              "      <td>0.0</td>\n",
              "      <td>0.0</td>\n",
              "      <td>0.0</td>\n",
              "      <td>0.0</td>\n",
              "    </tr>\n",
              "    <tr>\n",
              "      <th>4</th>\n",
              "      <td>1075358</td>\n",
              "      <td>1311748.0</td>\n",
              "      <td>3000.0</td>\n",
              "      <td>3000.0</td>\n",
              "      <td>3000.0</td>\n",
              "      <td>60 months</td>\n",
              "      <td>12.69%</td>\n",
              "      <td>67.79</td>\n",
              "      <td>B</td>\n",
              "      <td>B5</td>\n",
              "      <td>...</td>\n",
              "      <td>694.0</td>\n",
              "      <td>690.0</td>\n",
              "      <td>0.0</td>\n",
              "      <td>1.0</td>\n",
              "      <td>INDIVIDUAL</td>\n",
              "      <td>0.0</td>\n",
              "      <td>0.0</td>\n",
              "      <td>0.0</td>\n",
              "      <td>0.0</td>\n",
              "      <td>0.0</td>\n",
              "    </tr>\n",
              "  </tbody>\n",
              "</table>\n",
              "<p>5 rows × 59 columns</p>\n",
              "</div>\n",
              "      <button class=\"colab-df-convert\" onclick=\"convertToInteractive('df-60e05d65-29c2-4f0c-8405-11fe2d61312c')\"\n",
              "              title=\"Convert this dataframe to an interactive table.\"\n",
              "              style=\"display:none;\">\n",
              "        \n",
              "  <svg xmlns=\"http://www.w3.org/2000/svg\" height=\"24px\"viewBox=\"0 0 24 24\"\n",
              "       width=\"24px\">\n",
              "    <path d=\"M0 0h24v24H0V0z\" fill=\"none\"/>\n",
              "    <path d=\"M18.56 5.44l.94 2.06.94-2.06 2.06-.94-2.06-.94-.94-2.06-.94 2.06-2.06.94zm-11 1L8.5 8.5l.94-2.06 2.06-.94-2.06-.94L8.5 2.5l-.94 2.06-2.06.94zm10 10l.94 2.06.94-2.06 2.06-.94-2.06-.94-.94-2.06-.94 2.06-2.06.94z\"/><path d=\"M17.41 7.96l-1.37-1.37c-.4-.4-.92-.59-1.43-.59-.52 0-1.04.2-1.43.59L10.3 9.45l-7.72 7.72c-.78.78-.78 2.05 0 2.83L4 21.41c.39.39.9.59 1.41.59.51 0 1.02-.2 1.41-.59l7.78-7.78 2.81-2.81c.8-.78.8-2.07 0-2.86zM5.41 20L4 18.59l7.72-7.72 1.47 1.35L5.41 20z\"/>\n",
              "  </svg>\n",
              "      </button>\n",
              "      \n",
              "  <style>\n",
              "    .colab-df-container {\n",
              "      display:flex;\n",
              "      flex-wrap:wrap;\n",
              "      gap: 12px;\n",
              "    }\n",
              "\n",
              "    .colab-df-convert {\n",
              "      background-color: #E8F0FE;\n",
              "      border: none;\n",
              "      border-radius: 50%;\n",
              "      cursor: pointer;\n",
              "      display: none;\n",
              "      fill: #1967D2;\n",
              "      height: 32px;\n",
              "      padding: 0 0 0 0;\n",
              "      width: 32px;\n",
              "    }\n",
              "\n",
              "    .colab-df-convert:hover {\n",
              "      background-color: #E2EBFA;\n",
              "      box-shadow: 0px 1px 2px rgba(60, 64, 67, 0.3), 0px 1px 3px 1px rgba(60, 64, 67, 0.15);\n",
              "      fill: #174EA6;\n",
              "    }\n",
              "\n",
              "    [theme=dark] .colab-df-convert {\n",
              "      background-color: #3B4455;\n",
              "      fill: #D2E3FC;\n",
              "    }\n",
              "\n",
              "    [theme=dark] .colab-df-convert:hover {\n",
              "      background-color: #434B5C;\n",
              "      box-shadow: 0px 1px 3px 1px rgba(0, 0, 0, 0.15);\n",
              "      filter: drop-shadow(0px 1px 2px rgba(0, 0, 0, 0.3));\n",
              "      fill: #FFFFFF;\n",
              "    }\n",
              "  </style>\n",
              "\n",
              "      <script>\n",
              "        const buttonEl =\n",
              "          document.querySelector('#df-60e05d65-29c2-4f0c-8405-11fe2d61312c button.colab-df-convert');\n",
              "        buttonEl.style.display =\n",
              "          google.colab.kernel.accessAllowed ? 'block' : 'none';\n",
              "\n",
              "        async function convertToInteractive(key) {\n",
              "          const element = document.querySelector('#df-60e05d65-29c2-4f0c-8405-11fe2d61312c');\n",
              "          const dataTable =\n",
              "            await google.colab.kernel.invokeFunction('convertToInteractive',\n",
              "                                                     [key], {});\n",
              "          if (!dataTable) return;\n",
              "\n",
              "          const docLinkHtml = 'Like what you see? Visit the ' +\n",
              "            '<a target=\"_blank\" href=https://colab.research.google.com/notebooks/data_table.ipynb>data table notebook</a>'\n",
              "            + ' to learn more about interactive tables.';\n",
              "          element.innerHTML = '';\n",
              "          dataTable['output_type'] = 'display_data';\n",
              "          await google.colab.output.renderOutput(dataTable, element);\n",
              "          const docLink = document.createElement('div');\n",
              "          docLink.innerHTML = docLinkHtml;\n",
              "          element.appendChild(docLink);\n",
              "        }\n",
              "      </script>\n",
              "    </div>\n",
              "  </div>\n",
              "  "
            ]
          },
          "metadata": {},
          "execution_count": 78
        }
      ]
    },
    {
      "cell_type": "code",
      "source": [
        "df.columns"
      ],
      "metadata": {
        "colab": {
          "base_uri": "https://localhost:8080/"
        },
        "id": "NBuJsv3X9GUW",
        "outputId": "b52e46f0-f629-435a-eae6-9611ae97903d"
      },
      "execution_count": 79,
      "outputs": [
        {
          "output_type": "execute_result",
          "data": {
            "text/plain": [
              "Index(['id', 'member_id', 'loan_amnt', 'funded_amnt', 'funded_amnt_inv',\n",
              "       'term', 'int_rate', 'installment', 'grade', 'sub_grade', 'emp_title',\n",
              "       'emp_length', 'home_ownership', 'annual_inc', 'verification_status',\n",
              "       'issue_d', 'loan_status', 'pymnt_plan', 'url', 'desc', 'purpose',\n",
              "       'title', 'zip_code', 'addr_state', 'dti', 'delinq_2yrs',\n",
              "       'earliest_cr_line', 'fico_range_low', 'fico_range_high',\n",
              "       'inq_last_6mths', 'mths_since_last_delinq', 'open_acc', 'pub_rec',\n",
              "       'revol_bal', 'revol_util', 'total_acc', 'initial_list_status',\n",
              "       'out_prncp', 'out_prncp_inv', 'total_pymnt', 'total_pymnt_inv',\n",
              "       'total_rec_prncp', 'total_rec_int', 'total_rec_late_fee', 'recoveries',\n",
              "       'collection_recovery_fee', 'last_pymnt_d', 'last_pymnt_amnt',\n",
              "       'last_credit_pull_d', 'last_fico_range_high', 'last_fico_range_low',\n",
              "       'collections_12_mths_ex_med', 'policy_code', 'application_type',\n",
              "       'acc_now_delinq', 'chargeoff_within_12_mths', 'delinq_amnt',\n",
              "       'pub_rec_bankruptcies', 'tax_liens'],\n",
              "      dtype='object')"
            ]
          },
          "metadata": {},
          "execution_count": 79
        }
      ]
    },
    {
      "cell_type": "code",
      "source": [
        "df.isnull().sum()"
      ],
      "metadata": {
        "colab": {
          "base_uri": "https://localhost:8080/"
        },
        "id": "kuccmDhr_LDo",
        "outputId": "fd6d3c72-164e-44a2-c6b3-cdc75dab0a8e"
      },
      "execution_count": 80,
      "outputs": [
        {
          "output_type": "execute_result",
          "data": {
            "text/plain": [
              "id                                4\n",
              "member_id                         7\n",
              "loan_amnt                         7\n",
              "funded_amnt                       7\n",
              "funded_amnt_inv                   7\n",
              "term                              7\n",
              "int_rate                          7\n",
              "installment                       7\n",
              "grade                             7\n",
              "sub_grade                         7\n",
              "emp_title                      2633\n",
              "emp_length                     1119\n",
              "home_ownership                    7\n",
              "annual_inc                       11\n",
              "verification_status               7\n",
              "issue_d                           7\n",
              "loan_status                       7\n",
              "pymnt_plan                        7\n",
              "url                               7\n",
              "desc                          13300\n",
              "purpose                           7\n",
              "title                            20\n",
              "zip_code                          7\n",
              "addr_state                        7\n",
              "dti                               7\n",
              "delinq_2yrs                      36\n",
              "earliest_cr_line                 36\n",
              "fico_range_low                    7\n",
              "fico_range_high                   7\n",
              "inq_last_6mths                   36\n",
              "mths_since_last_delinq        26933\n",
              "open_acc                         36\n",
              "pub_rec                          36\n",
              "revol_bal                         7\n",
              "revol_util                       97\n",
              "total_acc                        36\n",
              "initial_list_status               7\n",
              "out_prncp                         7\n",
              "out_prncp_inv                     7\n",
              "total_pymnt                       7\n",
              "total_pymnt_inv                   7\n",
              "total_rec_prncp                   7\n",
              "total_rec_int                     7\n",
              "total_rec_late_fee                7\n",
              "recoveries                        7\n",
              "collection_recovery_fee           7\n",
              "last_pymnt_d                     90\n",
              "last_pymnt_amnt                   7\n",
              "last_credit_pull_d               11\n",
              "last_fico_range_high              7\n",
              "last_fico_range_low               7\n",
              "collections_12_mths_ex_med      152\n",
              "policy_code                       7\n",
              "application_type                  7\n",
              "acc_now_delinq                   36\n",
              "chargeoff_within_12_mths        152\n",
              "delinq_amnt                      36\n",
              "pub_rec_bankruptcies           1372\n",
              "tax_liens                       112\n",
              "dtype: int64"
            ]
          },
          "metadata": {},
          "execution_count": 80
        }
      ]
    },
    {
      "cell_type": "code",
      "source": [
        "df.shape"
      ],
      "metadata": {
        "colab": {
          "base_uri": "https://localhost:8080/"
        },
        "id": "5I34oMk2_LBh",
        "outputId": "b7541428-9b3b-4e9e-8b99-578dd3dd6126"
      },
      "execution_count": 81,
      "outputs": [
        {
          "output_type": "execute_result",
          "data": {
            "text/plain": [
              "(42542, 59)"
            ]
          },
          "metadata": {},
          "execution_count": 81
        }
      ]
    },
    {
      "cell_type": "code",
      "source": [
        "df.drop(['desc'],axis = 1 ,inplace = True)"
      ],
      "metadata": {
        "id": "9Wc9JH47Dr-J"
      },
      "execution_count": 82,
      "outputs": []
    },
    {
      "cell_type": "code",
      "source": [
        "df.drop(['mths_since_last_delinq'],axis = 1, inplace = True)"
      ],
      "metadata": {
        "id": "m3kxNiaID3K5"
      },
      "execution_count": 83,
      "outputs": []
    },
    {
      "cell_type": "code",
      "source": [
        "#df.drop(['emp_title'],axis = 1, inplace = True)"
      ],
      "metadata": {
        "id": "BF-I5CJCEFOZ"
      },
      "execution_count": 84,
      "outputs": []
    },
    {
      "cell_type": "code",
      "source": [
        "df.dropna(inplace=True)"
      ],
      "metadata": {
        "id": "kw6TF8GTEFMD"
      },
      "execution_count": 85,
      "outputs": []
    },
    {
      "cell_type": "code",
      "source": [
        "df.isnull().sum()"
      ],
      "metadata": {
        "colab": {
          "base_uri": "https://localhost:8080/"
        },
        "id": "UWuFZqj7EFJr",
        "outputId": "50c135c3-d398-48fd-9cc2-74d0ccd47709"
      },
      "execution_count": 86,
      "outputs": [
        {
          "output_type": "execute_result",
          "data": {
            "text/plain": [
              "id                            0\n",
              "member_id                     0\n",
              "loan_amnt                     0\n",
              "funded_amnt                   0\n",
              "funded_amnt_inv               0\n",
              "term                          0\n",
              "int_rate                      0\n",
              "installment                   0\n",
              "grade                         0\n",
              "sub_grade                     0\n",
              "emp_title                     0\n",
              "emp_length                    0\n",
              "home_ownership                0\n",
              "annual_inc                    0\n",
              "verification_status           0\n",
              "issue_d                       0\n",
              "loan_status                   0\n",
              "pymnt_plan                    0\n",
              "url                           0\n",
              "purpose                       0\n",
              "title                         0\n",
              "zip_code                      0\n",
              "addr_state                    0\n",
              "dti                           0\n",
              "delinq_2yrs                   0\n",
              "earliest_cr_line              0\n",
              "fico_range_low                0\n",
              "fico_range_high               0\n",
              "inq_last_6mths                0\n",
              "open_acc                      0\n",
              "pub_rec                       0\n",
              "revol_bal                     0\n",
              "revol_util                    0\n",
              "total_acc                     0\n",
              "initial_list_status           0\n",
              "out_prncp                     0\n",
              "out_prncp_inv                 0\n",
              "total_pymnt                   0\n",
              "total_pymnt_inv               0\n",
              "total_rec_prncp               0\n",
              "total_rec_int                 0\n",
              "total_rec_late_fee            0\n",
              "recoveries                    0\n",
              "collection_recovery_fee       0\n",
              "last_pymnt_d                  0\n",
              "last_pymnt_amnt               0\n",
              "last_credit_pull_d            0\n",
              "last_fico_range_high          0\n",
              "last_fico_range_low           0\n",
              "collections_12_mths_ex_med    0\n",
              "policy_code                   0\n",
              "application_type              0\n",
              "acc_now_delinq                0\n",
              "chargeoff_within_12_mths      0\n",
              "delinq_amnt                   0\n",
              "pub_rec_bankruptcies          0\n",
              "tax_liens                     0\n",
              "dtype: int64"
            ]
          },
          "metadata": {},
          "execution_count": 86
        }
      ]
    },
    {
      "cell_type": "code",
      "source": [
        "df.shape"
      ],
      "metadata": {
        "colab": {
          "base_uri": "https://localhost:8080/"
        },
        "id": "xec_3Qcv_K8W",
        "outputId": "59c1ed6b-ed9e-41f5-8e1f-8c88fbd548ca"
      },
      "execution_count": 87,
      "outputs": [
        {
          "output_type": "execute_result",
          "data": {
            "text/plain": [
              "(38433, 57)"
            ]
          },
          "metadata": {},
          "execution_count": 87
        }
      ]
    },
    {
      "cell_type": "markdown",
      "source": [
        "## **Looking for and handling Outliers**"
      ],
      "metadata": {
        "id": "4N8TKhW5fJd3"
      }
    },
    {
      "cell_type": "code",
      "source": [
        "plt.subplots(figsize=(18,6))\n",
        "plt.title(\"Outliers visualization\")\n",
        "df.boxplot()"
      ],
      "metadata": {
        "colab": {
          "base_uri": "https://localhost:8080/",
          "height": 408
        },
        "id": "DosCRnq_htAA",
        "outputId": "92821613-a02e-477f-a14d-6a4c15cc90fc"
      },
      "execution_count": 88,
      "outputs": [
        {
          "output_type": "execute_result",
          "data": {
            "text/plain": [
              "<AxesSubplot:title={'center':'Outliers visualization'}>"
            ]
          },
          "metadata": {},
          "execution_count": 88
        },
        {
          "output_type": "display_data",
          "data": {
            "text/plain": [
              "<Figure size 1296x432 with 1 Axes>"
            ],
            "image/png": "[encoded data removed]"
          },
          "metadata": {
            "needs_background": "light"
          }
        }
      ]
    },
    {
      "cell_type": "code",
      "source": [
        "num_var = df.select_dtypes(exclude='object')\n",
        "for i in num_var:\n",
        "    \n",
        "    q1 = df[i].quantile(0.25)\n",
        "    q3 = df[i].quantile(0.75)\n",
        "\n",
        "    IQR = q3 - q1\n",
        "    UL = q3 + 1.5*IQR\n",
        "    LL = q1 - 1.5*IQR\n",
        "\n",
        "    print('IQR of',i,'= ',IQR)\n",
        "    print('UL of',i,'= ',UL)\n",
        "    print('LL of',i,'= ',LL)\n",
        "    print('Number of Outliers in',i,' = ',(df.shape[0] - df[(df[i]<UL) & (df[i]>LL)].shape[0]))\n",
        "    print(' ')"
      ],
      "metadata": {
        "colab": {
          "base_uri": "https://localhost:8080/"
        },
        "id": "CmkZE2ipNX1W",
        "outputId": "e7da3b24-1bf8-4481-a32b-0a80ec7f1d15"
      },
      "execution_count": 89,
      "outputs": [
        {
          "output_type": "stream",
          "name": "stdout",
          "text": [
            "IQR of member_id =  380912.0\n",
            "UL of member_id =  1611869.0\n",
            "LL of member_id =  88221.0\n",
            "Number of Outliers in member_id  =  0\n",
            " \n",
            "IQR of loan_amnt =  9500.0\n",
            "UL of loan_amnt =  29250.0\n",
            "LL of loan_amnt =  -8750.0\n",
            "Number of Outliers in loan_amnt  =  1138\n",
            " \n",
            "IQR of funded_amnt =  9550.0\n",
            "UL of funded_amnt =  29325.0\n",
            "LL of funded_amnt =  -8875.0\n",
            "Number of Outliers in funded_amnt  =  963\n",
            " \n",
            "IQR of funded_amnt_inv =  9400.0\n",
            "UL of funded_amnt_inv =  28500.0\n",
            "LL of funded_amnt_inv =  -9100.0\n",
            "Number of Outliers in funded_amnt_inv  =  925\n",
            " \n",
            "IQR of installment =  262.53\n",
            "UL of installment =  824.415\n",
            "LL of installment =  -225.70499999999996\n",
            "Number of Outliers in installment  =  1215\n",
            " \n",
            "IQR of annual_inc =  41000.0\n",
            "UL of annual_inc =  144500.0\n",
            "LL of annual_inc =  -19500.0\n",
            "Number of Outliers in annual_inc  =  1842\n",
            " \n",
            "IQR of dti =  10.37\n",
            "UL of dti =  34.325\n",
            "LL of dti =  -7.154999999999999\n",
            "Number of Outliers in dti  =  0\n",
            " \n",
            "IQR of delinq_2yrs =  0.0\n",
            "UL of delinq_2yrs =  0.0\n",
            "LL of delinq_2yrs =  0.0\n",
            "Number of Outliers in delinq_2yrs  =  38433\n",
            " \n",
            "IQR of fico_range_low =  55.0\n",
            "UL of fico_range_low =  822.5\n",
            "LL of fico_range_low =  602.5\n",
            "Number of Outliers in fico_range_low  =  2\n",
            " \n",
            "IQR of fico_range_high =  55.0\n",
            "UL of fico_range_high =  826.5\n",
            "LL of fico_range_high =  606.5\n",
            "Number of Outliers in fico_range_high  =  2\n",
            " \n",
            "IQR of inq_last_6mths =  2.0\n",
            "UL of inq_last_6mths =  5.0\n",
            "LL of inq_last_6mths =  -3.0\n",
            "Number of Outliers in inq_last_6mths  =  1080\n",
            " \n",
            "IQR of open_acc =  6.0\n",
            "UL of open_acc =  21.0\n",
            "LL of open_acc =  -3.0\n",
            "Number of Outliers in open_acc  =  779\n",
            " \n",
            "IQR of pub_rec =  0.0\n",
            "UL of pub_rec =  0.0\n",
            "LL of pub_rec =  0.0\n",
            "Number of Outliers in pub_rec  =  38433\n",
            " \n",
            "IQR of revol_bal =  13614.0\n",
            "UL of revol_bal =  37841.0\n",
            "LL of revol_bal =  -16615.0\n",
            "Number of Outliers in revol_bal  =  2561\n",
            " \n",
            "IQR of total_acc =  15.0\n",
            "UL of total_acc =  51.5\n",
            "LL of total_acc =  -8.5\n",
            "Number of Outliers in total_acc  =  751\n",
            " \n",
            "IQR of out_prncp =  0.0\n",
            "UL of out_prncp =  0.0\n",
            "LL of out_prncp =  0.0\n",
            "Number of Outliers in out_prncp  =  38433\n",
            " \n",
            "IQR of out_prncp_inv =  0.0\n",
            "UL of out_prncp_inv =  0.0\n",
            "LL of out_prncp_inv =  0.0\n",
            "Number of Outliers in out_prncp_inv  =  38433\n",
            " \n",
            "IQR of total_pymnt =  11018.923561\n",
            "UL of total_pymnt =  33147.1618515\n",
            "LL of total_pymnt =  -10928.532392499998\n",
            "Number of Outliers in total_pymnt  =  1287\n",
            " \n",
            "IQR of total_pymnt_inv =  10719.26\n",
            "UL of total_pymnt_inv =  32042.55\n",
            "LL of total_pymnt_inv =  -10834.49\n",
            "Number of Outliers in total_pymnt_inv  =  1362\n",
            " \n",
            "IQR of total_rec_prncp =  9275.55\n",
            "UL of total_rec_prncp =  27813.875\n",
            "LL of total_rec_prncp =  -9288.324999999999\n",
            "Number of Outliers in total_rec_prncp  =  917\n",
            " \n",
            "IQR of total_rec_int =  2194.32\n",
            "UL of total_rec_int =  6163.280000000001\n",
            "LL of total_rec_int =  -2614.0000000000005\n",
            "Number of Outliers in total_rec_int  =  3008\n",
            " \n",
            "IQR of total_rec_late_fee =  0.0\n",
            "UL of total_rec_late_fee =  0.0\n",
            "LL of total_rec_late_fee =  0.0\n",
            "Number of Outliers in total_rec_late_fee  =  38433\n",
            " \n",
            "IQR of recoveries =  0.0\n",
            "UL of recoveries =  0.0\n",
            "LL of recoveries =  0.0\n",
            "Number of Outliers in recoveries  =  38433\n",
            " \n",
            "IQR of collection_recovery_fee =  0.0\n",
            "UL of collection_recovery_fee =  0.0\n",
            "LL of collection_recovery_fee =  0.0\n",
            "Number of Outliers in collection_recovery_fee  =  38433\n",
            " \n",
            "IQR of last_pymnt_amnt =  3151.22\n",
            "UL of last_pymnt_amnt =  8099.24\n",
            "LL of last_pymnt_amnt =  -4505.64\n",
            "Number of Outliers in last_pymnt_amnt  =  4030\n",
            " \n",
            "IQR of last_fico_range_high =  100.0\n",
            "UL of last_fico_range_high =  894.0\n",
            "LL of last_fico_range_high =  494.0\n",
            "Number of Outliers in last_fico_range_high  =  32\n",
            " \n",
            "IQR of last_fico_range_low =  100.0\n",
            "UL of last_fico_range_low =  890.0\n",
            "LL of last_fico_range_low =  490.0\n",
            "Number of Outliers in last_fico_range_low  =  650\n",
            " \n",
            "IQR of collections_12_mths_ex_med =  0.0\n",
            "UL of collections_12_mths_ex_med =  0.0\n",
            "LL of collections_12_mths_ex_med =  0.0\n",
            "Number of Outliers in collections_12_mths_ex_med  =  38433\n",
            " \n",
            "IQR of policy_code =  0.0\n",
            "UL of policy_code =  1.0\n",
            "LL of policy_code =  1.0\n",
            "Number of Outliers in policy_code  =  38433\n",
            " \n",
            "IQR of acc_now_delinq =  0.0\n",
            "UL of acc_now_delinq =  0.0\n",
            "LL of acc_now_delinq =  0.0\n",
            "Number of Outliers in acc_now_delinq  =  38433\n",
            " \n",
            "IQR of chargeoff_within_12_mths =  0.0\n",
            "UL of chargeoff_within_12_mths =  0.0\n",
            "LL of chargeoff_within_12_mths =  0.0\n",
            "Number of Outliers in chargeoff_within_12_mths  =  38433\n",
            " \n",
            "IQR of delinq_amnt =  0.0\n",
            "UL of delinq_amnt =  0.0\n",
            "LL of delinq_amnt =  0.0\n",
            "Number of Outliers in delinq_amnt  =  38433\n",
            " \n",
            "IQR of pub_rec_bankruptcies =  0.0\n",
            "UL of pub_rec_bankruptcies =  0.0\n",
            "LL of pub_rec_bankruptcies =  0.0\n",
            "Number of Outliers in pub_rec_bankruptcies  =  38433\n",
            " \n",
            "IQR of tax_liens =  0.0\n",
            "UL of tax_liens =  0.0\n",
            "LL of tax_liens =  0.0\n",
            "Number of Outliers in tax_liens  =  38433\n",
            " \n"
          ]
        }
      ]
    },
    {
      "cell_type": "code",
      "source": [
        "df.shape"
      ],
      "metadata": {
        "colab": {
          "base_uri": "https://localhost:8080/"
        },
        "id": "6oS96kpjPsGo",
        "outputId": "9ca5da42-2eed-4993-fc9a-0d9f45a57e6e"
      },
      "execution_count": 90,
      "outputs": [
        {
          "output_type": "execute_result",
          "data": {
            "text/plain": [
              "(38433, 57)"
            ]
          },
          "metadata": {},
          "execution_count": 90
        }
      ]
    },
    {
      "cell_type": "code",
      "source": [
        "# IQR\n",
        "Q1 = np.percentile(df['installment'], 25,\n",
        "                   interpolation = 'midpoint')\n",
        " \n",
        "Q3 = np.percentile(df['installment'], 75,\n",
        "                   interpolation = 'midpoint')\n",
        "IQR = Q3 - Q1\n",
        " \n",
        "print(\"Old Shape: \", df.shape)\n",
        " \n",
        "# Upper bound\n",
        "upper=Q3+1.5*IQR\n",
        "upper_array=np.array(df['installment']>=upper)\n",
        "\n",
        "# Lower bound\n",
        "lower=Q1-1.5*IQR\n",
        "lower_array=np.array(df['installment']<=lower)\n",
        "\n",
        "# Removing the outliers\n",
        "df = df[(df['installment'] >= lower) & (df['installment'] <= upper)]\n",
        "\n",
        "df.shape"
      ],
      "metadata": {
        "colab": {
          "base_uri": "https://localhost:8080/"
        },
        "id": "Ew2do_uhiqcw",
        "outputId": "d9e4e669-98e6-487d-fccb-fd31fe953b70"
      },
      "execution_count": 91,
      "outputs": [
        {
          "output_type": "stream",
          "name": "stdout",
          "text": [
            "Old Shape:  (38433, 57)\n"
          ]
        },
        {
          "output_type": "stream",
          "name": "stderr",
          "text": [
            "<ipython-input-91-a43922d316e3>:2: DeprecationWarning: the `interpolation=` argument to percentile was renamed to `method=`, which has additional options.\n",
            "Users of the modes 'nearest', 'lower', 'higher', or 'midpoint' are encouraged to review the method they. (Deprecated NumPy 1.22)\n",
            "  Q1 = np.percentile(df['installment'], 25,\n",
            "<ipython-input-91-a43922d316e3>:5: DeprecationWarning: the `interpolation=` argument to percentile was renamed to `method=`, which has additional options.\n",
            "Users of the modes 'nearest', 'lower', 'higher', or 'midpoint' are encouraged to review the method they. (Deprecated NumPy 1.22)\n",
            "  Q3 = np.percentile(df['installment'], 75,\n"
          ]
        },
        {
          "output_type": "execute_result",
          "data": {
            "text/plain": [
              "(37218, 57)"
            ]
          },
          "metadata": {},
          "execution_count": 91
        }
      ]
    },
    {
      "cell_type": "code",
      "source": [
        "# IQR\n",
        "Q1 = np.percentile(df['funded_amnt'], 25,\n",
        "                   interpolation = 'midpoint')\n",
        " \n",
        "Q3 = np.percentile(df['funded_amnt'], 75,\n",
        "                   interpolation = 'midpoint')\n",
        "IQR = Q3 - Q1\n",
        " \n",
        "print(\"Old Shape: \", df.shape)\n",
        " \n",
        "# Upper bound\n",
        "upper=Q3+1.5*IQR\n",
        "upper_array=np.array(df['funded_amnt']>=upper)\n",
        "\n",
        "# Lower bound\n",
        "lower=Q1-1.5*IQR\n",
        "lower_array=np.array(df['funded_amnt']<=lower)\n",
        "\n",
        "# Removing the outliers\n",
        "df = df[(df['funded_amnt'] >= lower) & (df['funded_amnt'] <= upper)]\n",
        "\n",
        "df.shape"
      ],
      "metadata": {
        "colab": {
          "base_uri": "https://localhost:8080/"
        },
        "id": "BlrcqHEeiqZQ",
        "outputId": "406f0f1c-c361-4cce-8cc9-5b372e765d20"
      },
      "execution_count": 92,
      "outputs": [
        {
          "output_type": "stream",
          "name": "stdout",
          "text": [
            "Old Shape:  (37218, 57)\n"
          ]
        },
        {
          "output_type": "stream",
          "name": "stderr",
          "text": [
            "<ipython-input-92-76650ab6bd6a>:2: DeprecationWarning: the `interpolation=` argument to percentile was renamed to `method=`, which has additional options.\n",
            "Users of the modes 'nearest', 'lower', 'higher', or 'midpoint' are encouraged to review the method they. (Deprecated NumPy 1.22)\n",
            "  Q1 = np.percentile(df['funded_amnt'], 25,\n",
            "<ipython-input-92-76650ab6bd6a>:5: DeprecationWarning: the `interpolation=` argument to percentile was renamed to `method=`, which has additional options.\n",
            "Users of the modes 'nearest', 'lower', 'higher', or 'midpoint' are encouraged to review the method they. (Deprecated NumPy 1.22)\n",
            "  Q3 = np.percentile(df['funded_amnt'], 75,\n"
          ]
        },
        {
          "output_type": "execute_result",
          "data": {
            "text/plain": [
              "(36783, 57)"
            ]
          },
          "metadata": {},
          "execution_count": 92
        }
      ]
    },
    {
      "cell_type": "code",
      "source": [
        "# IQR\n",
        "Q1 = np.percentile(df['revol_bal'], 25,\n",
        "                   interpolation = 'midpoint')\n",
        " \n",
        "Q3 = np.percentile(df['revol_bal'], 75,\n",
        "                   interpolation = 'midpoint')\n",
        "IQR = Q3 - Q1\n",
        " \n",
        "print(\"Old Shape: \", df.shape)\n",
        " \n",
        "# Upper bound\n",
        "upper=Q3+1.5*IQR\n",
        "upper_array=np.array(df['revol_bal']>=upper)\n",
        "\n",
        "# Lower bound\n",
        "lower=Q1-1.5*IQR\n",
        "lower_array=np.array(df['revol_bal']<=lower)\n",
        "\n",
        "# Removing the outliers\n",
        "df = df[(df['revol_bal'] >= lower) & (df['revol_bal'] <= upper)]\n",
        "\n",
        "df.shape"
      ],
      "metadata": {
        "colab": {
          "base_uri": "https://localhost:8080/"
        },
        "id": "hHQbIElyiqW4",
        "outputId": "daa817cc-cc47-4b28-d25b-c7bb0d92bfc2"
      },
      "execution_count": 93,
      "outputs": [
        {
          "output_type": "stream",
          "name": "stdout",
          "text": [
            "Old Shape:  (36783, 57)\n"
          ]
        },
        {
          "output_type": "stream",
          "name": "stderr",
          "text": [
            "<ipython-input-93-c9dfeaaa9d20>:2: DeprecationWarning: the `interpolation=` argument to percentile was renamed to `method=`, which has additional options.\n",
            "Users of the modes 'nearest', 'lower', 'higher', or 'midpoint' are encouraged to review the method they. (Deprecated NumPy 1.22)\n",
            "  Q1 = np.percentile(df['revol_bal'], 25,\n",
            "<ipython-input-93-c9dfeaaa9d20>:5: DeprecationWarning: the `interpolation=` argument to percentile was renamed to `method=`, which has additional options.\n",
            "Users of the modes 'nearest', 'lower', 'higher', or 'midpoint' are encouraged to review the method they. (Deprecated NumPy 1.22)\n",
            "  Q3 = np.percentile(df['revol_bal'], 75,\n"
          ]
        },
        {
          "output_type": "execute_result",
          "data": {
            "text/plain": [
              "(34425, 57)"
            ]
          },
          "metadata": {},
          "execution_count": 93
        }
      ]
    },
    {
      "cell_type": "code",
      "source": [
        "# IQR\n",
        "Q1 = np.percentile(df['total_pymnt_inv'], 25,\n",
        "                   interpolation = 'midpoint')\n",
        " \n",
        "Q3 = np.percentile(df['total_pymnt_inv'], 75,\n",
        "                   interpolation = 'midpoint')\n",
        "IQR = Q3 - Q1\n",
        " \n",
        "print(\"Old Shape: \", df.shape)\n",
        " \n",
        "# Upper bound\n",
        "upper=Q3+1.5*IQR\n",
        "upper_array=np.array(df['total_pymnt_inv']>=upper)\n",
        "\n",
        "# Lower bound\n",
        "lower=Q1-1.5*IQR\n",
        "lower_array=np.array(df['total_pymnt_inv']<=lower)\n",
        "\n",
        "# Removing the outliers\n",
        "df = df[(df['total_pymnt_inv'] >= lower) & (df['total_pymnt_inv'] <= upper)]\n",
        "\n",
        "df.shape"
      ],
      "metadata": {
        "colab": {
          "base_uri": "https://localhost:8080/"
        },
        "id": "buIVFnOCiqUu",
        "outputId": "eb971d0c-8760-485d-af31-e2dc959e90d3"
      },
      "execution_count": 94,
      "outputs": [
        {
          "output_type": "stream",
          "name": "stdout",
          "text": [
            "Old Shape:  (34425, 57)\n"
          ]
        },
        {
          "output_type": "stream",
          "name": "stderr",
          "text": [
            "<ipython-input-94-ba0956b786d5>:2: DeprecationWarning: the `interpolation=` argument to percentile was renamed to `method=`, which has additional options.\n",
            "Users of the modes 'nearest', 'lower', 'higher', or 'midpoint' are encouraged to review the method they. (Deprecated NumPy 1.22)\n",
            "  Q1 = np.percentile(df['total_pymnt_inv'], 25,\n",
            "<ipython-input-94-ba0956b786d5>:5: DeprecationWarning: the `interpolation=` argument to percentile was renamed to `method=`, which has additional options.\n",
            "Users of the modes 'nearest', 'lower', 'higher', or 'midpoint' are encouraged to review the method they. (Deprecated NumPy 1.22)\n",
            "  Q3 = np.percentile(df['total_pymnt_inv'], 75,\n"
          ]
        },
        {
          "output_type": "execute_result",
          "data": {
            "text/plain": [
              "(33628, 57)"
            ]
          },
          "metadata": {},
          "execution_count": 94
        }
      ]
    },
    {
      "cell_type": "code",
      "source": [
        "# IQR\n",
        "Q1 = np.percentile(df['total_rec_int'], 25,\n",
        "                   interpolation = 'midpoint')\n",
        " \n",
        "Q3 = np.percentile(df['total_rec_int'], 75,\n",
        "                   interpolation = 'midpoint')\n",
        "IQR = Q3 - Q1\n",
        " \n",
        "print(\"Old Shape: \", df.shape)\n",
        " \n",
        "# Upper bound\n",
        "upper=Q3+1.5*IQR\n",
        "upper_array=np.array(df['total_rec_int']>=upper)\n",
        "\n",
        "# Lower bound\n",
        "lower=Q1-1.5*IQR\n",
        "lower_array=np.array(df['total_rec_int']<=lower)\n",
        "\n",
        "# Removing the outliers\n",
        "df = df[(df['total_rec_int'] >= lower) & (df['total_rec_int'] <= upper)]\n",
        "\n",
        "df.shape"
      ],
      "metadata": {
        "colab": {
          "base_uri": "https://localhost:8080/"
        },
        "id": "wfG2tOwwiqSW",
        "outputId": "e3904b4a-134c-4873-a187-a4435ddd1d1a"
      },
      "execution_count": 95,
      "outputs": [
        {
          "output_type": "stream",
          "name": "stdout",
          "text": [
            "Old Shape:  (33628, 57)\n"
          ]
        },
        {
          "output_type": "stream",
          "name": "stderr",
          "text": [
            "<ipython-input-95-3c268388a6c5>:2: DeprecationWarning: the `interpolation=` argument to percentile was renamed to `method=`, which has additional options.\n",
            "Users of the modes 'nearest', 'lower', 'higher', or 'midpoint' are encouraged to review the method they. (Deprecated NumPy 1.22)\n",
            "  Q1 = np.percentile(df['total_rec_int'], 25,\n",
            "<ipython-input-95-3c268388a6c5>:5: DeprecationWarning: the `interpolation=` argument to percentile was renamed to `method=`, which has additional options.\n",
            "Users of the modes 'nearest', 'lower', 'higher', or 'midpoint' are encouraged to review the method they. (Deprecated NumPy 1.22)\n",
            "  Q3 = np.percentile(df['total_rec_int'], 75,\n"
          ]
        },
        {
          "output_type": "execute_result",
          "data": {
            "text/plain": [
              "(31562, 57)"
            ]
          },
          "metadata": {},
          "execution_count": 95
        }
      ]
    },
    {
      "cell_type": "code",
      "source": [
        "# IQR\n",
        "Q1 = np.percentile(df['last_pymnt_amnt'], 25,\n",
        "                   interpolation = 'midpoint')\n",
        " \n",
        "Q3 = np.percentile(df['last_pymnt_amnt'], 75,\n",
        "                   interpolation = 'midpoint')\n",
        "IQR = Q3 - Q1\n",
        " \n",
        "print(\"Old Shape: \", df.shape)\n",
        " \n",
        "# Upper bound\n",
        "upper=Q3+1.5*IQR\n",
        "upper_array=np.array(df['last_pymnt_amnt']>=upper)\n",
        "\n",
        "# Lower bound\n",
        "lower=Q1-1.5*IQR\n",
        "lower_array=np.array(df['last_pymnt_amnt']<=lower)\n",
        "\n",
        "# Removing the outliers\n",
        "df = df[(df['last_pymnt_amnt'] >= lower) & (df['last_pymnt_amnt'] <= upper)]\n",
        "\n",
        "df.shape"
      ],
      "metadata": {
        "colab": {
          "base_uri": "https://localhost:8080/"
        },
        "id": "MDsavTH1iqQJ",
        "outputId": "21cc9d5c-21e3-4179-d465-ca7dde84ef41"
      },
      "execution_count": 96,
      "outputs": [
        {
          "output_type": "stream",
          "name": "stderr",
          "text": [
            "<ipython-input-96-0508596d5762>:2: DeprecationWarning: the `interpolation=` argument to percentile was renamed to `method=`, which has additional options.\n",
            "Users of the modes 'nearest', 'lower', 'higher', or 'midpoint' are encouraged to review the method they. (Deprecated NumPy 1.22)\n",
            "  Q1 = np.percentile(df['last_pymnt_amnt'], 25,\n",
            "<ipython-input-96-0508596d5762>:5: DeprecationWarning: the `interpolation=` argument to percentile was renamed to `method=`, which has additional options.\n",
            "Users of the modes 'nearest', 'lower', 'higher', or 'midpoint' are encouraged to review the method they. (Deprecated NumPy 1.22)\n",
            "  Q3 = np.percentile(df['last_pymnt_amnt'], 75,\n"
          ]
        },
        {
          "output_type": "stream",
          "name": "stdout",
          "text": [
            "Old Shape:  (31562, 57)\n"
          ]
        },
        {
          "output_type": "execute_result",
          "data": {
            "text/plain": [
              "(28371, 57)"
            ]
          },
          "metadata": {},
          "execution_count": 96
        }
      ]
    },
    {
      "cell_type": "markdown",
      "source": [
        "-----------------------------------------------------------------------------"
      ],
      "metadata": {
        "id": "FnUKA6U8iyNA"
      }
    },
    {
      "cell_type": "code",
      "source": [
        "# IQR\n",
        "Q1 = np.percentile(df['total_acc'], 25,\n",
        "                   interpolation = 'midpoint')\n",
        " \n",
        "Q3 = np.percentile(df['total_acc'], 75,\n",
        "                   interpolation = 'midpoint')\n",
        "IQR = Q3 - Q1\n",
        " \n",
        "print(\"Old Shape: \", df.shape)\n",
        " \n",
        "# Upper bound\n",
        "upper=Q3+1.5*IQR\n",
        "upper_array=np.array(df['total_acc']>=upper)\n",
        "\n",
        "# Lower bound\n",
        "lower=Q1-1.5*IQR\n",
        "lower_array=np.array(df['total_acc']<=lower)\n",
        "\n",
        "# Removing the outliers\n",
        "df = df[(df['total_acc'] >= lower) & (df['total_acc'] <= upper)]\n",
        "\n",
        "df.shape"
      ],
      "metadata": {
        "colab": {
          "base_uri": "https://localhost:8080/"
        },
        "id": "O1OdszuMPOf5",
        "outputId": "6cff5c40-c321-462a-fcec-86bd964c9f74"
      },
      "execution_count": 97,
      "outputs": [
        {
          "output_type": "stream",
          "name": "stdout",
          "text": [
            "Old Shape:  (28371, 57)\n"
          ]
        },
        {
          "output_type": "stream",
          "name": "stderr",
          "text": [
            "<ipython-input-97-78f67ea42faf>:2: DeprecationWarning: the `interpolation=` argument to percentile was renamed to `method=`, which has additional options.\n",
            "Users of the modes 'nearest', 'lower', 'higher', or 'midpoint' are encouraged to review the method they. (Deprecated NumPy 1.22)\n",
            "  Q1 = np.percentile(df['total_acc'], 25,\n",
            "<ipython-input-97-78f67ea42faf>:5: DeprecationWarning: the `interpolation=` argument to percentile was renamed to `method=`, which has additional options.\n",
            "Users of the modes 'nearest', 'lower', 'higher', or 'midpoint' are encouraged to review the method they. (Deprecated NumPy 1.22)\n",
            "  Q3 = np.percentile(df['total_acc'], 75,\n"
          ]
        },
        {
          "output_type": "execute_result",
          "data": {
            "text/plain": [
              "(27868, 57)"
            ]
          },
          "metadata": {},
          "execution_count": 97
        }
      ]
    },
    {
      "cell_type": "code",
      "source": [
        "# IQR\n",
        "Q1 = np.percentile(df['annual_inc'], 25,\n",
        "                   interpolation = 'midpoint')\n",
        " \n",
        "Q3 = np.percentile(df['annual_inc'], 75,\n",
        "                   interpolation = 'midpoint')\n",
        "IQR = Q3 - Q1\n",
        " \n",
        "print(\"Old Shape: \", df.shape)\n",
        " \n",
        "# Upper bound\n",
        "upper=Q3+1.5*IQR\n",
        "upper_array=np.array(df['annual_inc']>=upper)\n",
        "\n",
        "# Lower bound\n",
        "lower=Q1-1.5*IQR\n",
        "lower_array=np.array(df['annual_inc']<=lower)\n",
        "\n",
        "# Removing the outliers\n",
        "df = df[(df['annual_inc'] >= lower) & (df['annual_inc'] <= upper)]\n",
        "\n",
        "df.shape"
      ],
      "metadata": {
        "colab": {
          "base_uri": "https://localhost:8080/"
        },
        "id": "gOfPxS8ivs0f",
        "outputId": "2f07d164-f745-452a-8e3f-c2bb77cec24b"
      },
      "execution_count": 98,
      "outputs": [
        {
          "output_type": "stream",
          "name": "stderr",
          "text": [
            "<ipython-input-98-1accd9449fcf>:2: DeprecationWarning: the `interpolation=` argument to percentile was renamed to `method=`, which has additional options.\n",
            "Users of the modes 'nearest', 'lower', 'higher', or 'midpoint' are encouraged to review the method they. (Deprecated NumPy 1.22)\n",
            "  Q1 = np.percentile(df['annual_inc'], 25,\n",
            "<ipython-input-98-1accd9449fcf>:5: DeprecationWarning: the `interpolation=` argument to percentile was renamed to `method=`, which has additional options.\n",
            "Users of the modes 'nearest', 'lower', 'higher', or 'midpoint' are encouraged to review the method they. (Deprecated NumPy 1.22)\n",
            "  Q3 = np.percentile(df['annual_inc'], 75,\n"
          ]
        },
        {
          "output_type": "stream",
          "name": "stdout",
          "text": [
            "Old Shape:  (27868, 57)\n"
          ]
        },
        {
          "output_type": "execute_result",
          "data": {
            "text/plain": [
              "(26736, 57)"
            ]
          },
          "metadata": {},
          "execution_count": 98
        }
      ]
    },
    {
      "cell_type": "code",
      "source": [
        "# IQR\n",
        "Q1 = np.percentile(df['loan_amnt'], 25,\n",
        "                   interpolation = 'midpoint')\n",
        " \n",
        "Q3 = np.percentile(df['loan_amnt'], 75,\n",
        "                   interpolation = 'midpoint')\n",
        "IQR = Q3 - Q1\n",
        " \n",
        "print(\"Old Shape: \", df.shape)\n",
        " \n",
        "# Upper bound\n",
        "upper=Q3+1.5*IQR\n",
        "upper_array=np.array(df['loan_amnt']>=upper)\n",
        "\n",
        "# Lower bound\n",
        "lower=Q1-1.5*IQR\n",
        "lower_array=np.array(df['loan_amnt']<=lower)\n",
        "\n",
        "# Removing the outliers\n",
        "df = df[(df['loan_amnt'] >= lower) & (df['loan_amnt'] <= upper)]\n",
        "\n",
        "df.shape"
      ],
      "metadata": {
        "colab": {
          "base_uri": "https://localhost:8080/"
        },
        "id": "0JpwAA3YvsuX",
        "outputId": "aa5b8125-9ea7-47e8-ab7c-3c43a4fcf720"
      },
      "execution_count": 99,
      "outputs": [
        {
          "output_type": "stream",
          "name": "stderr",
          "text": [
            "<ipython-input-99-c344b834e6fc>:2: DeprecationWarning: the `interpolation=` argument to percentile was renamed to `method=`, which has additional options.\n",
            "Users of the modes 'nearest', 'lower', 'higher', or 'midpoint' are encouraged to review the method they. (Deprecated NumPy 1.22)\n",
            "  Q1 = np.percentile(df['loan_amnt'], 25,\n",
            "<ipython-input-99-c344b834e6fc>:5: DeprecationWarning: the `interpolation=` argument to percentile was renamed to `method=`, which has additional options.\n",
            "Users of the modes 'nearest', 'lower', 'higher', or 'midpoint' are encouraged to review the method they. (Deprecated NumPy 1.22)\n",
            "  Q3 = np.percentile(df['loan_amnt'], 75,\n"
          ]
        },
        {
          "output_type": "stream",
          "name": "stdout",
          "text": [
            "Old Shape:  (26736, 57)\n"
          ]
        },
        {
          "output_type": "execute_result",
          "data": {
            "text/plain": [
              "(26171, 57)"
            ]
          },
          "metadata": {},
          "execution_count": 99
        }
      ]
    },
    {
      "cell_type": "markdown",
      "source": [
        "## **EDA**"
      ],
      "metadata": {
        "id": "geleG-WlUldW"
      }
    },
    {
      "cell_type": "code",
      "source": [
        " ## Correlation\n",
        "plt.figure(figsize=(15,8))\n",
        "correlation = df.corr()\n",
        "sns.heatmap(abs(correlation), annot=True, cmap='coolwarm')"
      ],
      "metadata": {
        "colab": {
          "base_uri": "https://localhost:8080/",
          "height": 639
        },
        "id": "sEQZLWZ08i2y",
        "outputId": "da3fe382-d5b2-4b35-a4da-893b20b227eb"
      },
      "execution_count": 100,
      "outputs": [
        {
          "output_type": "execute_result",
          "data": {
            "text/plain": [
              "<AxesSubplot:>"
            ]
          },
          "metadata": {},
          "execution_count": 100
        },
        {
          "output_type": "display_data",
          "data": {
            "text/plain": [
              "<Figure size 1080x576 with 2 Axes>"
            ],
            "image/png": "[encoded data removed]"
          },
          "metadata": {
            "needs_background": "light"
          }
        }
      ]
    },
    {
      "cell_type": "code",
      "source": [
        "# Counting observations from 'term'\n",
        "df[\"term\"].value_counts()"
      ],
      "metadata": {
        "colab": {
          "base_uri": "https://localhost:8080/"
        },
        "id": "bKXMlwT0_K36",
        "outputId": "a9a993d2-a2a8-4dc1-e1cb-8c099b6ff55a"
      },
      "execution_count": 101,
      "outputs": [
        {
          "output_type": "execute_result",
          "data": {
            "text/plain": [
              " 36 months    21678\n",
              " 60 months     4493\n",
              "Name: term, dtype: int64"
            ]
          },
          "metadata": {},
          "execution_count": 101
        }
      ]
    },
    {
      "cell_type": "code",
      "source": [
        "# Ploting observations from 'term'\n",
        "\n",
        "sns.countplot(df['term'])\n",
        "plt.show()"
      ],
      "metadata": {
        "colab": {
          "base_uri": "https://localhost:8080/",
          "height": 334
        },
        "id": "84g2nMFXTwhg",
        "outputId": "02b27917-1ad5-4312-d5a8-3beaa7d13666"
      },
      "execution_count": 102,
      "outputs": [
        {
          "output_type": "stream",
          "name": "stderr",
          "text": [
            "/usr/local/lib/python3.9/dist-packages/seaborn/_decorators.py:36: FutureWarning: Pass the following variable as a keyword arg: x. From version 0.12, the only valid positional argument will be `data`, and passing other arguments without an explicit keyword will result in an error or misinterpretation.\n",
            "  warnings.warn(\n"
          ]
        },
        {
          "output_type": "display_data",
          "data": {
            "text/plain": [
              "<Figure size 432x288 with 1 Axes>"
            ],
            "image/png": "[encoded data removed]"
          },
          "metadata": {
            "needs_background": "light"
          }
        }
      ]
    },
    {
      "cell_type": "markdown",
      "source": [
        "From above graph we can see that most of the users choose 36 months tenure."
      ],
      "metadata": {
        "id": "lCqWlmLlUuYY"
      }
    },
    {
      "cell_type": "code",
      "source": [
        "# Counting observations from 'high_risk_applicants'\n",
        "df[\"loan_status\"].value_counts()"
      ],
      "metadata": {
        "colab": {
          "base_uri": "https://localhost:8080/"
        },
        "id": "teguvgM-_K1l",
        "outputId": "3010239d-3bf2-4cd0-a8fa-cedd19d9394e"
      },
      "execution_count": 103,
      "outputs": [
        {
          "output_type": "execute_result",
          "data": {
            "text/plain": [
              "Fully Paid                                             21128\n",
              "Charged Off                                             3618\n",
              "Does not meet the credit policy. Status:Fully Paid       926\n",
              "Does not meet the credit policy. Status:Charged Off      361\n",
              "Current                                                  133\n",
              "Late (16-30 days)                                          2\n",
              "Late (31-120 days)                                         2\n",
              "In Grace Period                                            1\n",
              "Name: loan_status, dtype: int64"
            ]
          },
          "metadata": {},
          "execution_count": 103
        }
      ]
    },
    {
      "cell_type": "code",
      "source": [
        "df['loan_status'] = df['loan_status'].replace({'Does not meet the credit policy. Status:Charged Off':'Charged Off',\n",
        "                                               'Default':'Charged Off','Does not meet the credit policy. Status:Fully Paid':'Fully Paid',\n",
        "                                               'Current':'Fully Paid'})"
      ],
      "metadata": {
        "id": "cbJ8_OWqS_xF"
      },
      "execution_count": 104,
      "outputs": []
    },
    {
      "cell_type": "code",
      "source": [
        "df[\"loan_status\"].value_counts()"
      ],
      "metadata": {
        "colab": {
          "base_uri": "https://localhost:8080/"
        },
        "id": "QWKAvGMCTtKk",
        "outputId": "3437e16a-907d-47e5-ea99-785078f3e65f"
      },
      "execution_count": 105,
      "outputs": [
        {
          "output_type": "execute_result",
          "data": {
            "text/plain": [
              "Fully Paid            22187\n",
              "Charged Off            3979\n",
              "Late (16-30 days)         2\n",
              "Late (31-120 days)        2\n",
              "In Grace Period           1\n",
              "Name: loan_status, dtype: int64"
            ]
          },
          "metadata": {},
          "execution_count": 105
        }
      ]
    },
    {
      "cell_type": "code",
      "source": [
        "df = df[df.loan_status != 'In Grace Period']"
      ],
      "metadata": {
        "id": "ukFju78MTvJI"
      },
      "execution_count": 106,
      "outputs": []
    },
    {
      "cell_type": "code",
      "source": [
        "df = df[df.loan_status != 'Late (31-120 days)']"
      ],
      "metadata": {
        "id": "f0R_C6M_UEu-"
      },
      "execution_count": 107,
      "outputs": []
    },
    {
      "cell_type": "code",
      "source": [
        "df = df[df.loan_status != 'Late (16-30 days)']"
      ],
      "metadata": {
        "id": "AV6_lvxMUEtF"
      },
      "execution_count": 108,
      "outputs": []
    },
    {
      "cell_type": "code",
      "source": [
        "df[\"loan_status\"].value_counts()"
      ],
      "metadata": {
        "colab": {
          "base_uri": "https://localhost:8080/"
        },
        "id": "-v5YLxIPURD8",
        "outputId": "4207abf1-0621-4ac4-9a74-b4ca80eb38f0"
      },
      "execution_count": 109,
      "outputs": [
        {
          "output_type": "execute_result",
          "data": {
            "text/plain": [
              "Fully Paid     22187\n",
              "Charged Off     3979\n",
              "Name: loan_status, dtype: int64"
            ]
          },
          "metadata": {},
          "execution_count": 109
        }
      ]
    },
    {
      "cell_type": "code",
      "source": [
        "# Ploting observations from 'loan_status'\n",
        "\n",
        "sns.countplot(df['loan_status'])\n",
        "plt.show()"
      ],
      "metadata": {
        "colab": {
          "base_uri": "https://localhost:8080/",
          "height": 335
        },
        "id": "CaLuDb94VLlw",
        "outputId": "35fbd146-6697-4ff6-c046-3bcd97a2268b"
      },
      "execution_count": 110,
      "outputs": [
        {
          "output_type": "stream",
          "name": "stderr",
          "text": [
            "/usr/local/lib/python3.9/dist-packages/seaborn/_decorators.py:36: FutureWarning: Pass the following variable as a keyword arg: x. From version 0.12, the only valid positional argument will be `data`, and passing other arguments without an explicit keyword will result in an error or misinterpretation.\n",
            "  warnings.warn(\n"
          ]
        },
        {
          "output_type": "display_data",
          "data": {
            "text/plain": [
              "<Figure size 432x288 with 1 Axes>"
            ],
            "image/png": "[encoded data removed]"
          },
          "metadata": {
            "needs_background": "light"
          }
        }
      ]
    },
    {
      "cell_type": "markdown",
      "source": [
        "In above graph we can see that almost 23000 users had Fully paid and around 4000 are Charged Off"
      ],
      "metadata": {
        "id": "9p5akNoAVS7X"
      }
    },
    {
      "cell_type": "code",
      "source": [
        "df.emp_length.unique()"
      ],
      "metadata": {
        "colab": {
          "base_uri": "https://localhost:8080/"
        },
        "id": "M3P50ps1_Ky-",
        "outputId": "b2469968-74b0-4aaf-96c3-37d1034dca09"
      },
      "execution_count": 111,
      "outputs": [
        {
          "output_type": "execute_result",
          "data": {
            "text/plain": [
              "array(['< 1 year', '10+ years', '1 year', '3 years', '8 years', '9 years',\n",
              "       '5 years', '4 years', '2 years', '7 years', '6 years'],\n",
              "      dtype=object)"
            ]
          },
          "metadata": {},
          "execution_count": 111
        }
      ]
    },
    {
      "cell_type": "code",
      "source": [
        "#remove years,+,NAN   ... /d is matching decimal digit\n",
        "import re\n",
        "\n",
        "df[\"emp_length\"]=[0 if str(x) ==\"< 1 year\" else x if str(x) == \"nan\" else int(re.findall(r'\\d+',str(x))[0]) for x in (df['emp_length'])]\n",
        "df[\"emp_length\"].head()"
      ],
      "metadata": {
        "colab": {
          "base_uri": "https://localhost:8080/"
        },
        "id": "EZktPVA4_Kwp",
        "outputId": "69fac50e-a2ba-4711-c3d6-83e4343654e6"
      },
      "execution_count": 112,
      "outputs": [
        {
          "output_type": "execute_result",
          "data": {
            "text/plain": [
              "1     0\n",
              "3    10\n",
              "4     1\n",
              "5     3\n",
              "6     8\n",
              "Name: emp_length, dtype: int64"
            ]
          },
          "metadata": {},
          "execution_count": 112
        }
      ]
    },
    {
      "cell_type": "code",
      "source": [
        "df.emp_length.unique()"
      ],
      "metadata": {
        "colab": {
          "base_uri": "https://localhost:8080/"
        },
        "id": "1-je-m9N_KuB",
        "outputId": "fe03bd23-6b72-4178-f609-fd353860ca42"
      },
      "execution_count": 113,
      "outputs": [
        {
          "output_type": "execute_result",
          "data": {
            "text/plain": [
              "array([ 0, 10,  1,  3,  8,  9,  5,  4,  2,  7,  6])"
            ]
          },
          "metadata": {},
          "execution_count": 113
        }
      ]
    },
    {
      "cell_type": "code",
      "source": [
        "# Ploting observations from 'emp_length'\n",
        "\n",
        "sns.countplot(df['emp_length'])\n",
        "plt.show()"
      ],
      "metadata": {
        "colab": {
          "base_uri": "https://localhost:8080/",
          "height": 335
        },
        "id": "zEfSlDtRVtFw",
        "outputId": "44c6dca1-0532-4174-99bb-cb62ed6d8171"
      },
      "execution_count": 114,
      "outputs": [
        {
          "output_type": "stream",
          "name": "stderr",
          "text": [
            "/usr/local/lib/python3.9/dist-packages/seaborn/_decorators.py:36: FutureWarning: Pass the following variable as a keyword arg: x. From version 0.12, the only valid positional argument will be `data`, and passing other arguments without an explicit keyword will result in an error or misinterpretation.\n",
            "  warnings.warn(\n"
          ]
        },
        {
          "output_type": "display_data",
          "data": {
            "text/plain": [
              "<Figure size 432x288 with 1 Axes>"
            ],
            "image/png": "[encoded data removed]"
          },
          "metadata": {
            "needs_background": "light"
          }
        }
      ]
    },
    {
      "cell_type": "code",
      "source": [
        "df[\"home_ownership\"].value_counts()"
      ],
      "metadata": {
        "colab": {
          "base_uri": "https://localhost:8080/"
        },
        "id": "mZ0VMVKAWMqR",
        "outputId": "61313616-73da-4bb2-e674-c3164b6de933"
      },
      "execution_count": 115,
      "outputs": [
        {
          "output_type": "execute_result",
          "data": {
            "text/plain": [
              "RENT        14217\n",
              "MORTGAGE     9876\n",
              "OWN          1969\n",
              "OTHER         104\n",
              "Name: home_ownership, dtype: int64"
            ]
          },
          "metadata": {},
          "execution_count": 115
        }
      ]
    },
    {
      "cell_type": "code",
      "source": [
        "# Ploting observations from 'home_ownership'\n",
        "\n",
        "sns.countplot(df['home_ownership'])\n",
        "plt.show()"
      ],
      "metadata": {
        "colab": {
          "base_uri": "https://localhost:8080/",
          "height": 335
        },
        "id": "__etvMDSWDHI",
        "outputId": "74d18e1d-a5e3-4139-8fa1-23784243e66c"
      },
      "execution_count": 116,
      "outputs": [
        {
          "output_type": "stream",
          "name": "stderr",
          "text": [
            "/usr/local/lib/python3.9/dist-packages/seaborn/_decorators.py:36: FutureWarning: Pass the following variable as a keyword arg: x. From version 0.12, the only valid positional argument will be `data`, and passing other arguments without an explicit keyword will result in an error or misinterpretation.\n",
            "  warnings.warn(\n"
          ]
        },
        {
          "output_type": "display_data",
          "data": {
            "text/plain": [
              "<Figure size 432x288 with 1 Axes>"
            ],
            "image/png": "[encoded data removed]"
          },
          "metadata": {
            "needs_background": "light"
          }
        }
      ]
    },
    {
      "cell_type": "code",
      "source": [
        "# Ploting observations from 'verification_status'\n",
        "\n",
        "sns.countplot(df['verification_status'])\n",
        "plt.show()"
      ],
      "metadata": {
        "colab": {
          "base_uri": "https://localhost:8080/",
          "height": 335
        },
        "id": "8za4QbxuWXwB",
        "outputId": "8aba2a27-b1df-4663-8954-d5b35f1cc951"
      },
      "execution_count": 117,
      "outputs": [
        {
          "output_type": "stream",
          "name": "stderr",
          "text": [
            "/usr/local/lib/python3.9/dist-packages/seaborn/_decorators.py:36: FutureWarning: Pass the following variable as a keyword arg: x. From version 0.12, the only valid positional argument will be `data`, and passing other arguments without an explicit keyword will result in an error or misinterpretation.\n",
            "  warnings.warn(\n"
          ]
        },
        {
          "output_type": "display_data",
          "data": {
            "text/plain": [
              "<Figure size 432x288 with 1 Axes>"
            ],
            "image/png": "[encoded data removed]"
          },
          "metadata": {
            "needs_background": "light"
          }
        }
      ]
    },
    {
      "cell_type": "code",
      "source": [
        "df[\"purpose\"].value_counts()"
      ],
      "metadata": {
        "colab": {
          "base_uri": "https://localhost:8080/"
        },
        "id": "oyyFMvYOgMof",
        "outputId": "b91b6a47-1bdc-4796-c444-df7fe738e227"
      },
      "execution_count": 118,
      "outputs": [
        {
          "output_type": "execute_result",
          "data": {
            "text/plain": [
              "debt_consolidation    11720\n",
              "credit_card            3269\n",
              "other                  3038\n",
              "home_improvement       1780\n",
              "major_purchase         1671\n",
              "car                    1228\n",
              "small_business          894\n",
              "wedding                 708\n",
              "medical                 514\n",
              "moving                  468\n",
              "vacation                303\n",
              "educational             280\n",
              "house                   233\n",
              "renewable_energy         60\n",
              "Name: purpose, dtype: int64"
            ]
          },
          "metadata": {},
          "execution_count": 118
        }
      ]
    },
    {
      "cell_type": "code",
      "source": [
        "# Ploting observations from 'verification_status'\n",
        "plt.figure(figsize = (25,8))\n",
        "sns.countplot(df['purpose'])\n",
        "plt.show()"
      ],
      "metadata": {
        "colab": {
          "base_uri": "https://localhost:8080/",
          "height": 481
        },
        "id": "O7WxQmYHf-Rk",
        "outputId": "7bd2e199-2897-4245-b002-fda2d3f4c386"
      },
      "execution_count": 119,
      "outputs": [
        {
          "output_type": "stream",
          "name": "stderr",
          "text": [
            "/usr/local/lib/python3.9/dist-packages/seaborn/_decorators.py:36: FutureWarning: Pass the following variable as a keyword arg: x. From version 0.12, the only valid positional argument will be `data`, and passing other arguments without an explicit keyword will result in an error or misinterpretation.\n",
            "  warnings.warn(\n"
          ]
        },
        {
          "output_type": "display_data",
          "data": {
            "text/plain": [
              "<Figure size 1800x576 with 1 Axes>"
            ],
            "image/png": "[encoded data removed]"
          },
          "metadata": {
            "needs_background": "light"
          }
        }
      ]
    },
    {
      "cell_type": "code",
      "source": [
        "df.groupby('grade')['loan_amnt'].mean().round(0).plot.bar()"
      ],
      "metadata": {
        "colab": {
          "base_uri": "https://localhost:8080/",
          "height": 294
        },
        "id": "vKI4mhaEgZSd",
        "outputId": "674ef97f-8ebe-434f-c612-30ec9c2796b6"
      },
      "execution_count": 120,
      "outputs": [
        {
          "output_type": "execute_result",
          "data": {
            "text/plain": [
              "<AxesSubplot:xlabel='grade'>"
            ]
          },
          "metadata": {},
          "execution_count": 120
        },
        {
          "output_type": "display_data",
          "data": {
            "text/plain": [
              "<Figure size 432x288 with 1 Axes>"
            ],
            "image/png": "[encoded data removed]"
          },
          "metadata": {
            "needs_background": "light"
          }
        }
      ]
    },
    {
      "cell_type": "code",
      "source": [
        "plt.figure(figsize = (20,8))\n",
        "sns.countplot(df['sub_grade'])\n",
        "plt.show()"
      ],
      "metadata": {
        "colab": {
          "base_uri": "https://localhost:8080/",
          "height": 553
        },
        "id": "WFj2l_tNbRUC",
        "outputId": "caf7dfb6-a182-4e4d-ff2e-0a67b3c595b6"
      },
      "execution_count": 121,
      "outputs": [
        {
          "output_type": "stream",
          "name": "stderr",
          "text": [
            "/usr/local/lib/python3.9/dist-packages/seaborn/_decorators.py:36: FutureWarning: Pass the following variable as a keyword arg: x. From version 0.12, the only valid positional argument will be `data`, and passing other arguments without an explicit keyword will result in an error or misinterpretation.\n",
            "  warnings.warn(\n"
          ]
        },
        {
          "output_type": "display_data",
          "data": {
            "text/plain": [
              "<Figure size 1440x576 with 1 Axes>"
            ],
            "image/png": "[encoded data removed]"
          },
          "metadata": {
            "needs_background": "light"
          }
        }
      ]
    },
    {
      "cell_type": "code",
      "source": [
        "df['fico_range_low'] = df['fico_range_low'].astype(int)"
      ],
      "metadata": {
        "id": "O0N7gcRRctoq"
      },
      "execution_count": 122,
      "outputs": []
    },
    {
      "cell_type": "code",
      "source": [
        "plt.figure(figsize = (25,8))\n",
        "sns.countplot(df['fico_range_low'])\n",
        "plt.show()"
      ],
      "metadata": {
        "colab": {
          "base_uri": "https://localhost:8080/",
          "height": 483
        },
        "id": "E9jB3FJzb1tq",
        "outputId": "24e74825-76b2-4847-90d7-6cf9dd278572"
      },
      "execution_count": 123,
      "outputs": [
        {
          "output_type": "stream",
          "name": "stderr",
          "text": [
            "/usr/local/lib/python3.9/dist-packages/seaborn/_decorators.py:36: FutureWarning: Pass the following variable as a keyword arg: x. From version 0.12, the only valid positional argument will be `data`, and passing other arguments without an explicit keyword will result in an error or misinterpretation.\n",
            "  warnings.warn(\n"
          ]
        },
        {
          "output_type": "display_data",
          "data": {
            "text/plain": [
              "<Figure size 1800x576 with 1 Axes>"
            ],
            "image/png": "[encoded data removed]"
          },
          "metadata": {
            "needs_background": "light"
          }
        }
      ]
    },
    {
      "cell_type": "code",
      "source": [
        "df['fico_range_high'] = df['fico_range_high'].astype(int)"
      ],
      "metadata": {
        "id": "TUu9a8xqeaet"
      },
      "execution_count": 124,
      "outputs": []
    },
    {
      "cell_type": "code",
      "source": [
        "plt.figure(figsize = (25,8))\n",
        "sns.countplot(df['fico_range_high'])\n",
        "plt.show()"
      ],
      "metadata": {
        "colab": {
          "base_uri": "https://localhost:8080/",
          "height": 483
        },
        "id": "lhtcFTameWKc",
        "outputId": "2e5d4215-e152-4b0e-89d9-84d3d99cd053"
      },
      "execution_count": 125,
      "outputs": [
        {
          "output_type": "stream",
          "name": "stderr",
          "text": [
            "/usr/local/lib/python3.9/dist-packages/seaborn/_decorators.py:36: FutureWarning: Pass the following variable as a keyword arg: x. From version 0.12, the only valid positional argument will be `data`, and passing other arguments without an explicit keyword will result in an error or misinterpretation.\n",
            "  warnings.warn(\n"
          ]
        },
        {
          "output_type": "display_data",
          "data": {
            "text/plain": [
              "<Figure size 1800x576 with 1 Axes>"
            ],
            "image/png": "[encoded data removed]"
          },
          "metadata": {
            "needs_background": "light"
          }
        }
      ]
    },
    {
      "cell_type": "code",
      "source": [
        "plt.figure(figsize=(15, 10))\n",
        "\n",
        "plt.subplot(2, 2, 1)\n",
        "grade = sorted(df.grade.unique().tolist())\n",
        "sns.countplot(x='grade', data=df, hue='loan_status', order=grade)\n",
        "\n",
        "plt.subplot(2, 2, 2)\n",
        "sub_grade = sorted(df.sub_grade.unique().tolist())\n",
        "g = sns.countplot(x='sub_grade', data=df, hue='loan_status', order=sub_grade)\n",
        "g.set_xticklabels(g.get_xticklabels(), rotation=90);"
      ],
      "metadata": {
        "colab": {
          "base_uri": "https://localhost:8080/",
          "height": 314
        },
        "id": "1ky9_IfF9M8x",
        "outputId": "4e6eb24d-664a-4a5f-964c-c918bbcd53ad"
      },
      "execution_count": 126,
      "outputs": [
        {
          "output_type": "display_data",
          "data": {
            "text/plain": [
              "<Figure size 1080x720 with 2 Axes>"
            ],
            "image/png": "[encoded data removed]"
          },
          "metadata": {
            "needs_background": "light"
          }
        }
      ]
    },
    {
      "cell_type": "code",
      "source": [
        "plt.figure(figsize=(15, 20))\n",
        "\n",
        "plt.subplot(4, 2, 1)\n",
        "sns.countplot(x='term', data=df, hue='loan_status')\n",
        "\n",
        "plt.subplot(4, 2, 2)\n",
        "sns.countplot(x='home_ownership', data=df, hue='loan_status')\n",
        "\n",
        "plt.subplot(4, 2, 3)\n",
        "sns.countplot(x='verification_status', data=df, hue='loan_status')\n",
        "\n",
        "plt.subplot(4, 2, 4)\n",
        "g = sns.countplot(x='purpose', data=df, hue='loan_status')\n",
        "g.set_xticklabels(g.get_xticklabels(), rotation=90);"
      ],
      "metadata": {
        "colab": {
          "base_uri": "https://localhost:8080/",
          "height": 675
        },
        "id": "z68EdHGt-TqB",
        "outputId": "78996a44-ad5b-4053-c83a-a29915b8cec9"
      },
      "execution_count": 127,
      "outputs": [
        {
          "output_type": "display_data",
          "data": {
            "text/plain": [
              "<Figure size 1080x1440 with 4 Axes>"
            ],
            "image/png": "[encoded data removed]"
          },
          "metadata": {
            "needs_background": "light"
          }
        }
      ]
    },
    {
      "cell_type": "code",
      "source": [
        "df['emp_title'].value_counts()[:20]"
      ],
      "metadata": {
        "colab": {
          "base_uri": "https://localhost:8080/"
        },
        "id": "KV95cNy5-rfh",
        "outputId": "b6c5fbb1-f894-4c14-e213-4df91200384d"
      },
      "execution_count": 128,
      "outputs": [
        {
          "output_type": "execute_result",
          "data": {
            "text/plain": [
              "US Army                    79\n",
              "Bank of America            73\n",
              "US Air Force               41\n",
              "AT&T                       38\n",
              "Wells Fargo                36\n",
              "Walmart                    35\n",
              "UPS                        34\n",
              "United States Air Force    33\n",
              "Kaiser Permanente          32\n",
              "IBM                        32\n",
              "State of California        32\n",
              "Target                     31\n",
              "Verizon Wireless           30\n",
              "Best Buy                   30\n",
              "USAF                       29\n",
              "Self Employed              29\n",
              "USPS                       29\n",
              "U.S. Army                  26\n",
              "Walgreens                  26\n",
              "Self                       25\n",
              "Name: emp_title, dtype: int64"
            ]
          },
          "metadata": {},
          "execution_count": 128
        }
      ]
    },
    {
      "cell_type": "code",
      "source": [
        "df['issue_d'] = pd.to_datetime(df['issue_d'])\n",
        "df['earliest_cr_line'] = pd.to_datetime(df['earliest_cr_line'])"
      ],
      "metadata": {
        "id": "MZ8pwecO_cKj"
      },
      "execution_count": 129,
      "outputs": []
    },
    {
      "cell_type": "code",
      "source": [
        "df['earliest_cr_line'] = df.earliest_cr_line.dt.year"
      ],
      "metadata": {
        "id": "rQhLKoosFeiZ"
      },
      "execution_count": 130,
      "outputs": []
    },
    {
      "cell_type": "code",
      "source": [
        "df.earliest_cr_line.nunique()"
      ],
      "metadata": {
        "colab": {
          "base_uri": "https://localhost:8080/"
        },
        "id": "VU9__4gsFk2h",
        "outputId": "c2cbff62-fb9c-4998-9273-5da1fcc5dd9c"
      },
      "execution_count": 131,
      "outputs": [
        {
          "output_type": "execute_result",
          "data": {
            "text/plain": [
              "49"
            ]
          },
          "metadata": {},
          "execution_count": 131
        }
      ]
    },
    {
      "cell_type": "code",
      "source": [
        "df.earliest_cr_line.value_counts()"
      ],
      "metadata": {
        "colab": {
          "base_uri": "https://localhost:8080/"
        },
        "id": "MfZsRYZ7Fn2Z",
        "outputId": "94d8fd16-2a87-4b53-ae09-ff9b81aa6c41"
      },
      "execution_count": 132,
      "outputs": [
        {
          "output_type": "execute_result",
          "data": {
            "text/plain": [
              "2000    2299\n",
              "1999    2087\n",
              "1998    1909\n",
              "2001    1907\n",
              "1997    1540\n",
              "2002    1499\n",
              "2003    1496\n",
              "2004    1448\n",
              "1996    1366\n",
              "2005    1295\n",
              "1995    1248\n",
              "1994    1119\n",
              "2006    1071\n",
              "1993     812\n",
              "2007     644\n",
              "1992     564\n",
              "1990     525\n",
              "1991     508\n",
              "1989     450\n",
              "1988     373\n",
              "1987     325\n",
              "1986     283\n",
              "1985     220\n",
              "1984     185\n",
              "1983     159\n",
              "2008     134\n",
              "1982     111\n",
              "1980      89\n",
              "1981      83\n",
              "1978      73\n",
              "1979      72\n",
              "1977      49\n",
              "1976      42\n",
              "1975      28\n",
              "1974      28\n",
              "1973      23\n",
              "1970      23\n",
              "1971      18\n",
              "1969      16\n",
              "1972      15\n",
              "1967      10\n",
              "1968       6\n",
              "1963       5\n",
              "1966       4\n",
              "1956       1\n",
              "1946       1\n",
              "1964       1\n",
              "1954       1\n",
              "1965       1\n",
              "Name: earliest_cr_line, dtype: int64"
            ]
          },
          "metadata": {},
          "execution_count": 132
        }
      ]
    },
    {
      "cell_type": "code",
      "source": [
        "def pub_rec(number):\n",
        "    if number == 0.0:\n",
        "        return 0\n",
        "    else:\n",
        "        return 1\n",
        "    \n",
        "def mort_acc(number):\n",
        "    if number == 0.0:\n",
        "        return 0\n",
        "    elif number >= 1.0:\n",
        "        return 1\n",
        "    else:\n",
        "        return number\n",
        "    \n",
        "def pub_rec_bankruptcies(number):\n",
        "    if number == 0.0:\n",
        "        return 0\n",
        "    elif number >= 1.0:\n",
        "        return 1\n",
        "    else:\n",
        "        return number"
      ],
      "metadata": {
        "id": "IBAmm60lDoay"
      },
      "execution_count": 133,
      "outputs": []
    },
    {
      "cell_type": "code",
      "source": [
        "df['pub_rec'] = df.pub_rec.apply(pub_rec)\n",
        "df['pub_rec_bankruptcies'] = df.pub_rec_bankruptcies.apply(pub_rec_bankruptcies)"
      ],
      "metadata": {
        "id": "aTd03tljDqra"
      },
      "execution_count": 134,
      "outputs": []
    },
    {
      "cell_type": "code",
      "source": [
        "plt.figure(figsize=(12, 30))\n",
        "\n",
        "plt.subplot(6, 2, 1)\n",
        "sns.countplot(x='pub_rec', data=df, hue='loan_status')\n",
        "\n",
        "plt.subplot(6, 2, 2)\n",
        "sns.countplot(x='initial_list_status', data=df, hue='loan_status')\n",
        "\n",
        "plt.subplot(6, 2, 3)\n",
        "sns.countplot(x='application_type', data=df, hue='loan_status')\n",
        "\n",
        "plt.subplot(6, 2, 4)\n",
        "sns.countplot(x='pub_rec_bankruptcies', data=df, hue='loan_status')"
      ],
      "metadata": {
        "colab": {
          "base_uri": "https://localhost:8080/",
          "height": 592
        },
        "id": "XtcoSIA4Dql6",
        "outputId": "a0fc39be-cf28-447e-b9a3-c6f10fdaab3f"
      },
      "execution_count": 135,
      "outputs": [
        {
          "output_type": "execute_result",
          "data": {
            "text/plain": [
              "<AxesSubplot:xlabel='pub_rec_bankruptcies', ylabel='count'>"
            ]
          },
          "metadata": {},
          "execution_count": 135
        },
        {
          "output_type": "display_data",
          "data": {
            "text/plain": [
              "<Figure size 864x2160 with 4 Axes>"
            ],
            "image/png": "[encoded data removed]"
          },
          "metadata": {
            "needs_background": "light"
          }
        }
      ]
    },
    {
      "cell_type": "code",
      "source": [
        "sns.catplot(x=\"loan_status\", y=\"dti\",kind=\"strip\",data=df)\n"
      ],
      "metadata": {
        "colab": {
          "base_uri": "https://localhost:8080/",
          "height": 386
        },
        "id": "rQFDBD9tfNX1",
        "outputId": "40cc4f42-5d9f-449a-c561-80369c71ccc6"
      },
      "execution_count": 136,
      "outputs": [
        {
          "output_type": "execute_result",
          "data": {
            "text/plain": [
              "<seaborn.axisgrid.FacetGrid at 0x7f85b0bfb460>"
            ]
          },
          "metadata": {},
          "execution_count": 136
        },
        {
          "output_type": "display_data",
          "data": {
            "text/plain": [
              "<Figure size 360x360 with 1 Axes>"
            ],
            "image/png": "[encoded data removed]"
          },
          "metadata": {
            "needs_background": "light"
          }
        }
      ]
    },
    {
      "cell_type": "code",
      "source": [
        "\n",
        "df[\"verification_status\"].value_counts()"
      ],
      "metadata": {
        "colab": {
          "base_uri": "https://localhost:8080/"
        },
        "id": "0FBGuOww_Kk9",
        "outputId": "1cf14f44-8b53-462b-fe54-9badb17a50fe"
      },
      "execution_count": 137,
      "outputs": [
        {
          "output_type": "execute_result",
          "data": {
            "text/plain": [
              "Not Verified       13160\n",
              "Source Verified     7153\n",
              "Verified            5853\n",
              "Name: verification_status, dtype: int64"
            ]
          },
          "metadata": {},
          "execution_count": 137
        }
      ]
    },
    {
      "cell_type": "code",
      "source": [
        "df[\"int_rate\"].value_counts()"
      ],
      "metadata": {
        "colab": {
          "base_uri": "https://localhost:8080/"
        },
        "id": "OrSKrQdHUW12",
        "outputId": "d95ccfd9-6737-419d-a9df-f626b79322c6"
      },
      "execution_count": 138,
      "outputs": [
        {
          "output_type": "execute_result",
          "data": {
            "text/plain": [
              "10.99%    637\n",
              "7.51%     598\n",
              "7.88%     537\n",
              "11.49%    537\n",
              "13.49%    474\n",
              "         ... \n",
              "9.51%       1\n",
              "12.36%      1\n",
              "13.30%      1\n",
              "9.83%       1\n",
              "17.41%      1\n",
              "Name: int_rate, Length: 343, dtype: int64"
            ]
          },
          "metadata": {},
          "execution_count": 138
        }
      ]
    },
    {
      "cell_type": "code",
      "source": [
        "df[\"home_ownership\"].value_counts()"
      ],
      "metadata": {
        "colab": {
          "base_uri": "https://localhost:8080/"
        },
        "id": "1iZh-6A2UW0O",
        "outputId": "f965d461-7849-419f-8ba0-09a493e011d4"
      },
      "execution_count": 139,
      "outputs": [
        {
          "output_type": "execute_result",
          "data": {
            "text/plain": [
              "RENT        14217\n",
              "MORTGAGE     9876\n",
              "OWN          1969\n",
              "OTHER         104\n",
              "Name: home_ownership, dtype: int64"
            ]
          },
          "metadata": {},
          "execution_count": 139
        }
      ]
    },
    {
      "cell_type": "code",
      "source": [
        "df[\"purpose\"].value_counts()"
      ],
      "metadata": {
        "colab": {
          "base_uri": "https://localhost:8080/"
        },
        "id": "NYkyIMbGUWyb",
        "outputId": "cc3a48eb-984e-4e02-9e7c-c961d18f5f2a"
      },
      "execution_count": 140,
      "outputs": [
        {
          "output_type": "execute_result",
          "data": {
            "text/plain": [
              "debt_consolidation    11720\n",
              "credit_card            3269\n",
              "other                  3038\n",
              "home_improvement       1780\n",
              "major_purchase         1671\n",
              "car                    1228\n",
              "small_business          894\n",
              "wedding                 708\n",
              "medical                 514\n",
              "moving                  468\n",
              "vacation                303\n",
              "educational             280\n",
              "house                   233\n",
              "renewable_energy         60\n",
              "Name: purpose, dtype: int64"
            ]
          },
          "metadata": {},
          "execution_count": 140
        }
      ]
    },
    {
      "cell_type": "code",
      "source": [
        "df[\"total_acc\"].value_counts()"
      ],
      "metadata": {
        "colab": {
          "base_uri": "https://localhost:8080/"
        },
        "id": "vXMbEhmjUWwo",
        "outputId": "17fd2441-42bc-4d79-86bc-dd395519af17"
      },
      "execution_count": 141,
      "outputs": [
        {
          "output_type": "execute_result",
          "data": {
            "text/plain": [
              "15.0    1094\n",
              "13.0    1093\n",
              "14.0    1084\n",
              "17.0    1052\n",
              "12.0    1039\n",
              "16.0    1025\n",
              "11.0    1007\n",
              "20.0     983\n",
              "18.0     981\n",
              "10.0     955\n",
              "21.0     924\n",
              "19.0     911\n",
              "9.0      871\n",
              "22.0     846\n",
              "23.0     818\n",
              "8.0      813\n",
              "24.0     784\n",
              "25.0     748\n",
              "7.0      706\n",
              "27.0     657\n",
              "26.0     636\n",
              "6.0      584\n",
              "28.0     581\n",
              "29.0     552\n",
              "5.0      486\n",
              "30.0     473\n",
              "31.0     445\n",
              "32.0     433\n",
              "4.0      360\n",
              "33.0     350\n",
              "34.0     337\n",
              "35.0     313\n",
              "36.0     264\n",
              "37.0     255\n",
              "38.0     232\n",
              "39.0     203\n",
              "40.0     170\n",
              "3.0      154\n",
              "42.0     143\n",
              "41.0     143\n",
              "43.0     127\n",
              "44.0     114\n",
              "46.0     100\n",
              "45.0      93\n",
              "47.0      91\n",
              "48.0      64\n",
              "49.0      63\n",
              "2.0        7\n",
              "1.0        2\n",
              "Name: total_acc, dtype: int64"
            ]
          },
          "metadata": {},
          "execution_count": 141
        }
      ]
    },
    {
      "cell_type": "code",
      "source": [
        "# importing one hot encoder from sklearn \n",
        "from sklearn.preprocessing import LabelEncoder"
      ],
      "metadata": {
        "id": "bcgXQ0XIW1RW"
      },
      "execution_count": 142,
      "outputs": []
    },
    {
      "cell_type": "code",
      "source": [
        "df['loan_status']"
      ],
      "metadata": {
        "colab": {
          "base_uri": "https://localhost:8080/"
        },
        "id": "EUjsrHx3XA9x",
        "outputId": "ca6c6144-0d2c-4850-de94-decbfa523cf9"
      },
      "execution_count": 143,
      "outputs": [
        {
          "output_type": "execute_result",
          "data": {
            "text/plain": [
              "1        Charged Off\n",
              "3         Fully Paid\n",
              "4         Fully Paid\n",
              "5         Fully Paid\n",
              "6         Fully Paid\n",
              "            ...     \n",
              "42258    Charged Off\n",
              "42270     Fully Paid\n",
              "42315    Charged Off\n",
              "42371    Charged Off\n",
              "42373    Charged Off\n",
              "Name: loan_status, Length: 26166, dtype: object"
            ]
          },
          "metadata": {},
          "execution_count": 143
        }
      ]
    },
    {
      "cell_type": "code",
      "source": [
        "#Applying Label Encoding to Loan Status\n",
        "le = LabelEncoder()\n",
        "df['loan_status'] = le.fit_transform(df.loan_status)\n",
        "print(le.classes_)"
      ],
      "metadata": {
        "colab": {
          "base_uri": "https://localhost:8080/"
        },
        "id": "JY-STW4zUWkI",
        "outputId": "9812c455-b099-4f9a-afd2-80a33c1f83a2"
      },
      "execution_count": 144,
      "outputs": [
        {
          "output_type": "stream",
          "name": "stdout",
          "text": [
            "['Charged Off' 'Fully Paid']\n"
          ]
        }
      ]
    },
    {
      "cell_type": "code",
      "source": [
        "temp = df[\"loan_status\"].value_counts()\n",
        "df1 = pd.DataFrame({'default.payment': temp.index,'values': temp.values})\n",
        "plt.figure(figsize = (6,6))\n",
        "plt.title('Default Clients - target value - data unbalance\\n (Default = 0, Not Default = 1)')\n",
        "sns.set_color_codes(\"pastel\")\n",
        "sns.barplot(x = 'default.payment', y=\"values\", data=df1)\n",
        "locs, labels = plt.xticks()\n",
        "plt.show()"
      ],
      "metadata": {
        "colab": {
          "base_uri": "https://localhost:8080/",
          "height": 419
        },
        "id": "4SmuX2vXUWhs",
        "outputId": "1796923b-4f0c-4e1c-832b-d8e26d80823f"
      },
      "execution_count": 145,
      "outputs": [
        {
          "output_type": "display_data",
          "data": {
            "text/plain": [
              "<Figure size 432x432 with 1 Axes>"
            ],
            "image/png": "[encoded data removed]"
          },
          "metadata": {
            "needs_background": "light"
          }
        }
      ]
    },
    {
      "cell_type": "code",
      "source": [
        "df.head()"
      ],
      "metadata": {
        "colab": {
          "base_uri": "https://localhost:8080/",
          "height": 386
        },
        "id": "6-vfqJ6sZLZ6",
        "outputId": "e3c4ffd2-5b15-43ef-b439-fdeb86b25244"
      },
      "execution_count": 146,
      "outputs": [
        {
          "output_type": "execute_result",
          "data": {
            "text/plain": [
              "        id  member_id  loan_amnt  funded_amnt  funded_amnt_inv        term  \\\n",
              "1  1077430  1314167.0     2500.0       2500.0           2500.0   60 months   \n",
              "3  1076863  1277178.0    10000.0      10000.0          10000.0   36 months   \n",
              "4  1075358  1311748.0     3000.0       3000.0           3000.0   60 months   \n",
              "5  1075269  1311441.0     5000.0       5000.0           5000.0   36 months   \n",
              "6  1069639  1304742.0     7000.0       7000.0           7000.0   60 months   \n",
              "\n",
              "  int_rate  installment grade sub_grade  ... last_fico_range_high  \\\n",
              "1   15.27%        59.83     C        C4  ...                499.0   \n",
              "3   13.49%       339.31     C        C1  ...                604.0   \n",
              "4   12.69%        67.79     B        B5  ...                694.0   \n",
              "5    7.90%       156.46     A        A4  ...                679.0   \n",
              "6   15.96%       170.08     C        C5  ...                654.0   \n",
              "\n",
              "   last_fico_range_low collections_12_mths_ex_med  policy_code  \\\n",
              "1                  0.0                        0.0          1.0   \n",
              "3                600.0                        0.0          1.0   \n",
              "4                690.0                        0.0          1.0   \n",
              "5                675.0                        0.0          1.0   \n",
              "6                650.0                        0.0          1.0   \n",
              "\n",
              "  application_type acc_now_delinq  chargeoff_within_12_mths delinq_amnt  \\\n",
              "1       INDIVIDUAL            0.0                       0.0         0.0   \n",
              "3       INDIVIDUAL            0.0                       0.0         0.0   \n",
              "4       INDIVIDUAL            0.0                       0.0         0.0   \n",
              "5       INDIVIDUAL            0.0                       0.0         0.0   \n",
              "6       INDIVIDUAL            0.0                       0.0         0.0   \n",
              "\n",
              "  pub_rec_bankruptcies tax_liens  \n",
              "1                    0       0.0  \n",
              "3                    0       0.0  \n",
              "4                    0       0.0  \n",
              "5                    0       0.0  \n",
              "6                    0       0.0  \n",
              "\n",
              "[5 rows x 57 columns]"
            ],
            "text/html": [
              "\n",
              "  <div id=\"df-1fc175bc-2c9e-4453-aa9b-c009c3f3f18d\">\n",
              "    <div class=\"colab-df-container\">\n",
              "      <div>\n",
              "<style scoped>\n",
              "    .dataframe tbody tr th:only-of-type {\n",
              "        vertical-align: middle;\n",
              "    }\n",
              "\n",
              "    .dataframe tbody tr th {\n",
              "        vertical-align: top;\n",
              "    }\n",
              "\n",
              "    .dataframe thead th {\n",
              "        text-align: right;\n",
              "    }\n",
              "</style>\n",
              "<table border=\"1\" class=\"dataframe\">\n",
              "  <thead>\n",
              "    <tr style=\"text-align: right;\">\n",
              "      <th></th>\n",
              "      <th>id</th>\n",
              "      <th>member_id</th>\n",
              "      <th>loan_amnt</th>\n",
              "      <th>funded_amnt</th>\n",
              "      <th>funded_amnt_inv</th>\n",
              "      <th>term</th>\n",
              "      <th>int_rate</th>\n",
              "      <th>installment</th>\n",
              "      <th>grade</th>\n",
              "      <th>sub_grade</th>\n",
              "      <th>...</th>\n",
              "      <th>last_fico_range_high</th>\n",
              "      <th>last_fico_range_low</th>\n",
              "      <th>collections_12_mths_ex_med</th>\n",
              "      <th>policy_code</th>\n",
              "      <th>application_type</th>\n",
              "      <th>acc_now_delinq</th>\n",
              "      <th>chargeoff_within_12_mths</th>\n",
              "      <th>delinq_amnt</th>\n",
              "      <th>pub_rec_bankruptcies</th>\n",
              "      <th>tax_liens</th>\n",
              "    </tr>\n",
              "  </thead>\n",
              "  <tbody>\n",
              "    <tr>\n",
              "      <th>1</th>\n",
              "      <td>1077430</td>\n",
              "      <td>1314167.0</td>\n",
              "      <td>2500.0</td>\n",
              "      <td>2500.0</td>\n",
              "      <td>2500.0</td>\n",
              "      <td>60 months</td>\n",
              "      <td>15.27%</td>\n",
              "      <td>59.83</td>\n",
              "      <td>C</td>\n",
              "      <td>C4</td>\n",
              "      <td>...</td>\n",
              "      <td>499.0</td>\n",
              "      <td>0.0</td>\n",
              "      <td>0.0</td>\n",
              "      <td>1.0</td>\n",
              "      <td>INDIVIDUAL</td>\n",
              "      <td>0.0</td>\n",
              "      <td>0.0</td>\n",
              "      <td>0.0</td>\n",
              "      <td>0</td>\n",
              "      <td>0.0</td>\n",
              "    </tr>\n",
              "    <tr>\n",
              "      <th>3</th>\n",
              "      <td>1076863</td>\n",
              "      <td>1277178.0</td>\n",
              "      <td>10000.0</td>\n",
              "      <td>10000.0</td>\n",
              "      <td>10000.0</td>\n",
              "      <td>36 months</td>\n",
              "      <td>13.49%</td>\n",
              "      <td>339.31</td>\n",
              "      <td>C</td>\n",
              "      <td>C1</td>\n",
              "      <td>...</td>\n",
              "      <td>604.0</td>\n",
              "      <td>600.0</td>\n",
              "      <td>0.0</td>\n",
              "      <td>1.0</td>\n",
              "      <td>INDIVIDUAL</td>\n",
              "      <td>0.0</td>\n",
              "      <td>0.0</td>\n",
              "      <td>0.0</td>\n",
              "      <td>0</td>\n",
              "      <td>0.0</td>\n",
              "    </tr>\n",
              "    <tr>\n",
              "      <th>4</th>\n",
              "      <td>1075358</td>\n",
              "      <td>1311748.0</td>\n",
              "      <td>3000.0</td>\n",
              "      <td>3000.0</td>\n",
              "      <td>3000.0</td>\n",
              "      <td>60 months</td>\n",
              "      <td>12.69%</td>\n",
              "      <td>67.79</td>\n",
              "      <td>B</td>\n",
              "      <td>B5</td>\n",
              "      <td>...</td>\n",
              "      <td>694.0</td>\n",
              "      <td>690.0</td>\n",
              "      <td>0.0</td>\n",
              "      <td>1.0</td>\n",
              "      <td>INDIVIDUAL</td>\n",
              "      <td>0.0</td>\n",
              "      <td>0.0</td>\n",
              "      <td>0.0</td>\n",
              "      <td>0</td>\n",
              "      <td>0.0</td>\n",
              "    </tr>\n",
              "    <tr>\n",
              "      <th>5</th>\n",
              "      <td>1075269</td>\n",
              "      <td>1311441.0</td>\n",
              "      <td>5000.0</td>\n",
              "      <td>5000.0</td>\n",
              "      <td>5000.0</td>\n",
              "      <td>36 months</td>\n",
              "      <td>7.90%</td>\n",
              "      <td>156.46</td>\n",
              "      <td>A</td>\n",
              "      <td>A4</td>\n",
              "      <td>...</td>\n",
              "      <td>679.0</td>\n",
              "      <td>675.0</td>\n",
              "      <td>0.0</td>\n",
              "      <td>1.0</td>\n",
              "      <td>INDIVIDUAL</td>\n",
              "      <td>0.0</td>\n",
              "      <td>0.0</td>\n",
              "      <td>0.0</td>\n",
              "      <td>0</td>\n",
              "      <td>0.0</td>\n",
              "    </tr>\n",
              "    <tr>\n",
              "      <th>6</th>\n",
              "      <td>1069639</td>\n",
              "      <td>1304742.0</td>\n",
              "      <td>7000.0</td>\n",
              "      <td>7000.0</td>\n",
              "      <td>7000.0</td>\n",
              "      <td>60 months</td>\n",
              "      <td>15.96%</td>\n",
              "      <td>170.08</td>\n",
              "      <td>C</td>\n",
              "      <td>C5</td>\n",
              "      <td>...</td>\n",
              "      <td>654.0</td>\n",
              "      <td>650.0</td>\n",
              "      <td>0.0</td>\n",
              "      <td>1.0</td>\n",
              "      <td>INDIVIDUAL</td>\n",
              "      <td>0.0</td>\n",
              "      <td>0.0</td>\n",
              "      <td>0.0</td>\n",
              "      <td>0</td>\n",
              "      <td>0.0</td>\n",
              "    </tr>\n",
              "  </tbody>\n",
              "</table>\n",
              "<p>5 rows × 57 columns</p>\n",
              "</div>\n",
              "      <button class=\"colab-df-convert\" onclick=\"convertToInteractive('df-1fc175bc-2c9e-4453-aa9b-c009c3f3f18d')\"\n",
              "              title=\"Convert this dataframe to an interactive table.\"\n",
              "              style=\"display:none;\">\n",
              "        \n",
              "  <svg xmlns=\"http://www.w3.org/2000/svg\" height=\"24px\"viewBox=\"0 0 24 24\"\n",
              "       width=\"24px\">\n",
              "    <path d=\"M0 0h24v24H0V0z\" fill=\"none\"/>\n",
              "    <path d=\"M18.56 5.44l.94 2.06.94-2.06 2.06-.94-2.06-.94-.94-2.06-.94 2.06-2.06.94zm-11 1L8.5 8.5l.94-2.06 2.06-.94-2.06-.94L8.5 2.5l-.94 2.06-2.06.94zm10 10l.94 2.06.94-2.06 2.06-.94-2.06-.94-.94-2.06-.94 2.06-2.06.94z\"/><path d=\"M17.41 7.96l-1.37-1.37c-.4-.4-.92-.59-1.43-.59-.52 0-1.04.2-1.43.59L10.3 9.45l-7.72 7.72c-.78.78-.78 2.05 0 2.83L4 21.41c.39.39.9.59 1.41.59.51 0 1.02-.2 1.41-.59l7.78-7.78 2.81-2.81c.8-.78.8-2.07 0-2.86zM5.41 20L4 18.59l7.72-7.72 1.47 1.35L5.41 20z\"/>\n",
              "  </svg>\n",
              "      </button>\n",
              "      \n",
              "  <style>\n",
              "    .colab-df-container {\n",
              "      display:flex;\n",
              "      flex-wrap:wrap;\n",
              "      gap: 12px;\n",
              "    }\n",
              "\n",
              "    .colab-df-convert {\n",
              "      background-color: #E8F0FE;\n",
              "      border: none;\n",
              "      border-radius: 50%;\n",
              "      cursor: pointer;\n",
              "      display: none;\n",
              "      fill: #1967D2;\n",
              "      height: 32px;\n",
              "      padding: 0 0 0 0;\n",
              "      width: 32px;\n",
              "    }\n",
              "\n",
              "    .colab-df-convert:hover {\n",
              "      background-color: #E2EBFA;\n",
              "      box-shadow: 0px 1px 2px rgba(60, 64, 67, 0.3), 0px 1px 3px 1px rgba(60, 64, 67, 0.15);\n",
              "      fill: #174EA6;\n",
              "    }\n",
              "\n",
              "    [theme=dark] .colab-df-convert {\n",
              "      background-color: #3B4455;\n",
              "      fill: #D2E3FC;\n",
              "    }\n",
              "\n",
              "    [theme=dark] .colab-df-convert:hover {\n",
              "      background-color: #434B5C;\n",
              "      box-shadow: 0px 1px 3px 1px rgba(0, 0, 0, 0.15);\n",
              "      filter: drop-shadow(0px 1px 2px rgba(0, 0, 0, 0.3));\n",
              "      fill: #FFFFFF;\n",
              "    }\n",
              "  </style>\n",
              "\n",
              "      <script>\n",
              "        const buttonEl =\n",
              "          document.querySelector('#df-1fc175bc-2c9e-4453-aa9b-c009c3f3f18d button.colab-df-convert');\n",
              "        buttonEl.style.display =\n",
              "          google.colab.kernel.accessAllowed ? 'block' : 'none';\n",
              "\n",
              "        async function convertToInteractive(key) {\n",
              "          const element = document.querySelector('#df-1fc175bc-2c9e-4453-aa9b-c009c3f3f18d');\n",
              "          const dataTable =\n",
              "            await google.colab.kernel.invokeFunction('convertToInteractive',\n",
              "                                                     [key], {});\n",
              "          if (!dataTable) return;\n",
              "\n",
              "          const docLinkHtml = 'Like what you see? Visit the ' +\n",
              "            '<a target=\"_blank\" href=https://colab.research.google.com/notebooks/data_table.ipynb>data table notebook</a>'\n",
              "            + ' to learn more about interactive tables.';\n",
              "          element.innerHTML = '';\n",
              "          dataTable['output_type'] = 'display_data';\n",
              "          await google.colab.output.renderOutput(dataTable, element);\n",
              "          const docLink = document.createElement('div');\n",
              "          docLink.innerHTML = docLinkHtml;\n",
              "          element.appendChild(docLink);\n",
              "        }\n",
              "      </script>\n",
              "    </div>\n",
              "  </div>\n",
              "  "
            ]
          },
          "metadata": {},
          "execution_count": 146
        }
      ]
    },
    {
      "cell_type": "code",
      "source": [
        "# move the 'loan_status' column to the last position\n",
        "lon_col = df.pop('loan_status')\n",
        "df.insert(len(df.columns), 'loan_status', lon_col)"
      ],
      "metadata": {
        "id": "JThrN6TMZnLl"
      },
      "execution_count": 147,
      "outputs": []
    },
    {
      "cell_type": "code",
      "source": [
        "df.info()"
      ],
      "metadata": {
        "colab": {
          "base_uri": "https://localhost:8080/"
        },
        "id": "W5fJ-Mz1bi1m",
        "outputId": "a3b3fa49-33c7-45bd-b094-88e6dcbed560"
      },
      "execution_count": 148,
      "outputs": [
        {
          "output_type": "stream",
          "name": "stdout",
          "text": [
            "<class 'pandas.core.frame.DataFrame'>\n",
            "Int64Index: 26166 entries, 1 to 42373\n",
            "Data columns (total 57 columns):\n",
            " #   Column                      Non-Null Count  Dtype         \n",
            "---  ------                      --------------  -----         \n",
            " 0   id                          26166 non-null  object        \n",
            " 1   member_id                   26166 non-null  float64       \n",
            " 2   loan_amnt                   26166 non-null  float64       \n",
            " 3   funded_amnt                 26166 non-null  float64       \n",
            " 4   funded_amnt_inv             26166 non-null  float64       \n",
            " 5   term                        26166 non-null  object        \n",
            " 6   int_rate                    26166 non-null  object        \n",
            " 7   installment                 26166 non-null  float64       \n",
            " 8   grade                       26166 non-null  object        \n",
            " 9   sub_grade                   26166 non-null  object        \n",
            " 10  emp_title                   26166 non-null  object        \n",
            " 11  emp_length                  26166 non-null  int64         \n",
            " 12  home_ownership              26166 non-null  object        \n",
            " 13  annual_inc                  26166 non-null  float64       \n",
            " 14  verification_status         26166 non-null  object        \n",
            " 15  issue_d                     26166 non-null  datetime64[ns]\n",
            " 16  pymnt_plan                  26166 non-null  object        \n",
            " 17  url                         26166 non-null  object        \n",
            " 18  purpose                     26166 non-null  object        \n",
            " 19  title                       26166 non-null  object        \n",
            " 20  zip_code                    26166 non-null  object        \n",
            " 21  addr_state                  26166 non-null  object        \n",
            " 22  dti                         26166 non-null  float64       \n",
            " 23  delinq_2yrs                 26166 non-null  float64       \n",
            " 24  earliest_cr_line            26166 non-null  int64         \n",
            " 25  fico_range_low              26166 non-null  int64         \n",
            " 26  fico_range_high             26166 non-null  int64         \n",
            " 27  inq_last_6mths              26166 non-null  float64       \n",
            " 28  open_acc                    26166 non-null  float64       \n",
            " 29  pub_rec                     26166 non-null  int64         \n",
            " 30  revol_bal                   26166 non-null  float64       \n",
            " 31  revol_util                  26166 non-null  object        \n",
            " 32  total_acc                   26166 non-null  float64       \n",
            " 33  initial_list_status         26166 non-null  object        \n",
            " 34  out_prncp                   26166 non-null  float64       \n",
            " 35  out_prncp_inv               26166 non-null  float64       \n",
            " 36  total_pymnt                 26166 non-null  float64       \n",
            " 37  total_pymnt_inv             26166 non-null  float64       \n",
            " 38  total_rec_prncp             26166 non-null  float64       \n",
            " 39  total_rec_int               26166 non-null  float64       \n",
            " 40  total_rec_late_fee          26166 non-null  float64       \n",
            " 41  recoveries                  26166 non-null  float64       \n",
            " 42  collection_recovery_fee     26166 non-null  float64       \n",
            " 43  last_pymnt_d                26166 non-null  object        \n",
            " 44  last_pymnt_amnt             26166 non-null  float64       \n",
            " 45  last_credit_pull_d          26166 non-null  object        \n",
            " 46  last_fico_range_high        26166 non-null  float64       \n",
            " 47  last_fico_range_low         26166 non-null  float64       \n",
            " 48  collections_12_mths_ex_med  26166 non-null  float64       \n",
            " 49  policy_code                 26166 non-null  float64       \n",
            " 50  application_type            26166 non-null  object        \n",
            " 51  acc_now_delinq              26166 non-null  float64       \n",
            " 52  chargeoff_within_12_mths    26166 non-null  float64       \n",
            " 53  delinq_amnt                 26166 non-null  float64       \n",
            " 54  pub_rec_bankruptcies        26166 non-null  int64         \n",
            " 55  tax_liens                   26166 non-null  float64       \n",
            " 56  loan_status                 26166 non-null  int64         \n",
            "dtypes: datetime64[ns](1), float64(30), int64(7), object(19)\n",
            "memory usage: 12.6+ MB\n"
          ]
        }
      ]
    },
    {
      "cell_type": "code",
      "source": [
        "df.head()"
      ],
      "metadata": {
        "colab": {
          "base_uri": "https://localhost:8080/",
          "height": 386
        },
        "id": "Q_BdcnPqZ0vi",
        "outputId": "788a7afa-fe91-4d1f-e482-12fdfa754f92"
      },
      "execution_count": 149,
      "outputs": [
        {
          "output_type": "execute_result",
          "data": {
            "text/plain": [
              "        id  member_id  loan_amnt  funded_amnt  funded_amnt_inv        term  \\\n",
              "1  1077430  1314167.0     2500.0       2500.0           2500.0   60 months   \n",
              "3  1076863  1277178.0    10000.0      10000.0          10000.0   36 months   \n",
              "4  1075358  1311748.0     3000.0       3000.0           3000.0   60 months   \n",
              "5  1075269  1311441.0     5000.0       5000.0           5000.0   36 months   \n",
              "6  1069639  1304742.0     7000.0       7000.0           7000.0   60 months   \n",
              "\n",
              "  int_rate  installment grade sub_grade  ... last_fico_range_low  \\\n",
              "1   15.27%        59.83     C        C4  ...                 0.0   \n",
              "3   13.49%       339.31     C        C1  ...               600.0   \n",
              "4   12.69%        67.79     B        B5  ...               690.0   \n",
              "5    7.90%       156.46     A        A4  ...               675.0   \n",
              "6   15.96%       170.08     C        C5  ...               650.0   \n",
              "\n",
              "   collections_12_mths_ex_med policy_code  application_type acc_now_delinq  \\\n",
              "1                         0.0         1.0        INDIVIDUAL            0.0   \n",
              "3                         0.0         1.0        INDIVIDUAL            0.0   \n",
              "4                         0.0         1.0        INDIVIDUAL            0.0   \n",
              "5                         0.0         1.0        INDIVIDUAL            0.0   \n",
              "6                         0.0         1.0        INDIVIDUAL            0.0   \n",
              "\n",
              "  chargeoff_within_12_mths delinq_amnt pub_rec_bankruptcies tax_liens  \\\n",
              "1                      0.0         0.0                    0       0.0   \n",
              "3                      0.0         0.0                    0       0.0   \n",
              "4                      0.0         0.0                    0       0.0   \n",
              "5                      0.0         0.0                    0       0.0   \n",
              "6                      0.0         0.0                    0       0.0   \n",
              "\n",
              "  loan_status  \n",
              "1           0  \n",
              "3           1  \n",
              "4           1  \n",
              "5           1  \n",
              "6           1  \n",
              "\n",
              "[5 rows x 57 columns]"
            ],
            "text/html": [
              "\n",
              "  <div id=\"df-b20b3a98-2ca9-409b-a2de-da54dc5a94b7\">\n",
              "    <div class=\"colab-df-container\">\n",
              "      <div>\n",
              "<style scoped>\n",
              "    .dataframe tbody tr th:only-of-type {\n",
              "        vertical-align: middle;\n",
              "    }\n",
              "\n",
              "    .dataframe tbody tr th {\n",
              "        vertical-align: top;\n",
              "    }\n",
              "\n",
              "    .dataframe thead th {\n",
              "        text-align: right;\n",
              "    }\n",
              "</style>\n",
              "<table border=\"1\" class=\"dataframe\">\n",
              "  <thead>\n",
              "    <tr style=\"text-align: right;\">\n",
              "      <th></th>\n",
              "      <th>id</th>\n",
              "      <th>member_id</th>\n",
              "      <th>loan_amnt</th>\n",
              "      <th>funded_amnt</th>\n",
              "      <th>funded_amnt_inv</th>\n",
              "      <th>term</th>\n",
              "      <th>int_rate</th>\n",
              "      <th>installment</th>\n",
              "      <th>grade</th>\n",
              "      <th>sub_grade</th>\n",
              "      <th>...</th>\n",
              "      <th>last_fico_range_low</th>\n",
              "      <th>collections_12_mths_ex_med</th>\n",
              "      <th>policy_code</th>\n",
              "      <th>application_type</th>\n",
              "      <th>acc_now_delinq</th>\n",
              "      <th>chargeoff_within_12_mths</th>\n",
              "      <th>delinq_amnt</th>\n",
              "      <th>pub_rec_bankruptcies</th>\n",
              "      <th>tax_liens</th>\n",
              "      <th>loan_status</th>\n",
              "    </tr>\n",
              "  </thead>\n",
              "  <tbody>\n",
              "    <tr>\n",
              "      <th>1</th>\n",
              "      <td>1077430</td>\n",
              "      <td>1314167.0</td>\n",
              "      <td>2500.0</td>\n",
              "      <td>2500.0</td>\n",
              "      <td>2500.0</td>\n",
              "      <td>60 months</td>\n",
              "      <td>15.27%</td>\n",
              "      <td>59.83</td>\n",
              "      <td>C</td>\n",
              "      <td>C4</td>\n",
              "      <td>...</td>\n",
              "      <td>0.0</td>\n",
              "      <td>0.0</td>\n",
              "      <td>1.0</td>\n",
              "      <td>INDIVIDUAL</td>\n",
              "      <td>0.0</td>\n",
              "      <td>0.0</td>\n",
              "      <td>0.0</td>\n",
              "      <td>0</td>\n",
              "      <td>0.0</td>\n",
              "      <td>0</td>\n",
              "    </tr>\n",
              "    <tr>\n",
              "      <th>3</th>\n",
              "      <td>1076863</td>\n",
              "      <td>1277178.0</td>\n",
              "      <td>10000.0</td>\n",
              "      <td>10000.0</td>\n",
              "      <td>10000.0</td>\n",
              "      <td>36 months</td>\n",
              "      <td>13.49%</td>\n",
              "      <td>339.31</td>\n",
              "      <td>C</td>\n",
              "      <td>C1</td>\n",
              "      <td>...</td>\n",
              "      <td>600.0</td>\n",
              "      <td>0.0</td>\n",
              "      <td>1.0</td>\n",
              "      <td>INDIVIDUAL</td>\n",
              "      <td>0.0</td>\n",
              "      <td>0.0</td>\n",
              "      <td>0.0</td>\n",
              "      <td>0</td>\n",
              "      <td>0.0</td>\n",
              "      <td>1</td>\n",
              "    </tr>\n",
              "    <tr>\n",
              "      <th>4</th>\n",
              "      <td>1075358</td>\n",
              "      <td>1311748.0</td>\n",
              "      <td>3000.0</td>\n",
              "      <td>3000.0</td>\n",
              "      <td>3000.0</td>\n",
              "      <td>60 months</td>\n",
              "      <td>12.69%</td>\n",
              "      <td>67.79</td>\n",
              "      <td>B</td>\n",
              "      <td>B5</td>\n",
              "      <td>...</td>\n",
              "      <td>690.0</td>\n",
              "      <td>0.0</td>\n",
              "      <td>1.0</td>\n",
              "      <td>INDIVIDUAL</td>\n",
              "      <td>0.0</td>\n",
              "      <td>0.0</td>\n",
              "      <td>0.0</td>\n",
              "      <td>0</td>\n",
              "      <td>0.0</td>\n",
              "      <td>1</td>\n",
              "    </tr>\n",
              "    <tr>\n",
              "      <th>5</th>\n",
              "      <td>1075269</td>\n",
              "      <td>1311441.0</td>\n",
              "      <td>5000.0</td>\n",
              "      <td>5000.0</td>\n",
              "      <td>5000.0</td>\n",
              "      <td>36 months</td>\n",
              "      <td>7.90%</td>\n",
              "      <td>156.46</td>\n",
              "      <td>A</td>\n",
              "      <td>A4</td>\n",
              "      <td>...</td>\n",
              "      <td>675.0</td>\n",
              "      <td>0.0</td>\n",
              "      <td>1.0</td>\n",
              "      <td>INDIVIDUAL</td>\n",
              "      <td>0.0</td>\n",
              "      <td>0.0</td>\n",
              "      <td>0.0</td>\n",
              "      <td>0</td>\n",
              "      <td>0.0</td>\n",
              "      <td>1</td>\n",
              "    </tr>\n",
              "    <tr>\n",
              "      <th>6</th>\n",
              "      <td>1069639</td>\n",
              "      <td>1304742.0</td>\n",
              "      <td>7000.0</td>\n",
              "      <td>7000.0</td>\n",
              "      <td>7000.0</td>\n",
              "      <td>60 months</td>\n",
              "      <td>15.96%</td>\n",
              "      <td>170.08</td>\n",
              "      <td>C</td>\n",
              "      <td>C5</td>\n",
              "      <td>...</td>\n",
              "      <td>650.0</td>\n",
              "      <td>0.0</td>\n",
              "      <td>1.0</td>\n",
              "      <td>INDIVIDUAL</td>\n",
              "      <td>0.0</td>\n",
              "      <td>0.0</td>\n",
              "      <td>0.0</td>\n",
              "      <td>0</td>\n",
              "      <td>0.0</td>\n",
              "      <td>1</td>\n",
              "    </tr>\n",
              "  </tbody>\n",
              "</table>\n",
              "<p>5 rows × 57 columns</p>\n",
              "</div>\n",
              "      <button class=\"colab-df-convert\" onclick=\"convertToInteractive('df-b20b3a98-2ca9-409b-a2de-da54dc5a94b7')\"\n",
              "              title=\"Convert this dataframe to an interactive table.\"\n",
              "              style=\"display:none;\">\n",
              "        \n",
              "  <svg xmlns=\"http://www.w3.org/2000/svg\" height=\"24px\"viewBox=\"0 0 24 24\"\n",
              "       width=\"24px\">\n",
              "    <path d=\"M0 0h24v24H0V0z\" fill=\"none\"/>\n",
              "    <path d=\"M18.56 5.44l.94 2.06.94-2.06 2.06-.94-2.06-.94-.94-2.06-.94 2.06-2.06.94zm-11 1L8.5 8.5l.94-2.06 2.06-.94-2.06-.94L8.5 2.5l-.94 2.06-2.06.94zm10 10l.94 2.06.94-2.06 2.06-.94-2.06-.94-.94-2.06-.94 2.06-2.06.94z\"/><path d=\"M17.41 7.96l-1.37-1.37c-.4-.4-.92-.59-1.43-.59-.52 0-1.04.2-1.43.59L10.3 9.45l-7.72 7.72c-.78.78-.78 2.05 0 2.83L4 21.41c.39.39.9.59 1.41.59.51 0 1.02-.2 1.41-.59l7.78-7.78 2.81-2.81c.8-.78.8-2.07 0-2.86zM5.41 20L4 18.59l7.72-7.72 1.47 1.35L5.41 20z\"/>\n",
              "  </svg>\n",
              "      </button>\n",
              "      \n",
              "  <style>\n",
              "    .colab-df-container {\n",
              "      display:flex;\n",
              "      flex-wrap:wrap;\n",
              "      gap: 12px;\n",
              "    }\n",
              "\n",
              "    .colab-df-convert {\n",
              "      background-color: #E8F0FE;\n",
              "      border: none;\n",
              "      border-radius: 50%;\n",
              "      cursor: pointer;\n",
              "      display: none;\n",
              "      fill: #1967D2;\n",
              "      height: 32px;\n",
              "      padding: 0 0 0 0;\n",
              "      width: 32px;\n",
              "    }\n",
              "\n",
              "    .colab-df-convert:hover {\n",
              "      background-color: #E2EBFA;\n",
              "      box-shadow: 0px 1px 2px rgba(60, 64, 67, 0.3), 0px 1px 3px 1px rgba(60, 64, 67, 0.15);\n",
              "      fill: #174EA6;\n",
              "    }\n",
              "\n",
              "    [theme=dark] .colab-df-convert {\n",
              "      background-color: #3B4455;\n",
              "      fill: #D2E3FC;\n",
              "    }\n",
              "\n",
              "    [theme=dark] .colab-df-convert:hover {\n",
              "      background-color: #434B5C;\n",
              "      box-shadow: 0px 1px 3px 1px rgba(0, 0, 0, 0.15);\n",
              "      filter: drop-shadow(0px 1px 2px rgba(0, 0, 0, 0.3));\n",
              "      fill: #FFFFFF;\n",
              "    }\n",
              "  </style>\n",
              "\n",
              "      <script>\n",
              "        const buttonEl =\n",
              "          document.querySelector('#df-b20b3a98-2ca9-409b-a2de-da54dc5a94b7 button.colab-df-convert');\n",
              "        buttonEl.style.display =\n",
              "          google.colab.kernel.accessAllowed ? 'block' : 'none';\n",
              "\n",
              "        async function convertToInteractive(key) {\n",
              "          const element = document.querySelector('#df-b20b3a98-2ca9-409b-a2de-da54dc5a94b7');\n",
              "          const dataTable =\n",
              "            await google.colab.kernel.invokeFunction('convertToInteractive',\n",
              "                                                     [key], {});\n",
              "          if (!dataTable) return;\n",
              "\n",
              "          const docLinkHtml = 'Like what you see? Visit the ' +\n",
              "            '<a target=\"_blank\" href=https://colab.research.google.com/notebooks/data_table.ipynb>data table notebook</a>'\n",
              "            + ' to learn more about interactive tables.';\n",
              "          element.innerHTML = '';\n",
              "          dataTable['output_type'] = 'display_data';\n",
              "          await google.colab.output.renderOutput(dataTable, element);\n",
              "          const docLink = document.createElement('div');\n",
              "          docLink.innerHTML = docLinkHtml;\n",
              "          element.appendChild(docLink);\n",
              "        }\n",
              "      </script>\n",
              "    </div>\n",
              "  </div>\n",
              "  "
            ]
          },
          "metadata": {},
          "execution_count": 149
        }
      ]
    },
    {
      "cell_type": "code",
      "source": [
        "df.select_dtypes(include = ['object']).columns"
      ],
      "metadata": {
        "colab": {
          "base_uri": "https://localhost:8080/"
        },
        "id": "vchJRGqfd16u",
        "outputId": "effd9ebb-bd2e-49e4-d839-074bf33399b4"
      },
      "execution_count": 150,
      "outputs": [
        {
          "output_type": "execute_result",
          "data": {
            "text/plain": [
              "Index(['id', 'term', 'int_rate', 'grade', 'sub_grade', 'emp_title',\n",
              "       'home_ownership', 'verification_status', 'pymnt_plan', 'url', 'purpose',\n",
              "       'title', 'zip_code', 'addr_state', 'revol_util', 'initial_list_status',\n",
              "       'last_pymnt_d', 'last_credit_pull_d', 'application_type'],\n",
              "      dtype='object')"
            ]
          },
          "metadata": {},
          "execution_count": 150
        }
      ]
    },
    {
      "cell_type": "code",
      "source": [
        "columns_to_keep = ['loan_amnt', 'funded_amnt', 'funded_amnt_inv',\n",
        "       'term', 'int_rate', 'installment', 'grade', 'sub_grade', 'emp_length',\n",
        "       'home_ownership', 'annual_inc', 'verification_status',\n",
        "       'pymnt_plan', 'purpose', 'title',  'addr_state',\n",
        "       'dti', 'delinq_2yrs', 'earliest_cr_line', 'fico_range_low',\n",
        "       'fico_range_high', 'inq_last_6mths', 'open_acc', 'pub_rec', 'revol_bal',\n",
        "       'revol_util', 'total_acc', 'out_prncp',\n",
        "       'out_prncp_inv', 'total_pymnt', 'total_pymnt_inv', 'total_rec_prncp',\n",
        "       'total_rec_int', 'total_rec_late_fee', 'recoveries',\n",
        "       'collection_recovery_fee', 'last_pymnt_d', 'last_pymnt_amnt',\n",
        "       'last_credit_pull_d', 'last_fico_range_high', 'last_fico_range_low',\n",
        "       'collections_12_mths_ex_med', 'policy_code', 'application_type',\n",
        "       'acc_now_delinq', 'chargeoff_within_12_mths', 'delinq_amnt',\n",
        "       'pub_rec_bankruptcies', 'tax_liens', 'loan_status']"
      ],
      "metadata": {
        "id": "zzTxyGxCeKEO"
      },
      "execution_count": 151,
      "outputs": []
    },
    {
      "cell_type": "code",
      "source": [
        "df = df[columns_to_keep]\n"
      ],
      "metadata": {
        "id": "k0bvdVAEeswS"
      },
      "execution_count": 152,
      "outputs": []
    },
    {
      "cell_type": "code",
      "source": [
        "df.columns"
      ],
      "metadata": {
        "colab": {
          "base_uri": "https://localhost:8080/"
        },
        "id": "XMAfSLPzexTN",
        "outputId": "87eb1b4f-05eb-4cb8-f991-4006d01b9a36"
      },
      "execution_count": 153,
      "outputs": [
        {
          "output_type": "execute_result",
          "data": {
            "text/plain": [
              "Index(['loan_amnt', 'funded_amnt', 'funded_amnt_inv', 'term', 'int_rate',\n",
              "       'installment', 'grade', 'sub_grade', 'emp_length', 'home_ownership',\n",
              "       'annual_inc', 'verification_status', 'pymnt_plan', 'purpose', 'title',\n",
              "       'addr_state', 'dti', 'delinq_2yrs', 'earliest_cr_line',\n",
              "       'fico_range_low', 'fico_range_high', 'inq_last_6mths', 'open_acc',\n",
              "       'pub_rec', 'revol_bal', 'revol_util', 'total_acc', 'out_prncp',\n",
              "       'out_prncp_inv', 'total_pymnt', 'total_pymnt_inv', 'total_rec_prncp',\n",
              "       'total_rec_int', 'total_rec_late_fee', 'recoveries',\n",
              "       'collection_recovery_fee', 'last_pymnt_d', 'last_pymnt_amnt',\n",
              "       'last_credit_pull_d', 'last_fico_range_high', 'last_fico_range_low',\n",
              "       'collections_12_mths_ex_med', 'policy_code', 'application_type',\n",
              "       'acc_now_delinq', 'chargeoff_within_12_mths', 'delinq_amnt',\n",
              "       'pub_rec_bankruptcies', 'tax_liens', 'loan_status'],\n",
              "      dtype='object')"
            ]
          },
          "metadata": {},
          "execution_count": 153
        }
      ]
    },
    {
      "cell_type": "code",
      "source": [
        "# Using Label encoder on categorical columns\n",
        "df[['term','int_rate', 'grade', 'sub_grade', 'home_ownership',\n",
        "       'verification_status',  'pymnt_plan',  'purpose',\n",
        "       'title',  'addr_state', 'earliest_cr_line', 'revol_util',\n",
        "        'last_pymnt_d', 'last_credit_pull_d',\n",
        "       'application_type']] = df[['term','int_rate', 'grade', 'sub_grade', 'home_ownership',\n",
        "       'verification_status', 'pymnt_plan',  'purpose',\n",
        "       'title',  'addr_state', 'earliest_cr_line', 'revol_util',\n",
        "        'last_pymnt_d', 'last_credit_pull_d',\n",
        "       'application_type']].apply(LabelEncoder().fit_transform)\n",
        "     "
      ],
      "metadata": {
        "id": "kRCtyEJKcb96",
        "colab": {
          "base_uri": "https://localhost:8080/"
        },
        "outputId": "1f34b588-01fd-4e29-c0c5-f84b0b474ebe"
      },
      "execution_count": 154,
      "outputs": [
        {
          "output_type": "stream",
          "name": "stderr",
          "text": [
            "/usr/local/lib/python3.9/dist-packages/pandas/core/frame.py:3641: SettingWithCopyWarning: \n",
            "A value is trying to be set on a copy of a slice from a DataFrame.\n",
            "Try using .loc[row_indexer,col_indexer] = value instead\n",
            "\n",
            "See the caveats in the documentation: https://pandas.pydata.org/pandas-docs/stable/user_guide/indexing.html#returning-a-view-versus-a-copy\n",
            "  self[k1] = value[k2]\n"
          ]
        }
      ]
    },
    {
      "cell_type": "code",
      "source": [
        "df.info()"
      ],
      "metadata": {
        "colab": {
          "base_uri": "https://localhost:8080/"
        },
        "id": "pHTM_jpAcb8B",
        "outputId": "37742569-bd54-49ab-d282-0c279cf0d74c"
      },
      "execution_count": 155,
      "outputs": [
        {
          "output_type": "stream",
          "name": "stdout",
          "text": [
            "<class 'pandas.core.frame.DataFrame'>\n",
            "Int64Index: 26166 entries, 1 to 42373\n",
            "Data columns (total 50 columns):\n",
            " #   Column                      Non-Null Count  Dtype  \n",
            "---  ------                      --------------  -----  \n",
            " 0   loan_amnt                   26166 non-null  float64\n",
            " 1   funded_amnt                 26166 non-null  float64\n",
            " 2   funded_amnt_inv             26166 non-null  float64\n",
            " 3   term                        26166 non-null  int64  \n",
            " 4   int_rate                    26166 non-null  int64  \n",
            " 5   installment                 26166 non-null  float64\n",
            " 6   grade                       26166 non-null  int64  \n",
            " 7   sub_grade                   26166 non-null  int64  \n",
            " 8   emp_length                  26166 non-null  int64  \n",
            " 9   home_ownership              26166 non-null  int64  \n",
            " 10  annual_inc                  26166 non-null  float64\n",
            " 11  verification_status         26166 non-null  int64  \n",
            " 12  pymnt_plan                  26166 non-null  int64  \n",
            " 13  purpose                     26166 non-null  int64  \n",
            " 14  title                       26166 non-null  int64  \n",
            " 15  addr_state                  26166 non-null  int64  \n",
            " 16  dti                         26166 non-null  float64\n",
            " 17  delinq_2yrs                 26166 non-null  float64\n",
            " 18  earliest_cr_line            26166 non-null  int64  \n",
            " 19  fico_range_low              26166 non-null  int64  \n",
            " 20  fico_range_high             26166 non-null  int64  \n",
            " 21  inq_last_6mths              26166 non-null  float64\n",
            " 22  open_acc                    26166 non-null  float64\n",
            " 23  pub_rec                     26166 non-null  int64  \n",
            " 24  revol_bal                   26166 non-null  float64\n",
            " 25  revol_util                  26166 non-null  int64  \n",
            " 26  total_acc                   26166 non-null  float64\n",
            " 27  out_prncp                   26166 non-null  float64\n",
            " 28  out_prncp_inv               26166 non-null  float64\n",
            " 29  total_pymnt                 26166 non-null  float64\n",
            " 30  total_pymnt_inv             26166 non-null  float64\n",
            " 31  total_rec_prncp             26166 non-null  float64\n",
            " 32  total_rec_int               26166 non-null  float64\n",
            " 33  total_rec_late_fee          26166 non-null  float64\n",
            " 34  recoveries                  26166 non-null  float64\n",
            " 35  collection_recovery_fee     26166 non-null  float64\n",
            " 36  last_pymnt_d                26166 non-null  int64  \n",
            " 37  last_pymnt_amnt             26166 non-null  float64\n",
            " 38  last_credit_pull_d          26166 non-null  int64  \n",
            " 39  last_fico_range_high        26166 non-null  float64\n",
            " 40  last_fico_range_low         26166 non-null  float64\n",
            " 41  collections_12_mths_ex_med  26166 non-null  float64\n",
            " 42  policy_code                 26166 non-null  float64\n",
            " 43  application_type            26166 non-null  int64  \n",
            " 44  acc_now_delinq              26166 non-null  float64\n",
            " 45  chargeoff_within_12_mths    26166 non-null  float64\n",
            " 46  delinq_amnt                 26166 non-null  float64\n",
            " 47  pub_rec_bankruptcies        26166 non-null  int64  \n",
            " 48  tax_liens                   26166 non-null  float64\n",
            " 49  loan_status                 26166 non-null  int64  \n",
            "dtypes: float64(29), int64(21)\n",
            "memory usage: 11.2 MB\n"
          ]
        }
      ]
    },
    {
      "cell_type": "code",
      "source": [
        "#Exporting final data for model building\n",
        "\n",
        "df.to_csv('/content/drive/My Drive/Jforce/finaldata.csv', encoding='utf-8', index=False)"
      ],
      "metadata": {
        "id": "9y--0eykeb22"
      },
      "execution_count": 156,
      "outputs": []
    }
  ]
}